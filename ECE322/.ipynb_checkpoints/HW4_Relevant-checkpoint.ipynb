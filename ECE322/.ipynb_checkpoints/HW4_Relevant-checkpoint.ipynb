{
 "cells": [
  {
   "cell_type": "raw",
   "metadata": {},
   "source": [
    "HW 4 relevant notebook for ECE 322 - User input, string input, string manipulation, csv files\n",
    "Python has nicer built-in tools for string manipulation than MATLAB does, probably why it is so popular for web application development"
   ]
  },
  {
   "cell_type": "markdown",
   "metadata": {},
   "source": [
    "Problem 1: User input example"
   ]
  },
  {
   "cell_type": "code",
   "execution_count": 1,
   "metadata": {
    "collapsed": false
   },
   "outputs": [
    {
     "name": "stdout",
     "output_type": "stream",
     "text": [
      "What numbers would you like to multiply\n",
      "First number = 4\n",
      "Second number = 5\n"
     ]
    }
   ],
   "source": [
    "print('What numbers would you like to multiply')\n",
    "number1=input('First number = ')\n",
    "number2=input('Second number = ')\n",
    "#This kind of input may be more useful in a regular python program than in a notebook, \n",
    "#because in a notebook the user could just edit a cell"
   ]
  },
  {
   "cell_type": "code",
   "execution_count": 2,
   "metadata": {
    "collapsed": false
   },
   "outputs": [
    {
     "data": {
      "text/plain": [
       "'45'"
      ]
     },
     "execution_count": 2,
     "metadata": {},
     "output_type": "execute_result"
    }
   ],
   "source": [
    "number1+number2  #what will this do: Python string addition. Try to multiply strings, it hates that.\n",
    "#To do math, we need to change the strings to numbers."
   ]
  },
  {
   "cell_type": "code",
   "execution_count": 3,
   "metadata": {
    "collapsed": false
   },
   "outputs": [
    {
     "data": {
      "text/plain": [
       "20"
      ]
     },
     "execution_count": 3,
     "metadata": {},
     "output_type": "execute_result"
    }
   ],
   "source": [
    "int(number1)*int(number2)  #if you wanted to use decimals instead of integers, do float(number1)*float(number2)"
   ]
  },
  {
   "cell_type": "markdown",
   "metadata": {},
   "source": [
    "Problem 2 relevant examples: String substitution"
   ]
  },
  {
   "cell_type": "code",
   "execution_count": 4,
   "metadata": {
    "collapsed": false
   },
   "outputs": [
    {
     "data": {
      "text/plain": [
       "'I saw Carrot Top eating french fried potatoes at Disneyland weeks ago'"
      ]
     },
     "execution_count": 4,
     "metadata": {},
     "output_type": "execute_result"
    }
   ],
   "source": [
    "#Here is the most easy to read style of string substitution\n",
    "SomePerson='Carrot Top'\n",
    "SomePlace='Disneyland'\n",
    "SomeActivity='eating french fried potatoes'\n",
    "#We will drop these little strings into a new string using {} notation and the .format() method on the new string\n",
    "'I saw {name} {activity} at {place} weeks ago'.format(name=SomePerson,place=SomePlace,activity=SomeActivity) #Name, place, activity don't have to be in order\n",
    "#See https://realpython.com/python-string-formatting/ for other ways to do it; some ways are shorter but less legible"
   ]
  },
  {
   "cell_type": "code",
   "execution_count": 5,
   "metadata": {
    "collapsed": false
   },
   "outputs": [
    {
     "data": {
      "text/plain": [
       "'I saw Carrot Top eating french fried potatoes at Disneyland 4.571428571428571 weeks ago'"
      ]
     },
     "execution_count": 5,
     "metadata": {},
     "output_type": "execute_result"
    }
   ],
   "source": [
    "#Still on Problem 2, what if we had a number that was the result of a math operation, and we wanted to put it\n",
    "#in the middle of a string??\n",
    "SomeNumber=32/7\n",
    "#Just try it\n",
    "'I saw {name} {activity} at {place} {number} weeks ago'.format(name=SomePerson,place=SomePlace,activity=SomeActivity, number=SomeNumber)"
   ]
  },
  {
   "cell_type": "code",
   "execution_count": 6,
   "metadata": {
    "collapsed": false
   },
   "outputs": [
    {
     "data": {
      "text/plain": [
       "'I saw Carrot Top eating french fried potatoes at Disneyland 4.6 weeks ago'"
      ]
     },
     "execution_count": 6,
     "metadata": {},
     "output_type": "execute_result"
    }
   ],
   "source": [
    "#Blech, why not round the number to fewer decimal places. Can we do it in place in the .format() method? \n",
    "#Yes check out how I change the {number} placeholder with a .2\n",
    "#More about that here https://mkaz.blog/code/python-string-format-cookbook/\n",
    "'I saw {name} {activity} at {place} {number:.2} weeks ago'.format(name=SomePerson,place=SomePlace,activity=SomeActivity, number=SomeNumber)"
   ]
  },
  {
   "cell_type": "markdown",
   "metadata": {},
   "source": [
    "Problem 3 relevant example: Combine ideas from 1 and 2, get user input and drop it into a plot title "
   ]
  },
  {
   "cell_type": "code",
   "execution_count": 10,
   "metadata": {
    "collapsed": false
   },
   "outputs": [
    {
     "name": "stdout",
     "output_type": "stream",
     "text": [
      "What should I use for a plot titleWell this is a plot\n"
     ]
    },
    {
     "data": {
      "image/png": "[encoded data removed]",
      "text/plain": [
       "<Figure size 432x288 with 1 Axes>"
      ]
     },
     "metadata": {
      "needs_background": "light"
     },
     "output_type": "display_data"
    }
   ],
   "source": [
    "#First make a plot. I will review how to do a linear fit to some data here. The goal of a linear fit is find \n",
    "#M and B in y= Mx + B, where the (x,y) values are data from an experiment.\n",
    "\n",
    "import numpy as np  #Now we have numpy available for this cell and all below. I don't have to insert it at the top cell\n",
    "x=np.linspace(0,10,12)  #A new vector from 0 to 10 with 12 items\n",
    "y= 3*x + 10*np.random.rand(len(x)) #\"Data\" with an underlying linear shape, but with added noise\n",
    "#Adjust the multiplier on x to change the slope, and the multiplier on the random term to change the noise level.\n",
    "\n",
    "from matplotlib import pyplot as plt #And we can make plots from here on down\n",
    "\n",
    "#Do %matplotlib inline if plots aren't showing up\n",
    "%matplotlib inline \n",
    "\n",
    "plt.plot(x,y,'.')  #3rd argument is the linespec, meaning how to display the points. Like MATLAB- Default is a blue line\n",
    "\n",
    "p=np.polyfit(x,y,1) #With the 3rd argument of polyfit set at 1, p will be a \"first order\" fit. \n",
    "#p will contain 2 coefficients that describe a line.\n",
    "#A length 2 vector [M,B] of best slope and y-intercept\n",
    "#that minimize the distance of the data from the line ('least squares' method)\n",
    "#The coefficients are listed in order of highest power to lowest.\n",
    "#polyfit works the same way in MATLAB\n",
    "\n",
    "M=p[0]  #Slope\n",
    "B=p[1]  #Y-intercept\n",
    "\n",
    "\n",
    "#Calculate a line that follows the fit by using polyval, and draw it on the plot\n",
    "yfit=np.polyval(p,x) #polyval calculates y = Mx + B for each x in my x-vector. just like in matlab\n",
    "plt.plot(x,yfit,'r') #linespec 'r' is a solid red line like in MATLAB\n",
    "\n",
    "#Notice that M and B are changing a bit as we cycle through different random numbers. \n",
    "#In your homework, you will use the values of M and B\n",
    "#to change the plot title, and will have to use the methods at the end of the previous section because you're going\n",
    "#from the result of a math operation into a string. Here I will just ask for user input\n",
    "\n",
    "plt.xlabel('x')\n",
    "plt.ylabel('y')\n",
    "\n",
    "MyPlotTitle=input('What should I use for a plot title')\n",
    "plt.title(MyPlotTitle)\n",
    "\n",
    "plt.savefig('MyExamplePlot.eps') #Savefig saves the plot in a format determined by the file extension you pick.\n",
    "#This plot will be in the same folder as your .ipynb file.\n",
    "#Try png, pdf, ps, eps and svg. .eps is a crisp vector format that can be edited in illustrator or other vector programs."
   ]
  },
  {
   "cell_type": "markdown",
   "metadata": {},
   "source": [
    "Problem 4 relevant example"
   ]
  },
  {
   "cell_type": "code",
   "execution_count": null,
   "metadata": {
    "collapsed": true
   },
   "outputs": [],
   "source": [
    "#Change every space in this sentence into a '*' using Python\n",
    "#Much background info here https://automatetheboringstuff.com/chapter7/\n",
    "#Here is a small text-replacement example"
   ]
  },
  {
   "cell_type": "code",
   "execution_count": 81,
   "metadata": {
    "collapsed": false
   },
   "outputs": [
    {
     "data": {
      "text/plain": [
       "'whaT TimE would you likE your BrEakfasT'"
      ]
     },
     "execution_count": 81,
     "metadata": {},
     "output_type": "execute_result"
    }
   ],
   "source": [
    "Mytext='what time would you like your breakfast'\n",
    "Mytext=Mytext.replace('b','B')\n",
    "Mytext=Mytext.replace('t','T')\n",
    "Mytext=Mytext.replace('e','E')\n",
    "Mytext"
   ]
  },
  {
   "cell_type": "markdown",
   "metadata": {},
   "source": [
    "Problem 5 relevant example"
   ]
  },
  {
   "cell_type": "code",
   "execution_count": 82,
   "metadata": {
    "collapsed": false
   },
   "outputs": [
    {
     "data": {
      "text/plain": [
       "'whaT 7mE would you likE your 77kfasT'"
      ]
     },
     "execution_count": 82,
     "metadata": {},
     "output_type": "execute_result"
    }
   ],
   "source": [
    "#Regular expressions look for patterns. \n",
    "#Test them here https://regex101.com/r/iC9sS4/1\n",
    "#If I wanted to replace every pair of uppercase/lowercase letters with a 7\n",
    "import re\n",
    "text2=Mytext #get a copy of Mytext\n",
    "re.sub(r'[A-Z][a-z]','7',text2) \n"
   ]
  },
  {
   "cell_type": "markdown",
   "metadata": {},
   "source": [
    "Problem 6 relevant example"
   ]
  },
  {
   "cell_type": "code",
   "execution_count": 60,
   "metadata": {
    "collapsed": false
   },
   "outputs": [
    {
     "data": {
      "text/plain": [
       "({2, 'B'}, {1, 2, 3, 4, 8, 'B'})"
      ]
     },
     "execution_count": 60,
     "metadata": {},
     "output_type": "execute_result"
    }
   ],
   "source": [
    "#Python \"sets\" can be used to find matching and unique items in a list\n",
    "a = [1,2,3,4,\"B\",3]\n",
    "b = [2, \"B\",8]\n",
    "sa = set(a)\n",
    "sb = set(b)\n",
    "ListIntersection = sa.intersection(sb)\n",
    "ListUnion = sa.union(sb)\n",
    "ListIntersection,ListUnion  #note that Union doesn't show duplicate items\n",
    "#You could use Intersection to find names of students taking both 322 and 412"
   ]
  },
  {
   "cell_type": "markdown",
   "metadata": {},
   "source": [
    "Problem 7 relevant example"
   ]
  },
  {
   "cell_type": "code",
   "execution_count": null,
   "metadata": {
    "collapsed": true
   },
   "outputs": [],
   "source": [
    "#When I collect data from sensors or send data to a machine that needs x,y coordinates,\n",
    "#it seems like 90% of the time I am dealing with CSV files.\n",
    "#CSV stands for comma-separated values\n",
    "# 1,2,3\n",
    "# 2,3,4\n",
    "# 1,3,4\n",
    "# 2,2,4  #Example of a CSV file that would create 3 columns with 4 rows when opened in Excel.\n",
    "#When opened in Excel they look like a spreadsheet, and can be saved to Excel format\n",
    "\n",
    "#How can we open and save .csv files....? See example in HW3_Relevant notebook."
   ]
  },
  {
   "cell_type": "markdown",
   "metadata": {},
   "source": [
    "Problem 8 relevant example"
   ]
  },
  {
   "cell_type": "code",
   "execution_count": 72,
   "metadata": {
    "collapsed": false
   },
   "outputs": [
    {
     "data": {
      "text/plain": [
       "('you', 'and', 'Engineering')"
      ]
     },
     "execution_count": 72,
     "metadata": {},
     "output_type": "execute_result"
    }
   ],
   "source": [
    "#You could see Prob 8 as another regex problem like \"This time we are looking to replace any 5 non-space characters\"\n",
    "#Or it is a chance to use the split function. You could use split to separate the text block into strings.\n",
    "#Then use Python to find all 5 letter strings. Then, reassemble! Here is an example\n",
    "\n",
    "RandomExampleTextFromMyEmail='As you already know, ECCS and all of the divisions in the Engineering Directorate are half way through our first year of no deadlines for our core programs.  We continue to encourage submissions to all our core programs at any time throughout the year and remind you that Program Directors in those programs are available to discuss your research ideas and provide feedback if you have any questions about program alignment'\n",
    "RandomWords=RandomExampleTextFromMyEmail.split() #Default split works on white space. \n",
    "#It is going to leave a comma on the end of one of the words but that is okay for now\n",
    "RandomWords[1], RandomWords[5], RandomWords [12]  #Show what happened: RandomWords is a list of the individual words\n",
    "\n"
   ]
  },
  {
   "cell_type": "code",
   "execution_count": 76,
   "metadata": {
    "collapsed": false
   },
   "outputs": [
    {
     "data": {
      "text/plain": [
       "['As',\n",
       " 'you',\n",
       " 'already',\n",
       " 'know,',\n",
       " 'ECCS',\n",
       " 'and',\n",
       " 'all',\n",
       " 'of',\n",
       " 'the',\n",
       " 'snoisivid',\n",
       " 'in',\n",
       " 'the',\n",
       " 'Engineering',\n",
       " 'Directorate',\n",
       " 'are',\n",
       " 'half',\n",
       " 'way',\n",
       " 'through',\n",
       " 'our',\n",
       " 'first',\n",
       " 'year',\n",
       " 'of',\n",
       " 'no',\n",
       " 'senildaed',\n",
       " 'for',\n",
       " 'our',\n",
       " 'core',\n",
       " 'programs.',\n",
       " 'We',\n",
       " 'continue',\n",
       " 'to',\n",
       " 'encourage',\n",
       " 'submissions',\n",
       " 'to',\n",
       " 'all',\n",
       " 'our',\n",
       " 'core',\n",
       " 'programs',\n",
       " 'at',\n",
       " 'any',\n",
       " 'time',\n",
       " 'throughout',\n",
       " 'the',\n",
       " 'year',\n",
       " 'and',\n",
       " 'remind',\n",
       " 'you',\n",
       " 'that',\n",
       " 'Program',\n",
       " 'Directors',\n",
       " 'in',\n",
       " 'those',\n",
       " 'programs',\n",
       " 'are',\n",
       " 'available',\n",
       " 'to',\n",
       " 'ssucsid',\n",
       " 'your',\n",
       " 'research',\n",
       " 'ideas',\n",
       " 'and',\n",
       " 'provide',\n",
       " 'feedback',\n",
       " 'if',\n",
       " 'you',\n",
       " 'have',\n",
       " 'any',\n",
       " 'questions',\n",
       " 'about',\n",
       " 'program',\n",
       " 'alignment']"
      ]
     },
     "execution_count": 76,
     "metadata": {},
     "output_type": "execute_result"
    }
   ],
   "source": [
    "NewWords=[] #Blank list to collect modified and unmodified words\n",
    "for word in RandomWords:  #word is a new variable I made up, it will cycle through each item in RandomWords in order\n",
    "    \n",
    "    if word[0]=='d':  #if the first letter of the word is lowercase d  (here you could instead do a length test or whatever)\n",
    "        NewWords.append(word[::-1])#Modify the word somehow. Here I am reversing the word\n",
    "    else:\n",
    "        NewWords.append(word) #Here I am leaving the word alone because it didn't start with 'd'\n",
    "    \n",
    "NewWords"
   ]
  },
  {
   "cell_type": "code",
   "execution_count": 79,
   "metadata": {
    "collapsed": false
   },
   "outputs": [
    {
     "data": {
      "text/plain": [
       "'As you already know, ECCS and all of the snoisivid in the Engineering Directorate are half way through our first year of no senildaed for our core programs. We continue to encourage submissions to all our core programs at any time throughout the year and remind you that Program Directors in those programs are available to ssucsid your research ideas and provide feedback if you have any questions about program alignment'"
      ]
     },
     "execution_count": 79,
     "metadata": {},
     "output_type": "execute_result"
    }
   ],
   "source": [
    "#Make it back into a single string\n",
    "ModifiedText=' '.join(NewWords)  #This syntax takes a space ' ' and applies the join method. Join NewWords together with a space in between\n",
    "ModifiedText"
   ]
  },
  {
   "cell_type": "code",
   "execution_count": null,
   "metadata": {
    "collapsed": true
   },
   "outputs": [],
   "source": [
    "#I have questions about what 'snoisivid' is"
   ]
  }
 ],
 "metadata": {
  "kernelspec": {
   "display_name": "Python 3",
   "language": "python",
   "name": "python3"
  },
  "language_info": {
   "codemirror_mode": {
    "name": "ipython",
    "version": 3
   },
   "file_extension": ".py",
   "mimetype": "text/x-python",
   "name": "python",
   "nbconvert_exporter": "python",
   "pygments_lexer": "ipython3",
   "version": "3.7.1"
  },
  "widgets": {
   "state": {},
   "version": "1.1.2"
  }
 },
 "nbformat": 4,
 "nbformat_minor": 0
}
