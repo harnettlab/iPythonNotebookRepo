{
 "cells": [
  {
   "cell_type": "code",
   "execution_count": 295,
   "metadata": {
    "collapsed": false
   },
   "outputs": [
    {
     "name": "stdout",
     "output_type": "stream",
     "text": [
      "Hello I switched to Python 3 from Python 2\n",
      "Learn Python math by working on some calculations related to a magnetic crawler\n"
     ]
    }
   ],
   "source": [
    "import numpy as np\n",
    "from matplotlib import pyplot as plt\n",
    "print('Hello I switched to Python 3 from Python 2')\n",
    "print('Learn Python math by working on some calculations related to a magnetic crawler')"
   ]
  },
  {
   "cell_type": "code",
   "execution_count": 296,
   "metadata": {
    "collapsed": false
   },
   "outputs": [
    {
     "name": "stdout",
     "output_type": "stream",
     "text": [
      "Things to pay attention to: How functions are defined. Whether you can import numpy and matplotlib.\n",
      "And, how to do a calculation on an array. It is a little different from MATLAB\n",
      "Dont get distracted by details of magnetic units etc\n"
     ]
    }
   ],
   "source": [
    "print('Things to pay attention to: How functions are defined. Whether you can import numpy and matplotlib.')\n",
    "print('And, how to do a calculation on an array. It is a little different from MATLAB')\n",
    "print('Dont get distracted by details of magnetic units etc') #unless you are in 473"
   ]
  },
  {
   "cell_type": "code",
   "execution_count": 297,
   "metadata": {
    "collapsed": false
   },
   "outputs": [],
   "source": [
    "I=2 #Current in amps where wire temp is <200C. \n",
    "\n",
    "#34-gauge magnet wire can stay below 200 C if it carries a max current of 2A \n",
    "#There isn't a simple formula for it but there are plenty of charts available\n",
    "#Later, for different wire radius, I can interpolate these max currents from the chart.\n",
    "\n",
    "\n",
    "r=160e-6/2 #Magnet wire radius in meters. 34-gauge magnet wire is 160 micron diameter and 40 gauge is 79. I guess the 0.5 mil insulation would add 25 micron but I will ignore\n",
    "\n",
    "Br = 1.3200 #residual magnetic flux density for N42 grade NdFeB in tesla (1T = 10000 Gausss, usually Br is given as 13200 Gauss) \n",
    "#https://www.kjmagnetics.com/blog.asp?p=magnet-grade\n"
   ]
  },
  {
   "cell_type": "markdown",
   "metadata": {},
   "source": [
    "#Other notes: NdFeB curie temp is 310 C. Typical NdFeB grade N temp is sub 80 C- don't let it touch the hot wire very long! N52 grade is even worse, should be kept less than 60 c\n",
    "#Working above 80 C won't demagnetize but the magnet won't be as strong.\n",
    "#NdFeB density 7.5 grams/cc, use this for finding magnet mass"
   ]
  },
  {
   "cell_type": "code",
   "execution_count": 298,
   "metadata": {
    "collapsed": true
   },
   "outputs": [],
   "source": [
    "def SphereVol(a): #a is magnet radius in meters\n",
    "    myvol = 4/3 * np.pi* a**3 #try some little experiments with order of operations\n",
    "    return myvol #magnet volume in cubic meters\n",
    "\n",
    "def NdFeBmass(vol):#given a volume in cubic meters, return magnet mass in kg\n",
    "    return vol*7500"
   ]
  },
  {
   "cell_type": "code",
   "execution_count": 299,
   "metadata": {
    "collapsed": true
   },
   "outputs": [],
   "source": [
    "def H(I,rho): #Magnetic field in A/m outside wire\n",
    "    return I/(2*np.pi*rho)\n",
    "\n",
    "def F(I,r,ayyy):  #force on magnet oriented azimuthally and treated as if the whole magnet were at rho=r+a\n",
    "    return Br*SphereVol(ayyy)*I/(2*np.pi*(r+a)**2)  #as long as I am consistent I can use the variable names that were passed"
   ]
  },
  {
   "cell_type": "code",
   "execution_count": 300,
   "metadata": {
    "collapsed": false
   },
   "outputs": [
    {
     "data": {
      "text/plain": [
       "(3978.8735772973832, False)"
      ]
     },
     "execution_count": 300,
     "metadata": {},
     "output_type": "execute_result"
    }
   ],
   "source": [
    "#Check whether the magnet in danger of getting remagnetized? \n",
    "#To flip a magnet, one must apply a peak field of between 2 and 2.5 times the intrinsic coercivity.  \n",
    "#For NdFeB magnets, the coercivity Hci is 750-2000 kA/m. Specificially for N42 grade NdFeB,\n",
    "#KJ Magnetics gives 12 kOe. Multiply by 79.57747 to go from Oersteds (Oe) to A/m.\n",
    "#That means Hci for N42 grade that I used in the experiments is 955 kA/m\n",
    "#So check that the magnetic field stays below 2*955 kA/m or it will remagnetize the magnet.\n",
    "\n",
    "Hmax=H(2,r)#Magnetic field in A/m at surface of the wire. \n",
    "#No, not even with 1 micron diameter wire even if it could carry 2 Amps which it can't even. apparently it takes a lot of windings\n",
    "#to remagnetize these magnets.\n",
    "Hmax, Hmax > 1910000 #Is it more than the A/m needed to remagnetize?"
   ]
  },
  {
   "cell_type": "code",
   "execution_count": 301,
   "metadata": {
    "collapsed": false
   },
   "outputs": [
    {
     "data": {
      "text/plain": [
       "1e-05"
      ]
     },
     "execution_count": 301,
     "metadata": {},
     "output_type": "execute_result"
    }
   ],
   "source": [
    "#Array of spherical magnet radii in meters\n",
    "RadiusArray=np.linspace(10e-6,75e-6, num=50)  #Start, end, and number of values you want between\n",
    "#linspace generates an evenly spaced array starting at 1x10^-5 and ending at 7.5x10^-5, with 50 values by default\n",
    "#or num of values you specify with the num argument\n",
    "RadiusArray[0]#What if we want to see the first element in this array. RadiusArray(1) -nope error, round parentheses bad\n",
    "#Use [] to get individual elements, and Python arrays start at index 0 instead of 1 like Matlab.\n",
    "#RadiusArray[0:10] #Get me first 10 elements\n",
    "#RadiusArray [-1] #Get me last element\n",
    "#len(RadiusArray) #Gives me 50 back if I created an array w 50 elements"
   ]
  },
  {
   "cell_type": "code",
   "execution_count": 302,
   "metadata": {
    "collapsed": false
   },
   "outputs": [],
   "source": [
    "#Array of forces holding a magnetic sphere to the surface of wire having radius r, for different magnetic sphere diameters\n",
    "#Units are newtons\n",
    "ForceArray=[F(2,r,eachSphereRadius) for eachSphereRadius in RadiusArray]  #This is how we can compute on an array in python\n",
    "#This is an example of a \"list comprehension\"\n",
    "ForceArray=np.array(ForceArray) #Converting it to a np array makes it act like MATLAB later"
   ]
  },
  {
   "cell_type": "code",
   "execution_count": 305,
   "metadata": {
    "collapsed": false
   },
   "outputs": [
    {
     "data": {
      "image/png": "[encoded data removed]",
      "text/plain": [
       "<Figure size 432x288 with 1 Axes>"
      ]
     },
     "metadata": {
      "needs_background": "light"
     },
     "output_type": "display_data"
    }
   ],
   "source": [
    "plt.plot(2e6*RadiusArray,1e6*ForceArray)  #This plotting syntax is exactly like Matlab because we use the matplotlib library\n",
    "#Because both RadiusArray and ForceArray are Numpy arrays, you can multiply them by a scalar, 2000000 and 1000000\n",
    "#is how I converted them to microns and micronewtons for a nicer looking plot\n",
    "plt.xlabel('Magnetic sphere diameter, microns')\n",
    "plt.ylabel('Force at wire surface, microNewtons')\n",
    "plt.title('Approx force on a NdFeB sphere at the surface of a 34 gauge wire carrying 2A') #approx because I treated it as a point magnet\n",
    "\n",
    "#Van der Waals forces for glass sphere pulling off a surface - \n",
    "#https://hal.archives-ouvertes.fr/hal-00545519/document\n",
    "#These theories overpredict the adhesion force for particle diameters greater than 1 micron, because roughness reduces the actual contact area\n",
    "#https://pubs.acs.org/doi/abs/10.1021/la0259196 - In this work, few-microNewton (1- to 5-) pull-off forces were measured for \n",
    "#for spheres in the 20-100 micron diameter range, with results dependent on coatings and humidity\n",
    "#I'll draw a red dotted line at about 5 micronewton range indicating that below this range, one might have to worry \n",
    "#about overcoming the adhesion force between the tiny magnetic particle and the wire. solution: don't let magnet touch wire, keep it on a spring\n",
    "\n",
    "plt.plot(2e6*np.array([RadiusArray[0],RadiusArray[-1]]), [5,5],'r--')\n",
    "plt.savefig ('MagnetDownscaling.eps')\n",
    "\n",
    "\n",
    "\n"
   ]
  },
  {
   "cell_type": "code",
   "execution_count": 311,
   "metadata": {
    "collapsed": false
   },
   "outputs": [
    {
     "data": {
      "text/plain": [
       "(0.0155105771317798, 64.47213353209717)"
      ]
     },
     "execution_count": 311,
     "metadata": {},
     "output_type": "execute_result"
    }
   ],
   "source": [
    "#Our magnet is really a 1/32 inch thick by 1/16 inch diameter cylinder in the experiments.\n",
    "#Check out some things to see if the numbers match up\n",
    "RealMagnetVol=0.0254/32*np.pi*(0.0254/32)**2\n",
    "EffectiveRadius=(RealMagnetVol/(4/3*np.pi))**(1/3)\n",
    "RealForce=F(I,r,EffectiveRadius)\n",
    "#Pretend this force is acting on the magnet the whole time, how long does it take to travel 1mm\n",
    "#It underestimates the travel time because the force acting on the magnet starts out small and grows to RealForce as magnet nears wre\n",
    "MagMass=NdFeBmass(RealMagnetVol)\n",
    "Acceleration=RealForce/MagMass\n",
    "Distance=0.001 #1 millimeter\n",
    "TravelUpTime=(2*Distance/Acceleration)**0.5\n",
    "TravelDownTime=(2*Distance/9.8)**0.5 #how long it takes to fall 1mm\n",
    "TotalTravelTime=TravelUpTime+TravelDownTime\n",
    "TotalTravelTime,1/TotalTravelTime #1/TotalTravelTime is the frequency where it has the biggest amplitude\n"
   ]
  },
  {
   "cell_type": "code",
   "execution_count": 306,
   "metadata": {
    "collapsed": false
   },
   "outputs": [],
   "source": [
    "NewArray=[3,4,5] #Python native array acts different than Numpy array"
   ]
  },
  {
   "cell_type": "code",
   "execution_count": 308,
   "metadata": {
    "collapsed": false
   },
   "outputs": [
    {
     "data": {
      "text/plain": [
       "array([ 9, 12, 15])"
      ]
     },
     "execution_count": 308,
     "metadata": {},
     "output_type": "execute_result"
    }
   ],
   "source": [
    "np.array(NewArray)*3"
   ]
  },
  {
   "cell_type": "code",
   "execution_count": null,
   "metadata": {
    "collapsed": true
   },
   "outputs": [],
   "source": []
  }
 ],
 "metadata": {
  "kernelspec": {
   "display_name": "Python 3",
   "language": "python",
   "name": "python3"
  },
  "language_info": {
   "codemirror_mode": {
    "name": "ipython",
    "version": 3
   },
   "file_extension": ".py",
   "mimetype": "text/x-python",
   "name": "python",
   "nbconvert_exporter": "python",
   "pygments_lexer": "ipython3",
   "version": "3.7.1"
  },
  "widgets": {
   "state": {},
   "version": "1.1.2"
  }
 },
 "nbformat": 4,
 "nbformat_minor": 0
}
