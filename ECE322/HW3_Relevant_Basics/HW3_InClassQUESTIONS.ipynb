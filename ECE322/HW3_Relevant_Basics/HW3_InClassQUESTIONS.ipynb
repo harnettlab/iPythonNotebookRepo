{
 "cells": [
  {
   "cell_type": "code",
   "execution_count": 2,
   "metadata": {
    "collapsed": true
   },
   "outputs": [],
   "source": [
    "#PROBS 6, 7, 8\n",
    "import numpy as np"
   ]
  },
  {
   "cell_type": "markdown",
   "metadata": {},
   "source": [
    "6.\t\tFor problem 6: Create\ta\t5x5\trandom\tarray.\tThen,\tnormalize\tthe\tarray—meaning,\tmultiply\tthe\t\n",
    "original\tarray\tby\ta\tfactor\tthat\tmakes\tthe\tentire\tnew\tarray\tsum\tto\t1."
   ]
  },
  {
   "cell_type": "code",
   "execution_count": 5,
   "metadata": {
    "collapsed": false
   },
   "outputs": [
    {
     "data": {
      "text/plain": [
       "array([[0.12744384, 0.50032578, 0.34123267],\n",
       "       [0.75639496, 0.53684156, 0.30738313],\n",
       "       [0.86822696, 0.59491058, 0.41272845]])"
      ]
     },
     "execution_count": 5,
     "metadata": {},
     "output_type": "execute_result"
    }
   ],
   "source": [
    "x=np.random.random((3,3))\n",
    "x"
   ]
  },
  {
   "cell_type": "code",
   "execution_count": 6,
   "metadata": {
    "collapsed": false
   },
   "outputs": [
    {
     "data": {
      "text/plain": [
       "4.445487926902954"
      ]
     },
     "execution_count": 6,
     "metadata": {},
     "output_type": "execute_result"
    }
   ],
   "source": [
    "np.sum(x)"
   ]
  },
  {
   "cell_type": "code",
   "execution_count": 8,
   "metadata": {
    "collapsed": false
   },
   "outputs": [
    {
     "data": {
      "text/plain": [
       "array([[0.02866813, 0.11254688, 0.07675933],\n",
       "       [0.17014892, 0.120761  , 0.06914497],\n",
       "       [0.19530521, 0.13382346, 0.0928421 ]])"
      ]
     },
     "execution_count": 8,
     "metadata": {},
     "output_type": "execute_result"
    }
   ],
   "source": [
    "NormalizedArray=x/np.sum(x)\n",
    "NormalizedArray"
   ]
  },
  {
   "cell_type": "code",
   "execution_count": 9,
   "metadata": {
    "collapsed": false
   },
   "outputs": [
    {
     "data": {
      "text/plain": [
       "1.0000000000000002"
      ]
     },
     "execution_count": 9,
     "metadata": {},
     "output_type": "execute_result"
    }
   ],
   "source": [
    "np.sum(NormalizedArray)"
   ]
  },
  {
   "cell_type": "markdown",
   "metadata": {},
   "source": [
    "For Prob 7. From\ta\trandom\tarray\tY\t=\tnp.random.uniform(0,10,10),\tcreate\ta\tnew\tarray\tZ\tthat\t\n",
    "just\thas\tthe\tinteger\tpart\tof\tall\tthe\tnumbers\tthat\twere\tin\tY.\tThat\tis,\tchop\toff\t\n",
    "everything\tafter\tthe\tdecimal."
   ]
  },
  {
   "cell_type": "code",
   "execution_count": 10,
   "metadata": {
    "collapsed": false
   },
   "outputs": [
    {
     "data": {
      "text/plain": [
       "array([5.79723229, 8.08476299, 9.62189095, 4.97746155, 4.62358668,\n",
       "       6.30493842, 3.25921268, 4.28356746, 3.63411289, 8.72733043])"
      ]
     },
     "execution_count": 10,
     "metadata": {},
     "output_type": "execute_result"
    }
   ],
   "source": [
    "#Check out np.trunc, np.floor, np.round\n",
    "Y=np.random.uniform(0,10,10)\n",
    "Y\n"
   ]
  },
  {
   "cell_type": "code",
   "execution_count": 11,
   "metadata": {
    "collapsed": false
   },
   "outputs": [
    {
     "data": {
      "text/plain": [
       "array([5., 8., 9., 4., 4., 6., 3., 4., 3., 8.])"
      ]
     },
     "execution_count": 11,
     "metadata": {},
     "output_type": "execute_result"
    }
   ],
   "source": [
    "np.floor(Y)"
   ]
  },
  {
   "cell_type": "markdown",
   "metadata": {},
   "source": [
    "8. For Prob 8 Make\ta\tfunction\tthat\tconverts\ta\tgiven\tpair\tof\tCartesian\tcoordinates\t(x,y)\tto\tpolar\t\n",
    "coordinates\t(r,\ttheta),\twhere\ttheta\tis\tin\tdegrees."
   ]
  },
  {
   "cell_type": "code",
   "execution_count": 12,
   "metadata": {
    "collapsed": true
   },
   "outputs": [],
   "source": [
    "#x = r cos theta\n",
    "#y = r sin theta\n",
    "# theta = np.arctan(y/x)  #But check that it's in degrees\n",
    "def Cart2Pol(MyX,MyY):\n",
    "    MyR=np.sqrt(MyX**2+MyY**2)\n",
    "    MyTheta = 3\n",
    "    return MyR,MyTheta\n",
    "\n",
    "r,theta=Cart2Pol(2,2)"
   ]
  },
  {
   "cell_type": "code",
   "execution_count": 13,
   "metadata": {
    "collapsed": false
   },
   "outputs": [
    {
     "data": {
      "text/plain": [
       "(2.8284271247461903, 3)"
      ]
     },
     "execution_count": 13,
     "metadata": {},
     "output_type": "execute_result"
    }
   ],
   "source": [
    "r,theta"
   ]
  },
  {
   "cell_type": "code",
   "execution_count": 14,
   "metadata": {
    "collapsed": false
   },
   "outputs": [
    {
     "data": {
      "text/plain": [
       "8.000000000000002"
      ]
     },
     "execution_count": 14,
     "metadata": {},
     "output_type": "execute_result"
    }
   ],
   "source": [
    "r**2"
   ]
  },
  {
   "cell_type": "code",
   "execution_count": null,
   "metadata": {
    "collapsed": true
   },
   "outputs": [],
   "source": []
  }
 ],
 "metadata": {
  "kernelspec": {
   "display_name": "Python 3",
   "language": "python",
   "name": "python3"
  },
  "language_info": {
   "codemirror_mode": {
    "name": "ipython",
    "version": 3
   },
   "file_extension": ".py",
   "mimetype": "text/x-python",
   "name": "python",
   "nbconvert_exporter": "python",
   "pygments_lexer": "ipython3",
   "version": "3.7.1"
  },
  "widgets": {
   "state": {},
   "version": "1.1.2"
  }
 },
 "nbformat": 4,
 "nbformat_minor": 0
}
