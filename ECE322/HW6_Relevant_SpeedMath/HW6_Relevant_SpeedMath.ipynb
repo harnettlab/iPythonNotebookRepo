{
 "cells": [
  {
   "cell_type": "code",
   "execution_count": 1,
   "metadata": {},
   "outputs": [],
   "source": [
    "#This notebook applies Python to problems appearing in other Speed courses taken around the same time as ECE 322\n",
    "import numpy as np\n",
    "from matplotlib import pyplot as plt\n",
    "%matplotlib inline\n"
   ]
  },
  {
   "cell_type": "markdown",
   "metadata": {},
   "source": [
    "Diagonalize a Matrix"
   ]
  },
  {
   "cell_type": "code",
   "execution_count": 45,
   "metadata": {},
   "outputs": [
    {
     "data": {
      "text/plain": [
       "(Matrix([\n",
       " [0, 1, 1,  0],\n",
       " [1, 1, 1, -1],\n",
       " [1, 1, 1,  0],\n",
       " [1, 1, 0,  1]]), Matrix([\n",
       " [-2, 0, 0, 0],\n",
       " [ 0, 3, 0, 0],\n",
       " [ 0, 0, 5, 0],\n",
       " [ 0, 0, 0, 5]]))"
      ]
     },
     "execution_count": 45,
     "metadata": {},
     "output_type": "execute_result"
    }
   ],
   "source": [
    "#Diagonalize. Here is the symbolic computation module sympy. It was in my default Anaconda installation on windows\n",
    "import sympy as sp\n",
    "M=sp.Matrix([[3,-2,4,-2],[5,3,-3,-2],[5,-2,2,-2],[5,-2,-3,3]])\n",
    "M.diagonalize() #It returns two matrices (P,D), where the second matrix D is the diagonalized matrix,\n",
    "#and M = PDP^-1\n"
   ]
  },
  {
   "cell_type": "code",
   "execution_count": null,
   "metadata": {},
   "outputs": [],
   "source": [
    "#Now that you have a Sympy matrix, you can easily find other values associated with it.\n",
    "M.eigenvals(),M.eigenvects()#eigenvalues --this example has 2 eigenvectors associated with eigenvalue 5\n",
    "#eigenvects gives the eigenvalue, its multiplicity, and the eigenvector(s) that go with it"
   ]
  },
  {
   "cell_type": "markdown",
   "metadata": {},
   "source": [
    "Solve a System of Equations/ Use Python to Solve Electrical Circuits"
   ]
  },
  {
   "cell_type": "code",
   "execution_count": 56,
   "metadata": {},
   "outputs": [
    {
     "data": {
      "text/plain": [
       "Matrix([\n",
       "[ 0.05],\n",
       "[ 0.05],\n",
       "[0.075]])"
      ]
     },
     "execution_count": 56,
     "metadata": {},
     "output_type": "execute_result"
    }
   ],
   "source": [
    "#These ideas are closely related to matrix solving. \n",
    "#I decided to make this example based on a circuit problem. Here is a walkthrough \n",
    "#of a specific circuit in Matlab--  https://www.youtube.com/watch?v=t1idZaks29w for how to do it in MATLAB!\n",
    "#We'll solve it in Python.\n",
    "R1=100\n",
    "R2=50\n",
    "R3=100\n",
    "R4=200\n",
    "R5=100\n",
    "\n",
    "V1=5.0 #Known voltage at battery 1\n",
    "V2=10.0 #Known voltage at battery 2\n",
    "A=sp.Matrix([[R1+R4,-R4,0],[-R4,R2+R4+R5,-R5],[0,-R5,R3+R5]])\n",
    "b=sp.Matrix([[V1],[0],[V2]])\n",
    "#3 equations, 3 unknowns: the current in each loop of the network\n",
    "#A X =b where A is the resistor matrix, X is the unknown current vector i1,i2,i3, and V is the voltages at the nodes\n",
    "\n",
    "X=A.inv()*b #This will look pretty similar in MATLAB (you can also do matrix division \\) except\n",
    "#since everything in MATLAB is assumed to be a matrix, you don't have to use a special Matrix class."
   ]
  },
  {
   "cell_type": "markdown",
   "metadata": {},
   "source": [
    "Bode Plots"
   ]
  },
  {
   "cell_type": "code",
   "execution_count": 19,
   "metadata": {},
   "outputs": [
    {
     "data": {
      "image/png": "[encoded data removed]",
      "text/plain": [
       "<Figure size 432x288 with 1 Axes>"
      ]
     },
     "metadata": {
      "needs_background": "light"
     },
     "output_type": "display_data"
    }
   ],
   "source": [
    "#This example provides context and shows how you can do this same example fast using scipy \n",
    "#https://staff.fnwi.uva.nl/r.vandenboomgaard/SP20162017/Python/bodeplots.html\n",
    "\n",
    "def H(w):   #Return your transfer function, you got this expression after you did some math\n",
    "    wc = 4000*np.pi  #Your corner frequency\n",
    "    return 1.0 / (1.0 + 1j * w / wc)    #Your transfer function - write it out on the board\n",
    "\n",
    "f = np.logspace(1,5) # frequencies from 10**1 to 10**5\n",
    "\n",
    "plt.semilogx(f, 20*np.log10(abs(H(2*np.pi*f))));   #Plot the magnitude of your transfer function\n",
    "plt.xlabel('Frequency,Hz')\n",
    "plt.ylabel('Magnitude,dB')\n",
    "plt.savefig('BodeMagnitude.png') #Grab the plot for your homework. It will be in the same folder with this .ipynb file"
   ]
  },
  {
   "cell_type": "code",
   "execution_count": 20,
   "metadata": {},
   "outputs": [
    {
     "data": {
      "image/png": "[encoded data removed]",
      "text/plain": [
       "<Figure size 432x288 with 1 Axes>"
      ]
     },
     "metadata": {
      "needs_background": "light"
     },
     "output_type": "display_data"
    }
   ],
   "source": [
    "#Now do the phase plot\n",
    "plt.semilogx(f,np.angle(H(2*np.pi*f))*180.0/np.pi)#Get angle of H and convert it to degrees, then plot vs frequency\n",
    "plt.xlabel('Frequency, Hz')\n",
    "plt.ylabel('Phase angle,degrees')\n",
    "plt.savefig('BodePhase.png') #If you want a vector format, eps lets you edit colors and linewidths outside python"
   ]
  },
  {
   "cell_type": "markdown",
   "metadata": {},
   "source": [
    "Infinite Potential Well"
   ]
  },
  {
   "cell_type": "code",
   "execution_count": 21,
   "metadata": {
    "collapsed": true
   },
   "outputs": [],
   "source": [
    "#Here is an example based on the particle-in-a-box problem. \n",
    "#Great explainer here https://www.wired.com/2016/03/can-solve-quantum-mechanics-classic-particle-box-problem-code/\n",
    "\n",
    "#The goal is to find the coefficients of an equation that describes the probability of finding the particle at a location.\n",
    "#Yes, you can solve it analytically using boundary values so why bother?\n",
    "#Because numerical integration is neeeded to solve more complex problems\n",
    "#like double wells with a barrier between, wells that aren't infinitely deep. Particle can \"tunnel\" across-- \n",
    "#Sounds exotic but appears in everyday technology like optical fibers and some kinds of diodes.\n",
    "\n",
    "\n"
   ]
  },
  {
   "cell_type": "code",
   "execution_count": 34,
   "metadata": {
    "scrolled": true
   },
   "outputs": [
    {
     "name": "stdout",
     "output_type": "stream",
     "text": [
      "3.02\n",
      "3.04\n",
      "3.06\n",
      "3.08\n",
      "3.1\n",
      "3.12\n",
      "3.14\n",
      "3.16\n",
      "3.18\n",
      "3.2\n",
      "3.22\n",
      "3.24\n",
      "3.2600000000000002\n",
      "3.2800000000000002\n",
      "3.3000000000000003\n",
      "3.3200000000000003\n",
      "3.3400000000000003\n",
      "3.3600000000000003\n",
      "3.3800000000000003\n",
      "3.4000000000000004\n",
      "3.4200000000000004\n",
      "3.4400000000000004\n",
      "3.4600000000000004\n",
      "3.4800000000000004\n",
      "3.5000000000000004\n",
      "3.5200000000000005\n",
      "3.5400000000000005\n",
      "3.5600000000000005\n",
      "3.5800000000000005\n",
      "3.6000000000000005\n",
      "3.6200000000000006\n",
      "3.6400000000000006\n",
      "3.6600000000000006\n",
      "3.6800000000000006\n",
      "3.7000000000000006\n",
      "3.7200000000000006\n",
      "3.7400000000000007\n",
      "3.7600000000000007\n",
      "3.7800000000000007\n",
      "3.8000000000000007\n",
      "3.8200000000000007\n",
      "3.8400000000000007\n",
      "3.8600000000000008\n",
      "3.880000000000001\n",
      "3.900000000000001\n",
      "3.920000000000001\n",
      "3.940000000000001\n",
      "3.960000000000001\n",
      "3.980000000000001\n",
      "4.000000000000001\n",
      "4.0200000000000005\n",
      "4.04\n",
      "4.06\n",
      "4.079999999999999\n",
      "4.099999999999999\n",
      "4.119999999999998\n",
      "4.139999999999998\n",
      "4.1599999999999975\n",
      "4.179999999999997\n",
      "4.199999999999997\n",
      "4.219999999999996\n",
      "4.239999999999996\n",
      "4.259999999999995\n",
      "4.279999999999995\n",
      "4.2999999999999945\n",
      "4.319999999999994\n",
      "4.339999999999994\n",
      "4.359999999999993\n",
      "4.379999999999993\n",
      "4.399999999999992\n",
      "4.419999999999992\n",
      "4.4399999999999915\n",
      "4.459999999999991\n",
      "4.479999999999991\n",
      "4.49999999999999\n",
      "4.51999999999999\n",
      "4.539999999999989\n",
      "4.559999999999989\n",
      "4.5799999999999885\n",
      "4.599999999999988\n",
      "4.619999999999988\n",
      "4.639999999999987\n",
      "4.659999999999987\n",
      "4.679999999999986\n",
      "4.699999999999986\n",
      "4.7199999999999855\n",
      "4.739999999999985\n",
      "4.759999999999985\n",
      "4.779999999999984\n",
      "4.799999999999984\n",
      "4.819999999999983\n",
      "4.839999999999983\n",
      "4.859999999999983\n",
      "4.879999999999982\n",
      "4.899999999999982\n",
      "4.919999999999981\n",
      "4.939999999999981\n"
     ]
    },
    {
     "data": {
      "text/plain": [
       "[<matplotlib.lines.Line2D at 0x292c328de10>]"
      ]
     },
     "execution_count": 34,
     "metadata": {},
     "output_type": "execute_result"
    },
    {
     "data": {
      "image/png": "[encoded data removed]",
      "text/plain": [
       "<Figure size 432x288 with 1 Axes>"
      ]
     },
     "metadata": {
      "needs_background": "light"
     },
     "output_type": "display_data"
    }
   ],
   "source": [
    "\n",
    "L=1.0\n",
    "hc=1.0 #this is m/h-bar^2\n",
    "dx=0.001\n",
    "E=3 #Initial guess for energy E\n",
    "dE=0.02\n",
    "searching=True\n",
    "while searching:\n",
    "    x=[0.0]\n",
    "    dpsi=1.0\n",
    "    psi=[0.0]\n",
    "\n",
    "    while x[-1]<=L:\n",
    "  \n",
    "        ddpsi=-2*hc*E*psi[-1]\n",
    "        dpsi=dpsi+ddpsi*dx\n",
    "        psi.append(psi[-1]+dpsi*dx)\n",
    "        x.append(x[-1]+dx)\n",
    "        \n",
    "      \n",
    "    if abs(psi[-1])<0.002:\n",
    "        searching=False\n",
    "         \n",
    "    E=E+dE\n",
    "    print(E) #watch E step toward the next value that makes psi(x=L) be within 0.002 of 0\n",
    "    \n",
    "plt.plot(x,psi,'b.')\n"
   ]
  },
  {
   "cell_type": "code",
   "execution_count": null,
   "metadata": {},
   "outputs": [],
   "source": []
  },
  {
   "cell_type": "code",
   "execution_count": null,
   "metadata": {},
   "outputs": [],
   "source": []
  }
 ],
 "metadata": {
  "kernelspec": {
   "display_name": "Python 3",
   "language": "python",
   "name": "python3"
  },
  "language_info": {
   "codemirror_mode": {
    "name": "ipython",
    "version": 3
   },
   "file_extension": ".py",
   "mimetype": "text/x-python",
   "name": "python",
   "nbconvert_exporter": "python",
   "pygments_lexer": "ipython3",
   "version": "3.7.1"
  }
 },
 "nbformat": 4,
 "nbformat_minor": 2
}
