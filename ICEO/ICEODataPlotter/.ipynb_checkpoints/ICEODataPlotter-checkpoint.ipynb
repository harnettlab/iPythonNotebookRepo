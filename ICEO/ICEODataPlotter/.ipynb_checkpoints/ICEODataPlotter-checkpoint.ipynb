{
 "cells": [
  {
   "cell_type": "code",
   "execution_count": 1,
   "metadata": {
    "collapsed": false
   },
   "outputs": [
    {
     "data": {
      "text/plain": [
       "21.827160493827137"
      ]
     },
     "execution_count": 1,
     "metadata": {},
     "output_type": "execute_result"
    }
   ],
   "source": [
    "import numpy as np\n",
    "x=[0,30,60,90,120]\n",
    "y=[0,75,170,280,390]#Pressure drops in Pa from Jaz experiments. I measured this off his eps plots \n",
    "xerror=[0,0,0,0,0]\n",
    "yerror=[0,5,5,10,20]#I used the amount of waver in the eps plots as a guess about error in pressure measurement\n",
    "p1=np.polyfit(x,y,3)#Fit the data to draw a line thru four real data points and zero, try a 3rd order polynomial\n",
    "#And the result...does not look like a parabola, more like a parabola that gets lazy and turns into a line at higher voltages\n",
    "\n",
    "#Jaz's ANSYS models of pressure drop vs voltage all had the V^2 dependence as expected for the linear regime.\n",
    "#I will just use the parabola concept & try to find coefficients that map it onto the data \n",
    "\n",
    "A=0.08333 #Coefficients for calculating a parabola that runs thru 0,75 and 300\n",
    "#But at 30V the thing has already left the linear range. This ends up looking nothing like the data\n",
    "\n",
    "A=0.218  \n",
    "#I got this A from noting that 10V applied voltage (at electrodes) and less, is the linear range where the parabola model is valid\n",
    "#Because, here the trans-membrane voltage is less than 0.1V, comparable to the thermal voltage of 0.026V\n",
    "#and in that range you could expect pressure going as E-squared (or V squared), from the linear model in Bazant's 2004 paper.\n",
    "\n",
    "x2=np.linspace(0,75,50)#voltage range for polynomial\n",
    "p2=[A,0,0]#polynomial coefficients for the parabola, in a form that works with polyval function\n",
    "y2=np.polyval(p2,x2)\n",
    "x1=np.linspace(0,120,100)\n",
    "y1=np.polyval(p1,x1)#fit to data\n",
    "np.polyval(p1,10)"
   ]
  },
  {
   "cell_type": "code",
   "execution_count": 2,
   "metadata": {
    "collapsed": false
   },
   "outputs": [
    {
     "data": {
      "image/png": "[encoded data removed]",
      "text/plain": [
       "<matplotlib.figure.Figure at 0x10546b550>"
      ]
     },
     "metadata": {},
     "output_type": "display_data"
    }
   ],
   "source": [
    "%matplotlib inline\n",
    "from matplotlib import pyplot as plt\n",
    "plt.figure(figsize=(6,3))\n",
    "plt.errorbar(x,y,yerror,xerror,ls='none')\n",
    "plt.hold('true')\n",
    "plt.plot(x2,y2,'r--')\n",
    "plt.plot(x1,y1,'k')\n",
    "plt.xlim(xmin=0,xmax=125)\n",
    "plt.ylim(ymin=0,ymax=420)\n",
    "plt.title('Pressure vs voltage for 400 nm pores at 400 Hz')\n",
    "plt.xlabel('Applied voltage (V)')\n",
    "plt.ylabel('Pressure drop (Pa)')\n",
    "plt.savefig('PvsV.eps')\n"
   ]
  },
  {
   "cell_type": "code",
   "execution_count": 3,
   "metadata": {
    "collapsed": true
   },
   "outputs": [],
   "source": [
    "#The red parabola still looks a little goofy at the low end, where it dips below the experimental fit.\n",
    "#However, we don't have data there, it's just an extrapolation between 0 and 30V\n",
    "# Would be interesting to somehow measure those pressures at sub-30 volts or even 10 volts\n",
    "#and see where the experiment (black line) begins to peel away from the linear model (red dashed line)\n",
    "#But it's challenging to measure such small pressure drops (50 Pa and less). \n",
    "#Smaller pores might help generate higher pressures at voltages in the linear regime\n",
    "#The pores used here were 400 nm\n"
   ]
  }
 ],
 "metadata": {
  "kernelspec": {
   "display_name": "Python 2",
   "language": "python",
   "name": "python2"
  },
  "language_info": {
   "codemirror_mode": {
    "name": "ipython",
    "version": 2
   },
   "file_extension": ".py",
   "mimetype": "text/x-python",
   "name": "python",
   "nbconvert_exporter": "python",
   "pygments_lexer": "ipython2",
   "version": "2.7.12"
  },
  "widgets": {
   "state": {},
   "version": "1.1.2"
  }
 },
 "nbformat": 4,
 "nbformat_minor": 0
}
