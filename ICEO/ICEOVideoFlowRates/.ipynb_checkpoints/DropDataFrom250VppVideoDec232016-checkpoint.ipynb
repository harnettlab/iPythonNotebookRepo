{
 "cells": [
  {
   "cell_type": "code",
   "execution_count": 1,
   "metadata": {
    "collapsed": false
   },
   "outputs": [
    {
     "data": {
      "text/plain": [
       "22.12023021772396"
      ]
     },
     "execution_count": 1,
     "metadata": {},
     "output_type": "execute_result"
    },
    {
     "data": {
      "image/png": "[encoded data removed]",
      "text/plain": [
       "<matplotlib.figure.Figure at 0x1066778d0>"
      ]
     },
     "metadata": {},
     "output_type": "display_data"
    }
   ],
   "source": [
    "import numpy as np\n",
    "#CKH 12-27 Analyze Jaz 22 minute long, 250 Vpp video w/0.4 micron pores\n",
    "#Likely 400 Hz\n",
    "\n",
    "#Differences between times I saw each drop falling in my 12/27/16 notes, in seconds\n",
    "DropSpacing=[77,69,65,58,62,55,46,30,30,22,25,28,23,30,25,29,28,29,32,33,32,34,40,47,47,52,46,54,91]\n",
    "\n",
    "times=np.cumsum(DropSpacing)+100 #actual drop times in seconds, for x- axis\n",
    "timeMin=[np.float(t)/60 for t in times] #times in minutes, for plotting\n",
    "\n",
    "DropVolume=4/3*np.pi*((11.5/9)*3/2)**3#Calculate spherical drop volume in microliters: 4/3 pi r cubed\n",
    "#based on a 11.5 mm diameter sphere on screen, \n",
    "#where the outlet tube measured 9mm outer diameter on screen, and actual tube outer diameter is 3 mm\n",
    "#based on some silicone tubing I have around here. I think it is the same tube...probably\n",
    "\n",
    "FlowRate=DropVolume*np.array([1/np.float(ds) for ds in DropSpacing])*60 #the 60 puts it in microliters per minute\n",
    "\n",
    "%matplotlib inline\n",
    "from matplotlib import pyplot as plt\n",
    "plt.plot(timeMin,FlowRate,'b*')\n",
    "plt.xlabel('Time (minutes)')\n",
    "plt.ylabel('Flow Rate (microliters per minute)')\n",
    "plt.title('Flow rate for 250Vpp across 0.4 micron diameter pores')\n",
    "\n",
    "DropVolume #Each drop was a hefty 22 microliters"
   ]
  },
  {
   "cell_type": "code",
   "execution_count": 28,
   "metadata": {
    "collapsed": false
   },
   "outputs": [
    {
     "data": {
      "text/plain": [
       "641.4866763139948"
      ]
     },
     "execution_count": 28,
     "metadata": {},
     "output_type": "execute_result"
    }
   ],
   "source": [
    "#Total fluid pumped, in microliters--\n",
    "#Is number of drops x drop volume. This number is interesting for applications\n",
    "TFP=len(times)*DropVolume\n",
    "TFP"
   ]
  },
  {
   "cell_type": "code",
   "execution_count": null,
   "metadata": {
    "collapsed": true
   },
   "outputs": [],
   "source": [
    "#Wow...it's like 0.6 ml, like using the 100 microliter pipette 6 times.\n",
    "#Your top flow rates of 50-60 microliters/minute are 10x larger than in the conical nanopore paper\n",
    "#http://pubs.acs.org/doi/abs/10.1021/acsnano.6b00939?journalCode=ancac3  \n",
    "#(they have no metal, their Vpp is in the sub 5V range, and their pores are > 10x narrower)"
   ]
  }
 ],
 "metadata": {
  "kernelspec": {
   "display_name": "Python 2",
   "language": "python",
   "name": "python2"
  },
  "language_info": {
   "codemirror_mode": {
    "name": "ipython",
    "version": 2
   },
   "file_extension": ".py",
   "mimetype": "text/x-python",
   "name": "python",
   "nbconvert_exporter": "python",
   "pygments_lexer": "ipython2",
   "version": "2.7.12"
  },
  "widgets": {
   "state": {},
   "version": "1.1.2"
  }
 },
 "nbformat": 4,
 "nbformat_minor": 0
}
