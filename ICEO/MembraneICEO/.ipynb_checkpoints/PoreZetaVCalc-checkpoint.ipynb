{
 "cells": [
  {
   "cell_type": "code",
   "execution_count": 198,
   "metadata": {
    "collapsed": true
   },
   "outputs": [],
   "source": [
    "#ZetaPotentialAndSurfVelocityCalc\n",
    "#CKH Aug 17 2016\n",
    "#Starting from a stl file with units of mm, where each mm corresponds to 1 micron\n",
    "#(because openSCAD barfs if you try to use microns)\n",
    "#Export a contour from an insulating-pore Maxwell sim. Bring in x,y,z coords, tangential E-field and voltage in a comma delimited .csv or .txt file \n",
    "#This program will calculate the local zeta potential and surface velocity using the method of Wu and Li (2008)\n",
    "#Wu, Zhemin, and Dongqing Li. \"Mixing and flow regulating by induced-charge electrokinetic flow in a microchannel with a pair of conducting triangle hurdles.\" Microfluidics and nanofluidics 5.1 (2008): 65-76."
   ]
  },
  {
   "cell_type": "code",
   "execution_count": 199,
   "metadata": {
    "collapsed": false
   },
   "outputs": [],
   "source": [
    "#Something about units here\n",
    "#Maxwell will export units in the column labels. Check below for a list of the column labels.\n",
    "epsilon =80.0*8.854e-12 #dielectric constant of water in F/m\n",
    "eta=8.9e-4 #dynamic viscosity of water in Pa*s"
   ]
  },
  {
   "cell_type": "code",
   "execution_count": 200,
   "metadata": {
    "collapsed": true
   },
   "outputs": [],
   "source": [
    "#imports\n",
    "import numpy as np"
   ]
  },
  {
   "cell_type": "code",
   "execution_count": 201,
   "metadata": {
    "collapsed": true
   },
   "outputs": [],
   "source": [
    "#Path names for input and output files\n",
    "inputfile='FieldsAlongContour2.csv'\n",
    "outputSuffix='cindy.txt'#going to generate geometry data labels from the file"
   ]
  },
  {
   "cell_type": "code",
   "execution_count": 202,
   "metadata": {
    "collapsed": false
   },
   "outputs": [
    {
     "data": {
      "text/plain": [
       "('Distance_mm',\n",
       " 'Voltage_V',\n",
       " 'MagE_V_per_meter',\n",
       " 'XCoord_',\n",
       " 'YCoord_',\n",
       " 'ZCoord_',\n",
       " 'TangUnitVecX_',\n",
       " 'TangUnitVecY_',\n",
       " 'TangUnitVecZ_',\n",
       " 'E_Tang_')"
      ]
     },
     "execution_count": 202,
     "metadata": {},
     "output_type": "execute_result"
    }
   ],
   "source": [
    "#Reading in the Maxwell file\n",
    "simdata= np.genfromtxt(inputfile, dtype=float, delimiter=',',names=True)#Wonderful, can call columns by names\n",
    "#Report the names it found, this will help with troubleshooting\n",
    "simdata.dtype.names\n",
    "#I see a label Voltage_V, this means I can get the voltages along the contour by stitchdata['Voltage_V']\n"
   ]
  },
  {
   "cell_type": "code",
   "execution_count": 203,
   "metadata": {
    "collapsed": false
   },
   "outputs": [],
   "source": [
    "#Convert everything that's not meters and V/m, to meters and V/m\n",
    "#And make it so the original mm-based OpenSCAD drawings are\n",
    "#actually microns\n",
    "Distance=simdata['Distance_mm']/1000/1000 #Put distance along contour in meters, make original units microns\n",
    "voltage=simdata['Voltage_V']#Voltage does not change\n",
    "#MagE_V_per_meter is not being used\n",
    "x=simdata['XCoord_']/1000 #It's still in meters, but makes the original units microns instead of mm\n",
    "y=simdata['YCoord_']/1000 #same\n",
    "z=simdata['ZCoord_']/1000 #same\n",
    "#Tangential unit vectors do not change, these are needed to write out velocity profiles.\n",
    "tangx=simdata['TangUnitVecX_']\n",
    "tangy=simdata['TangUnitVecY_']\n",
    "tangz=simdata['TangUnitVecZ_']\n",
    "E_Tang=simdata['E_Tang_']*1000 #Still in V/m but adjusted so the original units were microns instead of mm\n"
   ]
  },
  {
   "cell_type": "code",
   "execution_count": 204,
   "metadata": {
    "collapsed": true
   },
   "outputs": [],
   "source": [
    "#Fix for tacky matplotlib bug where scatterplot won't scale down to tiny data values\n",
    "def set_axlims(x,y, marginfactor):#Manual limits for some xy data if you dont care about axis equal\n",
    "    minx = x.min()\n",
    "    maxx = x.max()   #for instance voltage vs distance or other plots without same units for x & y\n",
    "    miny = y.min()\n",
    "    maxy = y.max()\n",
    "    xdatarange = maxx-minx\n",
    "    ydatarange = maxy-miny        \n",
    "    xborder = abs(xdatarange*marginfactor)\n",
    "    yborder = abs(ydatarange*marginfactor)\n",
    "    maxxlim = maxx+xborder\n",
    "    minxlim = minx-xborder\n",
    "    maxylim = maxy+yborder\n",
    "    minylim = miny-yborder\n",
    "    return minxlim,maxxlim,minylim,maxylim"
   ]
  },
  {
   "cell_type": "code",
   "execution_count": 205,
   "metadata": {
    "collapsed": true
   },
   "outputs": [],
   "source": [
    "#Fix for tacky matplotlib bug where scatterplot won't scale down to tiny data values\n",
    "def set_eq_axlims(x,y, marginfactor):#Manual AXIS EQUAL limits for some xy data\n",
    "    minx = x.min()\n",
    "    maxx = x.max()\n",
    "    miny = y.min()\n",
    "    maxy = y.max()\n",
    "    xdatarange = maxx-minx\n",
    "    ydatarange = maxy-miny  \n",
    "    centerx=(maxx+minx)/2\n",
    "    centery=(maxy+miny)/2\n",
    "    if xdatarange>ydatarange: #ydatarange is going to define it\n",
    "        ydatarange=xdatarange\n",
    "    else:\n",
    "        xdatarange=ydatarange\n",
    "    xborder = abs(xdatarange*marginfactor)\n",
    "    yborder = xborder\n",
    "    maxxlim = centerx+xdatarange/2+xborder\n",
    "    minxlim = centerx-xdatarange/2-xborder\n",
    "    maxylim = centery+ydatarange/2+yborder\n",
    "    minylim = centery-ydatarange/2-yborder\n",
    "    return minxlim,maxxlim,minylim,maxylim"
   ]
  },
  {
   "cell_type": "code",
   "execution_count": 206,
   "metadata": {
    "collapsed": false
   },
   "outputs": [
    {
     "data": {
      "text/plain": [
       "<matplotlib.text.Text at 0x112217810>"
      ]
     },
     "execution_count": 206,
     "metadata": {},
     "output_type": "execute_result"
    },
    {
     "data": {
      "image/png": "[encoded data removed]",
      "text/plain": [
       "<matplotlib.figure.Figure at 0x111307790>"
      ]
     },
     "metadata": {},
     "output_type": "display_data"
    }
   ],
   "source": [
    "#Plotting code\n",
    "#Get some colors corresponding to voltages along the line, ranging from 0 to 1\n",
    "\n",
    "v=(voltage-np.min(voltage))/(np.max(voltage)-np.min(voltage))\n",
    "#maybe it will autoscale without doing this, I'm getting mixed results\n",
    "#Let's use r and z, r is sqrt(x**2+y**2) since I took a slice right through the z-axis.\n",
    "#%matplotlib inline\n",
    "\n",
    "r=np.sqrt(x**2+y**2)\n",
    "%matplotlib inline\n",
    "from matplotlib import pyplot as plt\n",
    "\n",
    "cMap=plt.cm.get_cmap('Spectral_r')#if i don't change this it tends to default to grayscale\n",
    "plt.set_cmap(cMap)\n",
    "plt.scatter(r,z,c=v,marker='+')#so much struggle to get the right kind of marker that would show the color!\n",
    "plt.title('Voltage along contour after charge screening') #Maxwell does better plots with color bars for scale\n",
    "#The purpose of this plot is to check on what I imported, and see whether it makes any sense\n",
    "#So why can't the thing autoscale smaller than 0.01, jeez that's stupid\n",
    "#30 min messing with various autoscale commands...worsens things, my data is still a speck\n",
    "#then find out that this is a documented bug but... \n",
    "#how did these professionals decide on making autoscale fail at an axis size of 0.06 ?\n",
    "#the matlab vs python time vs money question comes to mind\n",
    "#http://stackoverflow.com/questions/37634370/matplotlib-scatterplot-axis-autoscale-fails-for-small-data-values\n",
    "ax=plt.gca()\n",
    "lims=set_eq_axlims(r,z,.05)  #my function to repair this bug\n",
    "ax.set_xlim(lims[0],lims[1])\n",
    "ax.set_ylim(lims[2],lims[3])\n",
    "plt.xlabel('r(m)')\n",
    "plt.ylabel('z(m)')\n",
    "#looks like the electric field is downward along center of pore (-z direction), because E goes from pos voltage (red) \n",
    "#to negative (blue)\n"
   ]
  },
  {
   "cell_type": "code",
   "execution_count": 207,
   "metadata": {
    "collapsed": false
   },
   "outputs": [
    {
     "data": {
      "text/plain": [
       "(-1.1000000000000001e-05, 1.1000000000000001e-05)"
      ]
     },
     "execution_count": 207,
     "metadata": {},
     "output_type": "execute_result"
    },
    {
     "data": {
      "image/png": "[encoded data removed]",
      "text/plain": [
       "<matplotlib.figure.Figure at 0x1123684d0>"
      ]
     },
     "metadata": {},
     "output_type": "display_data"
    }
   ],
   "source": [
    "#Now look at the tangential value of the E-field along the direction of the contour\n",
    "etang=simdata['E_Tang_']\n",
    "e=(etang-np.min(etang))/(np.max(etang)-np.min(etang))\n",
    "plt.scatter(r,z,c=e,marker='+')\n",
    "plt.axis('equal')\n",
    "plt.title('Tangential e-field along direction of contour after charge screening') #Maxwell does better plots with color bars for scale\n",
    "#Like before, the purpose of this plot is to check on what I imported, does it make sense?\n",
    "plt.xlabel('r(m)')\n",
    "plt.ylabel('z(m)')\n",
    "ax=plt.gca()\n",
    "lims=set_eq_axlims(r,z,.05)  #my function to repair this bug\n",
    "ax.set_xlim(lims[0],lims[1])\n",
    "ax.set_ylim(lims[2],lims[3])"
   ]
  },
  {
   "cell_type": "code",
   "execution_count": 208,
   "metadata": {
    "collapsed": false
   },
   "outputs": [
    {
     "data": {
      "text/plain": [
       "<matplotlib.text.Text at 0x1114c22d0>"
      ]
     },
     "execution_count": 208,
     "metadata": {},
     "output_type": "execute_result"
    },
    {
     "data": {
      "image/png": "[encoded data removed]",
      "text/plain": [
       "<matplotlib.figure.Figure at 0x1115b6590>"
      ]
     },
     "metadata": {},
     "output_type": "display_data"
    }
   ],
   "source": [
    "#I have to keep in mind the tangential E-field (etang) is defined along contour direcion. \n",
    "#The actual E direction flips sign from top to bottom\n",
    "#Check out relative magnitude of etang\n",
    "\n",
    "plt.plot(Distance, etang)\n",
    "plt.xlabel('distance along contour in meters')\n",
    "plt.ylabel('tangential e field along side of pore')\n",
    "#looks like in the pore, at distances 70-110, etangential is negative. does it make sense?"
   ]
  },
  {
   "cell_type": "code",
   "execution_count": 209,
   "metadata": {
    "collapsed": false
   },
   "outputs": [
    {
     "data": {
      "text/plain": [
       "(-1.1000000000000001e-05, 1.1000000000000001e-05)"
      ]
     },
     "execution_count": 209,
     "metadata": {},
     "output_type": "execute_result"
    },
    {
     "data": {
      "image/png": "[encoded data removed]",
      "text/plain": [
       "<matplotlib.figure.Figure at 0x11262d410>"
      ]
     },
     "metadata": {},
     "output_type": "display_data"
    }
   ],
   "source": [
    "#OK... which is the start and end of the contour? In my plot, using the 'Spectral_r' colormap \n",
    "#the contour starts at blue and ends at red\n",
    "#This will help explain the sign of etangential\n",
    "normdist=(Distance-np.min(Distance))/(np.max(Distance)-np.min(Distance))\n",
    "plt.scatter(r,z,c=normdist,marker='+')\n",
    "plt.title('Start of contour: blue, end of contour: red')\n",
    "plt.axis('equal')\n",
    "plt.xlabel('m')\n",
    "#Yes, following the line from blue to red, the contour direction is in +z along the pore wall.\n",
    "#So when Etangential is negative, it's going against the direction of the contour.\n",
    "#\"Against\" is -z as you go along the pore wall.\n",
    "#That matches with E in -z direction, which is what came out of the voltage plot.\n",
    "ax=plt.gca()\n",
    "lims=set_eq_axlims(r,z,.05)  #my function to repair this bug\n",
    "ax.set_xlim(lims[0],lims[1])\n",
    "ax.set_ylim(lims[2],lims[3])"
   ]
  },
  {
   "cell_type": "markdown",
   "metadata": {},
   "source": [
    "<B>This part needs to be fixed for the simpler geometry we use now, it's broken:</B>\n",
    "<B>Use the name-generating code to home in on the parts that are metal."
   ]
  },
  {
   "cell_type": "code",
   "execution_count": 210,
   "metadata": {
    "collapsed": false
   },
   "outputs": [
    {
     "data": {
      "image/png": "[encoded data removed]",
      "text/plain": [
       "<matplotlib.figure.Figure at 0x11306c390>"
      ]
     },
     "metadata": {},
     "output_type": "display_data"
    }
   ],
   "source": [
    "#To get the tangential velocity profile, have to calc the zeta potential along the contour.\n",
    "#In Wu's paper, the induced zeta potential is Phi-sub-c - Phi-sub-e, where\n",
    "#Phi-sub-c is the spatial average of the external voltage Phi-sub-e over the metal surface, \n",
    "#(Phi-sub-e is the external voltage I already have called 'voltage')\n",
    "Phie=voltage #I'm going to call Phi-sub-e just \"Phie\"\n",
    "\n",
    "#Now to calculate the surface area of the metal part only. perhaps I should have captured only the metal part\n",
    "#But it is nice to have the rest, and later be able to calc surface velocity on the non metal part, \n",
    "#using the fixed zeta potential of whatever the un-metallized polymer membrane has.\n",
    "\n",
    "#If we look for the first value of the reversed z-array that's greater than z[0] that might be the start of the metal.\n",
    "\n",
    "zrev=z[::-1]\n",
    "metalend=len(z)-np.min(np.where(zrev>zrev[0]))\n",
    "plt.scatter(r[0:metalend],z[0:metalend],c=normdist[0:metalend],marker='+')\n",
    "plt.title('Start of metal: blue, end of metal: red')\n",
    "ax=plt.gca()\n",
    "lims=set_eq_axlims(r[0:metalend],z[0:metalend],.05)  #my function to repair this bug\n",
    "ax.set_xlim(lims[0],lims[1])\n",
    "ax.set_ylim(lims[2],lims[3])\n",
    "#alriiight got the metal from 0 to metalend.\n",
    "metalr=r[0:metalend]\n",
    "metaldist=Distance[0:metalend]\n",
    "\n",
    "\n",
    "metalarea=np.trapz(y=metalr,x=metaldist)  # *2pi) #approximate metal surface area by numerical integration in cylindrical coords\n",
    "Phic=np.trapz(y=metalr*Phie[0:metalend],x=metaldist)/metalarea #spatial average of Phie over metal surface\n",
    "#Phic came out to about 23V in this example, I will check on that in another plot.\n",
    "zeta=Phic-Phie #local induced zeta potential in volts. we should really keep it < 50 mV for validity"
   ]
  },
  {
   "cell_type": "code",
   "execution_count": 211,
   "metadata": {
    "collapsed": false
   },
   "outputs": [],
   "source": [
    "#sanity check, calculate the above area by rotating  the picture about the z axis\n",
    "#to create a tube and a disk (neglecting a factor of 2pi)\n",
    "#tube area would be 35*30 mm^2\n",
    "#disk area would be r2^2-r1^2 \n",
    "#35*30+105**2/2-30**2/2  #gives 6112, while numerical int gives 6027, I think it's close enough\n",
    "#If we try to get Maxwell to do the integration and calculate zeta, could compare result to these numbers to check it"
   ]
  },
  {
   "cell_type": "code",
   "execution_count": 212,
   "metadata": {
    "collapsed": false
   },
   "outputs": [
    {
     "data": {
      "text/plain": [
       "<matplotlib.text.Text at 0x11328ae10>"
      ]
     },
     "execution_count": 212,
     "metadata": {},
     "output_type": "execute_result"
    },
    {
     "data": {
      "image/png": "[encoded data removed]",
      "text/plain": [
       "<matplotlib.figure.Figure at 0x11217a290>"
      ]
     },
     "metadata": {},
     "output_type": "display_data"
    }
   ],
   "source": [
    "#another sanity check: should the spatially weighted average voltage be 23 volts? remember, leftmost parts in this plot are on\n",
    "#the flange. i can believe the spatial average stays near the low end bc the flange has a large area compared to the tube\n",
    "plt.plot(Distance[0:metalend],voltage[0:metalend])\n",
    "plt.title('Voltage vs distance')\n",
    "plt.xlabel('Distance from edge of flange (m)')\n",
    "plt.ylabel('Voltage at surface after screening (V)')"
   ]
  },
  {
   "cell_type": "code",
   "execution_count": 213,
   "metadata": {
    "collapsed": false
   },
   "outputs": [
    {
     "data": {
      "text/plain": [
       "(-0.38850580623835629, 0.41610174836989838)"
      ]
     },
     "execution_count": 213,
     "metadata": {},
     "output_type": "execute_result"
    }
   ],
   "source": [
    "#Keeping in mind the Helmholtz-Smoluchowski expression is hardly valid \n",
    "#for voltages > a few dozen mV, let's just check if it can export a usable surface profile.\n",
    "ucontour=-epsilon*zeta*etang/eta  #Helmholtz-Smoluchowski slip velocity in meters/s along the direction of the contour\n",
    "#for each point along the contour.\n",
    "#Still need to do some work to put it into r- and z-components for ANSYS. \n",
    "#meanwhile: what is the velocity range???\n",
    "np.min(ucontour),np.max(ucontour)"
   ]
  },
  {
   "cell_type": "code",
   "execution_count": 217,
   "metadata": {
    "collapsed": false
   },
   "outputs": [
    {
     "data": {
      "text/plain": [
       "'v100_p400_m10_e20_s2000_cindy.txt'"
      ]
     },
     "execution_count": 217,
     "metadata": {},
     "output_type": "execute_result"
    }
   ],
   "source": [
    "outname='v'+str(vApp)+'_p'+str(poreDiaNanometers)+'_m'+str(membThickMicrons)+'_e'+str(elecSepMicrons)\n",
    "outname=outname+'_s'+str(spacingNanometers)+'_'+outputSuffix\n",
    "outname"
   ]
  },
  {
   "cell_type": "code",
   "execution_count": 218,
   "metadata": {
    "collapsed": true
   },
   "outputs": [],
   "source": [
    "#from these numbers, generate an output file for Ansys geometry"
   ]
  },
  {
   "cell_type": "code",
   "execution_count": 196,
   "metadata": {
    "collapsed": true
   },
   "outputs": [],
   "source": [
    "#from the numbers and the velocity calc, generate an output profile for ANSYS to use."
   ]
  },
  {
   "cell_type": "code",
   "execution_count": 197,
   "metadata": {
    "collapsed": false
   },
   "outputs": [],
   "source": [
    "#What format for the velocity profiles? need to look that up in my ANSYS Fluent how-to document\n",
    "\n",
    "f=open(outputfile,'w')#Export the velocity profile in a format that ANSYS can use. Needs work!\n",
    "for i in range(0,len(ucontour)):\n",
    "    f.write(\"%.3f,%.3f\\r\\n\"%(ucontour[i],Distance[i]))\n",
    "f.write(\"\\r\\n\")"
   ]
  },
  {
   "cell_type": "code",
   "execution_count": null,
   "metadata": {
    "collapsed": true
   },
   "outputs": [],
   "source": []
  }
 ],
 "metadata": {
  "kernelspec": {
   "display_name": "Python 2",
   "language": "python",
   "name": "python2"
  },
  "language_info": {
   "codemirror_mode": {
    "name": "ipython",
    "version": 2
   },
   "file_extension": ".py",
   "mimetype": "text/x-python",
   "name": "python",
   "nbconvert_exporter": "python",
   "pygments_lexer": "ipython2",
   "version": "2.7.11"
  },
  "widgets": {
   "state": {},
   "version": "1.1.2"
  }
 },
 "nbformat": 4,
 "nbformat_minor": 0
}
