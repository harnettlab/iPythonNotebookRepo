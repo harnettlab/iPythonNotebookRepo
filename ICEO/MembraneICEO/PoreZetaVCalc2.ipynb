{
 "cells": [
  {
   "cell_type": "code",
   "execution_count": 1,
   "metadata": {
    "collapsed": true
   },
   "outputs": [],
   "source": [
    "#ZetaPotentialAndSurfVelocityCalc\n",
    "#CKH Aug 17 2016\n",
    "#Starting from a stl file with units of mm, where each mm corresponds to 1 micron\n",
    "#(because openSCAD barfs if you try to use microns)\n",
    "#Export a contour from an insulating-pore Maxwell sim. Bring in x,y,z coords, tangential E-field and voltage in a comma delimited .csv or .txt file \n",
    "#This program will calculate the local zeta potential and surface velocity using the method of Wu and Li (2008)\n",
    "#Wu, Zhemin, and Dongqing Li. \"Mixing and flow regulating by induced-charge electrokinetic flow in a microchannel with a pair of conducting triangle hurdles.\" Microfluidics and nanofluidics 5.1 (2008): 65-76."
   ]
  },
  {
   "cell_type": "code",
   "execution_count": 2,
   "metadata": {
    "collapsed": false
   },
   "outputs": [],
   "source": [
    "#Something about units here\n",
    "#Maxwell will export units in the column labels. Check below for a list of the column labels.\n",
    "epsilon =80.0*8.854e-12 #dielectric constant of water in F/m\n",
    "eta=8.9e-4 #dynamic viscosity of water in Pa*s"
   ]
  },
  {
   "cell_type": "code",
   "execution_count": 3,
   "metadata": {
    "collapsed": true
   },
   "outputs": [],
   "source": [
    "#imports\n",
    "import numpy as np"
   ]
  },
  {
   "cell_type": "code",
   "execution_count": 4,
   "metadata": {
    "collapsed": true
   },
   "outputs": [],
   "source": [
    "#Path names for input and output files\n",
    "inputfile='FieldsAlongContour2.csv'\n",
    "outputSuffix='cindy.txt'#going to generate geometry data labels from the file"
   ]
  },
  {
   "cell_type": "code",
   "execution_count": 5,
   "metadata": {
    "collapsed": false
   },
   "outputs": [
    {
     "data": {
      "text/plain": [
       "('Distance_mm',\n",
       " 'Voltage_V',\n",
       " 'MagE_V_per_meter',\n",
       " 'XCoord_',\n",
       " 'YCoord_',\n",
       " 'ZCoord_',\n",
       " 'TangUnitVecX_',\n",
       " 'TangUnitVecY_',\n",
       " 'TangUnitVecZ_',\n",
       " 'E_Tang_')"
      ]
     },
     "execution_count": 5,
     "metadata": {},
     "output_type": "execute_result"
    }
   ],
   "source": [
    "#Reading in the Maxwell file\n",
    "simdata= np.genfromtxt(inputfile, dtype=float, delimiter=',',names=True)#Wonderful, can call columns by names\n",
    "#Report the names it found, this will help with troubleshooting\n",
    "simdata.dtype.names\n",
    "#I see a label Voltage_V, this means I can get the voltages along the contour by stitchdata['Voltage_V']\n"
   ]
  },
  {
   "cell_type": "code",
   "execution_count": 6,
   "metadata": {
    "collapsed": false
   },
   "outputs": [],
   "source": [
    "#Convert everything that's not meters and V/m, to meters and V/m\n",
    "#And make it so the original mm-based OpenSCAD drawings are\n",
    "#actually microns\n",
    "Distance=simdata['Distance_mm']/1000/1000 #Put distance along contour in meters, make original units microns\n",
    "voltage=simdata['Voltage_V']#Voltage does not change\n",
    "#MagE_V_per_meter is not being used\n",
    "x=simdata['XCoord_']/1000 #It's still in meters, but makes the original units microns instead of mm\n",
    "y=simdata['YCoord_']/1000 #same\n",
    "z=simdata['ZCoord_']/1000 #same\n",
    "#Tangential unit vectors do not change, these are needed to write out velocity profiles.\n",
    "tangx=simdata['TangUnitVecX_']\n",
    "tangy=simdata['TangUnitVecY_']\n",
    "tangz=simdata['TangUnitVecZ_']\n",
    "E_Tang=simdata['E_Tang_']*1000 #Still in V/m but adjusted so the original units were microns instead of mm\n"
   ]
  },
  {
   "cell_type": "code",
   "execution_count": 7,
   "metadata": {
    "collapsed": true
   },
   "outputs": [],
   "source": [
    "#Fix for tacky matplotlib bug where scatterplot won't scale down to tiny data values\n",
    "def set_axlims(x,y, marginfactor):#Manual limits for some xy data if you dont care about axis equal\n",
    "    minx = x.min()\n",
    "    maxx = x.max()   #for instance voltage vs distance or other plots without same units for x & y\n",
    "    miny = y.min()\n",
    "    maxy = y.max()\n",
    "    xdatarange = maxx-minx\n",
    "    ydatarange = maxy-miny        \n",
    "    xborder = abs(xdatarange*marginfactor)\n",
    "    yborder = abs(ydatarange*marginfactor)\n",
    "    maxxlim = maxx+xborder\n",
    "    minxlim = minx-xborder\n",
    "    maxylim = maxy+yborder\n",
    "    minylim = miny-yborder\n",
    "    return minxlim,maxxlim,minylim,maxylim"
   ]
  },
  {
   "cell_type": "code",
   "execution_count": 8,
   "metadata": {
    "collapsed": true
   },
   "outputs": [],
   "source": [
    "#Fix for annoying matplotlib bug where scatterplot won't scale down to tiny data values\n",
    "def set_eq_axlims(x,y, marginfactor):#Manual AXIS EQUAL limits for some xy data\n",
    "    minx = x.min()\n",
    "    maxx = x.max()\n",
    "    miny = y.min()\n",
    "    maxy = y.max()\n",
    "    xdatarange = maxx-minx\n",
    "    ydatarange = maxy-miny  \n",
    "    centerx=(maxx+minx)/2\n",
    "    centery=(maxy+miny)/2\n",
    "    if xdatarange>ydatarange: #ydatarange is going to define it\n",
    "        ydatarange=xdatarange\n",
    "    else:\n",
    "        xdatarange=ydatarange\n",
    "    xborder = abs(xdatarange*marginfactor)\n",
    "    yborder = xborder\n",
    "    maxxlim = centerx+xdatarange/2+xborder\n",
    "    minxlim = centerx-xdatarange/2-xborder\n",
    "    maxylim = centery+ydatarange/2+yborder\n",
    "    minylim = centery-ydatarange/2-yborder\n",
    "    return minxlim,maxxlim,minylim,maxylim"
   ]
  },
  {
   "cell_type": "code",
   "execution_count": 9,
   "metadata": {
    "collapsed": false
   },
   "outputs": [
    {
     "data": {
      "text/plain": [
       "<matplotlib.text.Text at 0x106667750>"
      ]
     },
     "execution_count": 9,
     "metadata": {},
     "output_type": "execute_result"
    },
    {
     "data": {
      "image/png": "[encoded data removed]",
      "text/plain": [
       "<matplotlib.figure.Figure at 0x1054d5b50>"
      ]
     },
     "metadata": {},
     "output_type": "display_data"
    }
   ],
   "source": [
    "#Plotting code\n",
    "#Get some colors corresponding to voltages along the line, ranging from 0 to 1\n",
    "\n",
    "v=(voltage-np.min(voltage))/(np.max(voltage)-np.min(voltage))\n",
    "#maybe it will autoscale without doing this, I'm getting mixed results\n",
    "#Let's use r and z, r is sqrt(x**2+y**2) since I took a slice right through the z-axis.\n",
    "#%matplotlib inline\n",
    "\n",
    "r=np.sqrt(x**2+y**2)\n",
    "%matplotlib inline\n",
    "from matplotlib import pyplot as plt\n",
    "\n",
    "cMap=plt.cm.get_cmap('Spectral_r')#if i don't change this it tends to default to grayscale\n",
    "plt.set_cmap(cMap)\n",
    "plt.scatter(r,z,c=v,marker='+')#so much struggle to get the right kind of marker that would show the color!\n",
    "plt.title('Voltage along contour after charge screening') #Maxwell does better plots with color bars for scale\n",
    "#The purpose of this plot is to check on what I imported, and see whether it makes any sense\n",
    "#So why can't the thing autoscale smaller than 0.01, jeez that's stupid\n",
    "#30 min messing with various autoscale commands...worsens things, my data is still a speck\n",
    "#then find out that this is a documented bug but... \n",
    "#how did these professionals decide on making autoscale fail at an axis size of 0.06 ?\n",
    "#the matlab vs python time vs money question comes to mind\n",
    "#http://stackoverflow.com/questions/37634370/matplotlib-scatterplot-axis-autoscale-fails-for-small-data-values\n",
    "ax=plt.gca()\n",
    "lims=set_eq_axlims(r,z,.05)  #my function to repair this bug\n",
    "ax.set_xlim(lims[0],lims[1])\n",
    "ax.set_ylim(lims[2],lims[3])\n",
    "plt.xlabel('r(m)')\n",
    "plt.ylabel('z(m)')\n",
    "#looks like the electric field is downward along center of pore (-z direction), because E goes from pos voltage (red) \n",
    "#to negative (blue)\n"
   ]
  },
  {
   "cell_type": "code",
   "execution_count": 10,
   "metadata": {
    "collapsed": false
   },
   "outputs": [
    {
     "data": {
      "text/plain": [
       "(-1.1000000000000001e-05, 1.1000000000000001e-05)"
      ]
     },
     "execution_count": 10,
     "metadata": {},
     "output_type": "execute_result"
    },
    {
     "data": {
      "image/png": "[encoded data removed]",
      "text/plain": [
       "<matplotlib.figure.Figure at 0x1054eb3d0>"
      ]
     },
     "metadata": {},
     "output_type": "display_data"
    }
   ],
   "source": [
    "#Now look at the tangential value of the E-field along the direction of the contour\n",
    "etang=simdata['E_Tang_']\n",
    "e=(etang-np.min(etang))/(np.max(etang)-np.min(etang))\n",
    "plt.scatter(r,z,c=e,marker='+')\n",
    "plt.axis('equal')\n",
    "plt.title('Tangential e-field along direction of contour after charge screening') #Maxwell does better plots with color bars for scale\n",
    "#Like before, the purpose of this plot is to check on what I imported, does it make sense?\n",
    "plt.xlabel('r(m)')\n",
    "plt.ylabel('z(m)')\n",
    "ax=plt.gca()\n",
    "lims=set_eq_axlims(r,z,.05)  #my function to repair this bug\n",
    "ax.set_xlim(lims[0],lims[1])\n",
    "ax.set_ylim(lims[2],lims[3])"
   ]
  },
  {
   "cell_type": "code",
   "execution_count": 11,
   "metadata": {
    "collapsed": false
   },
   "outputs": [
    {
     "data": {
      "text/plain": [
       "<matplotlib.text.Text at 0x1067823d0>"
      ]
     },
     "execution_count": 11,
     "metadata": {},
     "output_type": "execute_result"
    },
    {
     "data": {
      "image/png": "[encoded data removed]",
      "text/plain": [
       "<matplotlib.figure.Figure at 0x1055787d0>"
      ]
     },
     "metadata": {},
     "output_type": "display_data"
    }
   ],
   "source": [
    "#I have to keep in mind the tangential E-field (etang) is defined along contour direcion. \n",
    "#The actual E direction flips sign from top to bottom\n",
    "#Check out relative magnitude of etang\n",
    "\n",
    "plt.plot(Distance, etang)\n",
    "plt.xlabel('distance along contour in meters')\n",
    "plt.ylabel('tangential e field along side of pore')\n",
    "#looks like in the pore, at distances 70-110, etangential is negative. does it make sense?"
   ]
  },
  {
   "cell_type": "code",
   "execution_count": 12,
   "metadata": {
    "collapsed": false
   },
   "outputs": [
    {
     "data": {
      "text/plain": [
       "(-1.1000000000000001e-05, 1.1000000000000001e-05)"
      ]
     },
     "execution_count": 12,
     "metadata": {},
     "output_type": "execute_result"
    },
    {
     "data": {
      "image/png": "[encoded data removed]",
      "text/plain": [
       "<matplotlib.figure.Figure at 0x105578550>"
      ]
     },
     "metadata": {},
     "output_type": "display_data"
    }
   ],
   "source": [
    "#OK... which is the start and end of the contour? In my plot, using the 'Spectral_r' colormap \n",
    "#the contour starts at blue and ends at red\n",
    "#This will help explain the sign of etangential\n",
    "normdist=(Distance-np.min(Distance))/(np.max(Distance)-np.min(Distance))\n",
    "plt.scatter(r,z,c=normdist,marker='+')\n",
    "plt.title('Start of contour: blue, end of contour: red')\n",
    "plt.axis('equal')\n",
    "plt.xlabel('m')\n",
    "#Yes, following the line from blue to red, the contour direction is in +z along the pore wall.\n",
    "#So when Etangential is negative, it's going against the direction of the contour.\n",
    "#\"Against\" is -z as you go along the pore wall.\n",
    "#That matches with E in -z direction, which is what came out of the voltage plot.\n",
    "ax=plt.gca()\n",
    "lims=set_eq_axlims(r,z,.05)  #my function to repair this bug\n",
    "ax.set_xlim(lims[0],lims[1])\n",
    "ax.set_ylim(lims[2],lims[3])"
   ]
  },
  {
   "cell_type": "code",
   "execution_count": 13,
   "metadata": {
    "collapsed": false
   },
   "outputs": [
    {
     "data": {
      "text/plain": [
       "(464, 463, 'v1_p400_m10_e20_s2000_cindy.txt')"
      ]
     },
     "execution_count": 13,
     "metadata": {},
     "output_type": "execute_result"
    }
   ],
   "source": [
    "#Extract geometry from the data\n",
    "vApp=int(np.round(max(v)-min(v)))\n",
    "poreDiaNanometers=int(np.round(np.min(r)*2*1000000000))\n",
    "spacingNanometers=int(np.round(np.max(r)*2*1000000000))\n",
    "elecSepMicrons=(max(z)-min(z))*1000000\n",
    "\n",
    "rbigs=np.where(r>max(r)-max(r)/float(len(Distance)))[0]\n",
    "rsmalls=np.where(r<min(r)+max(r)/float(len(Distance)))[0]\n",
    "membThickMicrons=int(np.round(elecSepMicrons*float(len(rsmalls))/(float(len(rsmalls))+float(len(rbigs)))))\n",
    "elecSepMicrons=int(np.round(elecSepMicrons))\n",
    "outname='v'+str(vApp)+'_p'+str(poreDiaNanometers)+'_m'+str(membThickMicrons)+'_e'+str(elecSepMicrons)\n",
    "outname=outname+'_s'+str(spacingNanometers)+'_'+outputSuffix\n",
    "\n",
    "len(rbigs),len(rsmalls),outname"
   ]
  },
  {
   "cell_type": "code",
   "execution_count": 14,
   "metadata": {
    "collapsed": false
   },
   "outputs": [
    {
     "data": {
      "text/plain": [
       "(231, 732)"
      ]
     },
     "execution_count": 14,
     "metadata": {},
     "output_type": "execute_result"
    }
   ],
   "source": [
    "#rbigs,rsmalls are indices where the radius is big and small, respectively\n",
    "#there is one place where rbigs has a huge jump and that is where the flange starts.\n",
    "rjumpdown=np.diff(rbigs)\n",
    "max_value = max(rjumpdown)\n",
    "#max_index = rjumpdown.index(max_value)\n",
    "rchangeloc=np.where(rjumpdown==max(rjumpdown))\n",
    "metalstart=rchangeloc[0][0] #peel that number out\n",
    "flatspots=len(Distance)-len(rbigs)-len(rsmalls)#how many of these points are on the vertical parts\n",
    "metalend=len(Distance)-len(rbigs)/2-flatspots/2\n",
    "metalstart,metalend\n",
    "\n",
    "#assumes Maxwell does z-symmetric distrib of points and that we stuck with the WaterGeomGen\n",
    "#and PoreGeomGen SCAD files, which center the pore in z\n"
   ]
  },
  {
   "cell_type": "code",
   "execution_count": 15,
   "metadata": {
    "collapsed": false
   },
   "outputs": [
    {
     "data": {
      "text/plain": [
       "2.4883199999999996e-12"
      ]
     },
     "execution_count": 15,
     "metadata": {},
     "output_type": "execute_result"
    },
    {
     "data": {
      "image/png": "[encoded data removed]",
      "text/plain": [
       "<matplotlib.figure.Figure at 0x106b06a90>"
      ]
     },
     "metadata": {},
     "output_type": "display_data"
    }
   ],
   "source": [
    "#To get the tangential velocity profile, have to calc the zeta potential along the contour.\n",
    "#In Wu's paper, the induced zeta potential is Phi-sub-c - Phi-sub-e, where\n",
    "#Phi-sub-c is the spatial average of the external voltage Phi-sub-e over the metal surface, \n",
    "#(Phi-sub-e is the external voltage I already have called 'voltage')\n",
    "Phie=voltage #I'm going to call Phi-sub-e just \"Phie\"\n",
    "\n",
    "#Now to calculate the surface area of the metal part only. perhaps I should have captured only the metal part\n",
    "#But it is nice to have the rest, and later be able to calc surface velocity on the non metal part, \n",
    "#using the fixed zeta potential of whatever the un-metallized polymer membrane has.\n",
    "\n",
    "\n",
    "\n",
    "plt.scatter(r[metalstart:metalend],z[metalstart:metalend],c=normdist[metalstart:metalend],marker='+')\n",
    "plt.title('Start of metal: blue, end of metal: red')\n",
    "ax=plt.gca()\n",
    "lims=set_eq_axlims(r[metalstart:metalend],z[metalstart:metalend],.05)  #my function to repair this bug\n",
    "ax.set_xlim(lims[0],lims[1])\n",
    "ax.set_ylim(lims[2],lims[3])\n",
    "#alriiight got the metal from 0 to metalend.\n",
    "metalr=r[metalstart:metalend]\n",
    "metaldist=Distance[metalstart:metalend]\n",
    "\n",
    "\n",
    "metalarea=np.trapz(y=metalr,x=metaldist)  # *2pi) #approximate metal surface area by numerical integration in cylindrical coords\n",
    "Phic=np.trapz(y=metalr*Phie[metalstart:metalend],x=metaldist)/metalarea #spatial average of Phie over metal surface\n",
    "zeta=Phic-Phie #local induced zeta potential in volts. we should really keep it < 50 mV for validity\n",
    "metalarea"
   ]
  },
  {
   "cell_type": "code",
   "execution_count": 16,
   "metadata": {
    "collapsed": false
   },
   "outputs": [
    {
     "data": {
      "text/plain": [
       "<matplotlib.text.Text at 0x106e48ad0>"
      ]
     },
     "execution_count": 16,
     "metadata": {},
     "output_type": "execute_result"
    },
    {
     "data": {
      "image/png": "[encoded data removed]",
      "text/plain": [
       "<matplotlib.figure.Figure at 0x106aaf210>"
      ]
     },
     "metadata": {},
     "output_type": "display_data"
    }
   ],
   "source": [
    "#another sanity check: is the spatially weighted average voltage right remember, leftmost parts in this plot are on\n",
    "#the flange. i can believe the spatial average stays near the low end bc the flange has a large area compared to the tube\n",
    "plt.plot(Distance[0:metalend],voltage[0:metalend])\n",
    "plt.title('Voltage vs distance')\n",
    "plt.xlabel('Distance from edge of flange (m)')\n",
    "plt.ylabel('Voltage at surface after screening (V)')"
   ]
  },
  {
   "cell_type": "code",
   "execution_count": 20,
   "metadata": {
    "collapsed": false
   },
   "outputs": [
    {
     "data": {
      "text/plain": [
       "(-0.46593300227214646, 0.33293712469824488, 1001, -501)"
      ]
     },
     "execution_count": 20,
     "metadata": {},
     "output_type": "execute_result"
    }
   ],
   "source": [
    "#Keeping in mind the Helmholtz-Smoluchowski expression is hardly valid \n",
    "#for voltages > a few dozen mV, let's just check if it can export a usable surface profile.\n",
    "ucontour=-epsilon*zeta*etang/eta  #Helmholtz-Smoluchowski slip velocity in meters/s along the direction of the contour\n",
    "#for each point along the contour.\n",
    "#Still need to do some work to put it into r- and z-components for ANSYS. \n",
    "#meanwhile: what is the velocity range???\n",
    "np.min(ucontour),np.max(ucontour), len(ucontour),metalstart-metalend"
   ]
  },
  {
   "cell_type": "code",
   "execution_count": 24,
   "metadata": {
    "collapsed": false
   },
   "outputs": [
    {
     "data": {
      "text/plain": [
       "<matplotlib.text.Text at 0x106ade650>"
      ]
     },
     "execution_count": 24,
     "metadata": {},
     "output_type": "execute_result"
    },
    {
     "data": {
      "image/png": "[encoded data removed]",
      "text/plain": [
       "<matplotlib.figure.Figure at 0x1078098d0>"
      ]
     },
     "metadata": {},
     "output_type": "display_data"
    }
   ],
   "source": [
    "#CKH 11/7/16 plot the local velocity for presentation\n",
    "#plt.scatter(r[metalstart:metalend],z[metalstart:metalend],c=ucontour[metalstart:metalend],marker='+')\n",
    "plt.plot(z[metalstart:metalend],ucontour[metalstart:metalend])\n",
    "plt.title('Surface velocity. Negative: blue,positive: red')\n",
    "plt.xlabel('z coordinate')\n",
    "plt.ylabel('surf velocity, mm/s')\n",
    "#ax=plt.gca()\n",
    "#lims=set_eq_axlims(r[metalstart:metalend],z[metalstart:metalend],.05)  #my function to repair this bug\n",
    "#ax.set_xlim(lims[0],lims[1])\n",
    "#ax.set_ylim(lims[2],lims[3])"
   ]
  },
  {
   "cell_type": "code",
   "execution_count": null,
   "metadata": {
    "collapsed": false
   },
   "outputs": [],
   "source": [
    "outname='v'+str(vApp)+'_p'+str(poreDiaNanometers)+'_m'+str(membThickMicrons)+'_e'+str(elecSepMicrons)\n",
    "outname=outname+'_s'+str(spacingNanometers)+'_'+outputSuffix\n",
    "outname"
   ]
  },
  {
   "cell_type": "code",
   "execution_count": null,
   "metadata": {
    "collapsed": true
   },
   "outputs": [],
   "source": [
    "#from these numbers, generate an output file for Ansys geometry"
   ]
  },
  {
   "cell_type": "code",
   "execution_count": null,
   "metadata": {
    "collapsed": true
   },
   "outputs": [],
   "source": [
    "#from the numbers and the velocity calc, generate an output profile for ANSYS to use."
   ]
  },
  {
   "cell_type": "code",
   "execution_count": null,
   "metadata": {
    "collapsed": false
   },
   "outputs": [],
   "source": [
    "#What format for the velocity profiles? need to look that up in my ANSYS Fluent how-to document\n",
    "\n",
    "f=open(outname,'w')#Export the velocity profile in a format that ANSYS can use. Needs work!\n",
    "for i in range(0,len(ucontour)):\n",
    "    f.write(\"%.3f,%.3f\\r\\n\"%(ucontour[i],Distance[i]))\n",
    "f.write(\"\\r\\n\")"
   ]
  },
  {
   "cell_type": "code",
   "execution_count": null,
   "metadata": {
    "collapsed": true
   },
   "outputs": [],
   "source": []
  }
 ],
 "metadata": {
  "kernelspec": {
   "display_name": "Python 2",
   "language": "python",
   "name": "python2"
  },
  "language_info": {
   "codemirror_mode": {
    "name": "ipython",
    "version": 2
   },
   "file_extension": ".py",
   "mimetype": "text/x-python",
   "name": "python",
   "nbconvert_exporter": "python",
   "pygments_lexer": "ipython2",
   "version": "2.7.12"
  },
  "widgets": {
   "state": {},
   "version": "1.1.2"
  }
 },
 "nbformat": 4,
 "nbformat_minor": 0
}
