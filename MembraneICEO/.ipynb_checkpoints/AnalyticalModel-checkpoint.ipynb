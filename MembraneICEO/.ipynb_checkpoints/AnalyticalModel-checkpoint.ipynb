{
 "cells": [
  {
   "cell_type": "code",
   "execution_count": 222,
   "metadata": {
    "collapsed": true
   },
   "outputs": [],
   "source": [
    "#AnalyticalModel\n",
    "#CKH Dec9 2016 - No CFD, combine Anderson and Idol 85 paper with\n",
    "#The local zeta potential and surface velocity using the method of Wu and Li (2008)\n",
    "#Wu, Zhemin, and Dongqing Li. \"Mixing and flow regulating by induced-charge electrokinetic flow in a microchannel with a pair of conducting triangle hurdles.\" Microfluidics and nanofluidics 5.1 (2008): 65-76."
   ]
  },
  {
   "cell_type": "code",
   "execution_count": 223,
   "metadata": {
    "collapsed": false
   },
   "outputs": [],
   "source": [
    "#Something about units here\n",
    "#Maxwell will export units in the column labels. Check below for a list of the column labels.\n",
    "epsilon =80.0*8.854e-12 #dielectric constant of water in F/m\n",
    "eta=8.9e-4 #dynamic viscosity of water in Pa*s\n",
    "\n",
    "#Currently ignores surface velocity on the polymer, because its time average is 0 when \n",
    "#driven by a pure AC electric field. \n",
    "#Also add the partially coated pore effect - and show what difference it makes.\n",
    "#But it would be needed if we want to flip the sign of the voltage and show the flow pattern in each half cycle.\n",
    "zetaPolymer=-0.02#zeta potential of the bare polymer membrane in volts\n",
    "#It will depend on what the surrounding solution is\n",
    "#I used -20 mV for polycarbonate at low concentration (pC near 0) and medium pH around 7\n",
    "#From fig 2b in Electrophoresis (2004) 25, 203–213\n",
    "#http://citeseerx.ist.psu.edu/viewdoc/download?doi=10.1.1.559.3862&rep=rep1&type=pdf"
   ]
  },
  {
   "cell_type": "code",
   "execution_count": 224,
   "metadata": {
    "collapsed": true
   },
   "outputs": [],
   "source": [
    "#imports\n",
    "import numpy as np"
   ]
  },
  {
   "cell_type": "code",
   "execution_count": 225,
   "metadata": {
    "collapsed": true
   },
   "outputs": [],
   "source": [
    "#Fix for tacky matplotlib bug where scatterplot won't scale down to tiny data values\n",
    "def set_axlims(x,y, marginfactor):#Manual limits for some xy data if you dont care about axis equal\n",
    "    minx = x.min()\n",
    "    maxx = x.max()   #for instance voltage vs distance or other plots without same units for x & y\n",
    "    miny = y.min()\n",
    "    maxy = y.max()\n",
    "    xdatarange = maxx-minx\n",
    "    ydatarange = maxy-miny        \n",
    "    xborder = abs(xdatarange*marginfactor)\n",
    "    yborder = abs(ydatarange*marginfactor)\n",
    "    maxxlim = maxx+xborder\n",
    "    minxlim = minx-xborder\n",
    "    maxylim = maxy+yborder\n",
    "    minylim = miny-yborder\n",
    "    return minxlim,maxxlim,minylim,maxylim"
   ]
  },
  {
   "cell_type": "code",
   "execution_count": 226,
   "metadata": {
    "collapsed": true
   },
   "outputs": [],
   "source": [
    "#Axis-equal version of fix for matplotlib bug where scatterplot won't scale down to tiny data values\n",
    "def set_eq_axlims(x,y, marginfactor):\n",
    "    minx = x.min()\n",
    "    maxx = x.max()\n",
    "    miny = y.min()\n",
    "    maxy = y.max()\n",
    "    xdatarange = maxx-minx\n",
    "    ydatarange = maxy-miny  \n",
    "    centerx=(maxx+minx)/2\n",
    "    centery=(maxy+miny)/2\n",
    "    if xdatarange>ydatarange: #ydatarange is going to define it\n",
    "        ydatarange=xdatarange\n",
    "    else:\n",
    "        xdatarange=ydatarange\n",
    "    xborder = abs(xdatarange*marginfactor)\n",
    "    yborder = xborder\n",
    "    maxxlim = centerx+xdatarange/2+xborder\n",
    "    minxlim = centerx-xdatarange/2-xborder\n",
    "    maxylim = centery+ydatarange/2+yborder\n",
    "    minylim = centery-ydatarange/2-yborder\n",
    "    return minxlim,maxxlim,minylim,maxylim"
   ]
  },
  {
   "cell_type": "code",
   "execution_count": 227,
   "metadata": {
    "collapsed": false
   },
   "outputs": [
    {
     "data": {
      "text/plain": [
       "<matplotlib.text.Text at 0x113bf8310>"
      ]
     },
     "execution_count": 227,
     "metadata": {},
     "output_type": "execute_result"
    },
    {
     "data": {
      "image/png": "[encoded data removed]",
      "text/plain": [
       "<matplotlib.figure.Figure at 0x113bedb90>"
      ]
     },
     "metadata": {},
     "output_type": "display_data"
    }
   ],
   "source": [
    "#To get the tangential velocity profile, have to calc the zeta potential along the contour.\n",
    "#In Wu's paper, the induced zeta potential is Phi-sub-c - Phi-sub-e, where\n",
    "#Phi-sub-c is the spatial average of the external voltage Phi-sub-e over the metal surface, \n",
    "#Phi-sub-e is the external voltage which looks pretty much like transmembrane voltage * z/length\n",
    "\n",
    "#I made a formula specific to the tube and flange, and made it nondimensionalized in 12/9/16 lab book\n",
    "Vt=0.2#trans-membrane voltage in volts, starts at 0 at the metal side\n",
    "lmlp=0.1 #Length of Metal/Length of Pore: Fraction of pore depth coated with metal; we have 0.08 - 1 micron depth out of 10 micron thickness\n",
    "rplm=0.2 #Radius of Pore/Length of Metal: Aspect ratio of metal tube; cross section showed we have 1 micron deep and 200 nm radius for 0.2\n",
    "rfrp=2.83 #Radius of Flange/Radius of Pore: This average ratio for pores with 12.5 percent open area is 2.83\n",
    "\n",
    "def phicalc(Vt,lmlp,rplm,rfrp):\n",
    "    phic=Vt*lmlp/(rplm*(rfrp**2-1)+2)\n",
    "    return phic\n",
    "\n",
    "phic1=phicalc(Vt,lmlp,rplm,rfrp)\n",
    "phicSinglePore=phicalc(Vt,lmlp,rplm,1000)#bigger flange radius to pore radius, effectively entire tube is one sign\n",
    "phicTube=phicalc(Vt,lmlp,rplm,1)#symmetric case, equal flange and tube\n",
    "\n",
    "def zetapot(zl,phic,Vt):\n",
    "    zeta=phic-Vt*zl\n",
    "    return zeta\n",
    "\n",
    "zl=np.linspace(0,lmlp,50) #relative lengths along the pore\n",
    "%matplotlib inline\n",
    "from matplotlib import pyplot as plt\n",
    "plt.plot(zl,zetapot(zl,phic1,Vt))#Your blue line is going to be somewhere between the two lines\n",
    "plt.hold('true')\n",
    "plt.plot(zl,zetapot(zl,phicSinglePore,Vt),'r') #Pretty much maxes out at some large flange size, would be interesting to plot\n",
    "plt.plot(zl,zetapot(zl,phicTube,Vt),'g') #Tube case should be symmetric\n",
    "plt.ylabel('Induced Zeta Potential(V)')\n",
    "plt.xlabel('Distance From Flange/Pore Length')"
   ]
  },
  {
   "cell_type": "code",
   "execution_count": 228,
   "metadata": {
    "collapsed": false
   },
   "outputs": [
    {
     "data": {
      "text/plain": [
       "(-0.018412072503218906,\n",
       " -0.0175879274967811,\n",
       " -0.000293070543718652,\n",
       " 0.0002799523776296626,\n",
       " -6.559083044494705e-06)"
      ]
     },
     "execution_count": 228,
     "metadata": {},
     "output_type": "execute_result"
    }
   ],
   "source": [
    "#Keeping in mind the Helmholtz-Smoluchowski expression is hardly valid \n",
    "#for voltages > a few dozen mV, let's just check if it can export a usable surface profile.\n",
    "plength=10e-6 #pore length in meters\n",
    "etang=-Vt/plength\n",
    "#for each point along the contour.\n",
    "#AvgZetaPos=phic1*lmlp-Vt/2*lmlp**2+(1-lmlp)*zetaPolymer #Average zeta potential within the tube when voltage is pos\n",
    "#AvgZetaNeg=-phic1*lmlp+Vt/2*lmlp**2+(1-lmlp)*zetaPolymer #Avg zeta potential within tube when voltage is neg\n",
    "AvgZetaPos=lmlp*(zetapot(0,phic1,Vt)+zetapot(lmlp,phic1,Vt))/2 +(1-lmlp)*zetaPolymer #Average zeta potential within the tube when voltage is pos\n",
    "AvgZetaNeg=lmlp*(zetapot(0,-phic1,-Vt)+zetapot(lmlp,-phic1,-Vt))/2+(1-lmlp)*zetaPolymer #Avg zeta potential within tube when voltage is neg\n",
    "#Anderson & Idol 85, is this okay\n",
    "AvgUcontourPos=-epsilon*AvgZetaPos*etang/eta  #Helmholtz-Smoluchowski slip velocity in meters/s along the direction of the contour\n",
    "AvgUcontourNeg=epsilon*AvgZetaNeg*etang/eta\n",
    "TimeAvgVelocity=(AvgUcontourPos+AvgUcontourNeg)/2\n",
    "AvgZetaPos,AvgZetaNeg,AvgUcontourPos,AvgUcontourNeg,TimeAvgVelocity\n"
   ]
  },
  {
   "cell_type": "code",
   "execution_count": 229,
   "metadata": {
    "collapsed": false
   },
   "outputs": [
    {
     "data": {
      "text/plain": [
       "<matplotlib.text.Text at 0x114095e10>"
      ]
     },
     "execution_count": 229,
     "metadata": {},
     "output_type": "execute_result"
    },
    {
     "data": {
      "image/png": "[encoded data removed]",
      "text/plain": [
       "<matplotlib.figure.Figure at 0x113ee26d0>"
      ]
     },
     "metadata": {},
     "output_type": "display_data"
    }
   ],
   "source": [
    "#How does the time-averaged zeta potential and wall velocity depend on flange-to-pore diameter ratio?\n",
    "rfrps=np.linspace(1,20,50)\n",
    "phics=[phicalc(Vt,lmlp,rplm,rfrp) for rfrp in rfrps]\n",
    "\n",
    "avgZPos=np.array([lmlp*(zetapot(0,phic,Vt)+zetapot(lmlp,phic,Vt))/2+(1-lmlp)*zetaPolymer for phic in phics])\n",
    "avgZNeg=np.array([lmlp*(zetapot(0,-phic,-Vt)+zetapot(lmlp,-phic,-Vt))/2+(1-lmlp)*zetaPolymer for phic in phics])\n",
    "\n",
    "avgUPos=-epsilon*avgZPos*etang/eta\n",
    "avgUNeg=epsilon*avgZNeg*etang/eta\n",
    "\n",
    "def avgUPositive (Vto,lmlpo,rplmo,rfrpo,zetaPolymer,plength):#calculate a single avgUPositive for a set of variables\n",
    "    etango=-Vto/plength\n",
    "    phico=phicalc(Vto,lmlpo,rplmo,rfrpo)\n",
    "    avgZPoso=lmlpo*(zetapot(0,phico,Vto)+zetapot(lmlpo,phico,Vto))/2+(1-lmlpo)*zetaPolymer\n",
    "    avgUPoso=-epsilon*avgZPoso*etango/eta\n",
    "    return avgUPoso\n",
    "\n",
    "def avgUNegative(Vto,lmlpo,rplmo,rfrpo,zetaPolymer,plength):#calculate a single avgUNegative for a set of variables\n",
    "    etango=Vto/plength\n",
    "    phico=phicalc(Vto,lmlpo,rplmo,rfrpo)\n",
    "    avgZNego=lmlpo*(zetapot(0,-phico,-Vto)+zetapot(lmlpo,-phico,-Vto))/2+(1-lmlpo)*zetaPolymer\n",
    "    avgUNego=-epsilon*avgZNego*etango/eta\n",
    "    return avgUNego\n",
    "\n",
    "def avgWallVel(Vto,lmlpo,rplmo,rfrpo,zetaPolymer,plength): #Time averaged wall velocity in mm/s\n",
    "    return 1000*(avgUPositive(Vto,lmlp,rplm,2.83,zetaPolymer,plength)+avgUNegative(Vto,lmlp,rplm,2.83,zetaPolymer,plength))/2\n",
    "\n",
    "TAWV=(avgUPos+avgUNeg)/2#Time averaged wall velocity\n",
    "TAWV2=(avgUPositive(Vt,lmlp,rplm,2.83,zetaPolymer,plength)+avgUNegative(Vt,lmlp,rplm,2.83,zetaPolymer,plength))/2\n",
    "#plt.plot(rfrps,avgZPos,'b')\n",
    "#plt.hold('true')\n",
    "#plt.plot(rfrps,avgZNeg,'r')\n",
    "#plt.plot(rfrps,avgUPos*1000,'b')\n",
    "#plt.hold('true')\n",
    "#plt.plot(rfrps,avgUNeg*1000,'r')\n",
    "plt.plot(rfrps,TAWV*1000,'g')\n",
    "plt.hold('true')\n",
    "#test out my function and see what voltage puts an x where the experimental value lands:\n",
    "plt.plot(2.83,avgWallVel(Vt,lmlp,rplm,2.83,zetaPolymer,plength),'rx')\n",
    "plt.xlabel('Flange diameter/Pore Diameter')\n",
    "plt.ylabel('Time Averaged Wall Velocity, mm/s')\n",
    "plt.title('Wall velocity as a function of pore spacing')"
   ]
  },
  {
   "cell_type": "code",
   "execution_count": 230,
   "metadata": {
    "collapsed": false
   },
   "outputs": [
    {
     "data": {
      "text/plain": [
       "<matplotlib.text.Text at 0x11411b790>"
      ]
     },
     "execution_count": 230,
     "metadata": {},
     "output_type": "execute_result"
    },
    {
     "data": {
      "image/png": "[encoded data removed]",
      "text/plain": [
       "<matplotlib.figure.Figure at 0x113ae2f50>"
      ]
     },
     "metadata": {},
     "output_type": "display_data"
    }
   ],
   "source": [
    "#Now I could plot velocity as a function of e-field for our geometry\n",
    "varray=np.linspace(0,0.4,50)\n",
    "wallvels=[avgWallVel(v,lmlp,rplm,2.83,zetaPolymer,plength) for v in varray]\n",
    "plt.plot(varray,wallvels)\n",
    "plt.xlabel('Transmembrane voltage (V)')\n",
    "plt.ylabel('Time-averaged wall velocity (mm/s)')\n",
    "plt.hold('true')\n",
    "plt.plot(0.18,-0.005,'rx')#We got 0.005 mm/s in intake video, what would the transmembrane voltage have had to be\n",
    "#if everything was linear\n",
    "#it looks like 0.18 V\n",
    "#what would the zeta potential be if 0.18V was applied-- less than 20 mV so that's linear\n",
    "#But we are applying 120-130 V from the electrodes.\n",
    "#Could ion crowding be shorting out the pore a bit, making it hard to develop more than a volt transmembrane?\n",
    "plt.title('The usual parabola')"
   ]
  },
  {
   "cell_type": "code",
   "execution_count": 231,
   "metadata": {
    "collapsed": false
   },
   "outputs": [
    {
     "data": {
      "text/plain": [
       "(78539816.33974482, 9.151418503910868)"
      ]
     },
     "execution_count": 231,
     "metadata": {},
     "output_type": "execute_result"
    }
   ],
   "source": [
    "#Now want to know pressure drop for this amount of flow. use pipe flow equation \n",
    "#Do we get in the 400 Pa range?\n",
    "n=1e8 #(Number of pores per cm3)\n",
    "diskrad=.5 #exposed membrane radius in cm\n",
    "N=np.pi*diskrad**2*n #total number of pores in the membrane\n",
    "rpore=200e-9 #individual pore radius in meters. result is very sensitive to this.\n",
    "tubelength=0.2 #Tube length in meters - Total length of silicone tubes leading to and exiting device\n",
    "tuberadius=0.0005 #Tube radius in meters, about 1mm inner diameter\n",
    "#ignore the pressure drop in the 1cm wide acrylic thing leading up to the membrane, and the holey support.\n",
    "\n",
    "\n",
    "def pressuredrop (plength,N,rpore,tubelength,tuberadius):#feed it average velocity in mm/s\n",
    "    qmax=4e-9/82# intake in cubic meters per second observed by Jaz\n",
    "    #This is the intake Jaz measured, not sure if there was any pressure drop in the tubes leading to it\n",
    "    pmax=qmax*8*eta*(plength/(N*np.pi*rpore**4)+ tubelength/(np.pi*tuberadius**4)) #Hagen-Poiseuille flow\n",
    "    #for a membrane with N pores in parallel, all in series with the silicone tube\n",
    "    return pmax\n",
    "\n",
    "pmax=pressuredrop(plength,N,rpore,tubelength,tuberadius)\n",
    "N,pmax #max pressure in pascals from flow. It is only coming out like 9 Pa. \n",
    "#But we measure pressure drops in the 400 Pa range.\n",
    "#Could the extra pressure we see be coming from electrolysis bubbles at the metal face?\n",
    "#If so, wouldn't we see more fluid coming out than going in, at first?\n",
    "#Would measuring the electric current be able to tell us?"
   ]
  },
  {
   "cell_type": "code",
   "execution_count": 240,
   "metadata": {
    "collapsed": false
   },
   "outputs": [
    {
     "data": {
      "text/plain": [
       "<matplotlib.text.Text at 0x11223cf90>"
      ]
     },
     "execution_count": 240,
     "metadata": {},
     "output_type": "execute_result"
    },
    {
     "data": {
      "image/png": "[encoded data removed]",
      "text/plain": [
       "<matplotlib.figure.Figure at 0x1108c4ed0>"
      ]
     },
     "metadata": {},
     "output_type": "display_data"
    }
   ],
   "source": [
    "#How about calculating the side wall velocity as a function of pore diameter\n",
    "rplmo=np.linspace(0.01,0.15,50)#Ranges from to 200 nm diameter, to 3 micron diameter pores in a 10 micron thick film\n",
    "#Keep pore-pore spacing same as in the 400 nm pore system but vary pore radius\n",
    "uavg=[avgWallVel(Vt,lmlp,rplm,0.566/rplm,zetaPolymer,plength) for rplm in rplmo]\n",
    "plt.plot(rplmo,uavg)\n",
    "plt.xlabel('Pore Radius/Pore Length')\n",
    "plt.ylabel('Avg Flow Velocity In Pores, mm/s')\n",
    "plt.title ('U vs Pore Radius for 10 um thick, 11.32 um spacing, 20 mV Vt')"
   ]
  },
  {
   "cell_type": "code",
   "execution_count": 239,
   "metadata": {
    "collapsed": false
   },
   "outputs": [
    {
     "data": {
      "text/plain": [
       "<matplotlib.text.Text at 0x1146aa610>"
      ]
     },
     "execution_count": 239,
     "metadata": {},
     "output_type": "execute_result"
    },
    {
     "data": {
      "image/png": "[encoded data removed]",
      "text/plain": [
       "<matplotlib.figure.Figure at 0x1107f2f90>"
      ]
     },
     "metadata": {},
     "output_type": "display_data"
    }
   ],
   "source": [
    "#Volumetric Flow Rate per cm2 vs pore radius\n",
    "#For a 10 micron thick, 11.32 micron spacing, 20 mV Vt, 10^8 pores/cm2 membrane that matches our 0.4 micron results\n",
    "Q=np.array([n*np.pi*(rplm*plength*1000)**2*avgWallVel(Vt,lmlp,rplm,0.566/rplm,zetaPolymer,plength) for rplm in rplmo])\n",
    "plt.plot(rplmo,Q*60)\n",
    "plt.xlabel('Pore Radius/Pore Length')\n",
    "plt.ylabel('Vol Flow Rate per cm2 of membrane, ul/min')"
   ]
  },
  {
   "cell_type": "code",
   "execution_count": null,
   "metadata": {
    "collapsed": true
   },
   "outputs": [],
   "source": [
    "#Pressure vs pore radius with everything else fixed-- probably we won't be able to measure this bc of bubbles"
   ]
  },
  {
   "cell_type": "code",
   "execution_count": 48,
   "metadata": {
    "collapsed": false
   },
   "outputs": [
    {
     "data": {
      "text/plain": [
       "('./ProfilesForAnsys/v150_p400_m10_e20_s2000_geom_.txt',\n",
       " './ProfilesForAnsys/v150_p400_m10_e20_s2000_prof_.txt')"
      ]
     },
     "execution_count": 48,
     "metadata": {},
     "output_type": "execute_result"
    }
   ],
   "source": [
    "outname='v'+str(vApp)+'_p'+str(poreDiaNanometers)+'_m'+str(membThickMicrons)+'_e'+str(elecSepMicrons)\n",
    "outname=outname+'_s'+str(spacingNanometers)\n",
    "outnameGeom='./ProfilesForAnsys/'+ outname+'_geom_'+outputSuffix\n",
    "outnameProf='./ProfilesForAnsys/' + outname + '_prof_'+ outputSuffix\n",
    "outnameGeom,outnameProf"
   ]
  },
  {
   "cell_type": "code",
   "execution_count": 49,
   "metadata": {
    "collapsed": false
   },
   "outputs": [],
   "source": [
    "#from these numbers, generate an output file for importing the same shape into 2D axisymm ANSYS CFD sim\n",
    "zdom=float(elecSepMicrons)/2/1000000 #max |z| of sim domain in meters\n",
    "zmemb=float(membThickMicrons)/2/1000000 #membrane max |z| in meters\n",
    "rpore=float(poreDiaNanometers)/2/1000000000 #pore radius in meters\n",
    "rdom=float(spacingNanometers)/2/1000000000 #sim domain radius in meters\n",
    "f=open(outnameGeom,'w')\n",
    "f.write (\"1\\t1\\t%2.10f\\t%2.10f\\t0\\r\\n\"%(-zdom,rdom))\n",
    "f.write (\"1\\t2\\t%2.10f\\t%2.10f\\t0\\r\\n\"%(-zmemb,rdom))\n",
    "\n",
    "f.write (\"2\\t1\\t%2.10f\\t%2.10f\\t0\\r\\n\"%(-zmemb,rdom))\n",
    "f.write (\"2\\t2\\t%2.10f\\t%2.10f\\t0\\r\\n\"%(-zmemb,rpore))\n",
    "\n",
    "f.write (\"3\\t1\\t%2.10f\\t%2.10f\\t0\\r\\n\"%(-zmemb,rpore))\n",
    "f.write (\"3\\t2\\t%2.10f\\t%2.10f\\t0\\r\\n\"%(zmemb,rpore))\n",
    "\n",
    "f.write (\"4\\t1\\t%2.10f\\t%2.10f\\t0\\r\\n\"%(zmemb,rpore))\n",
    "f.write (\"4\\t2\\t%2.10f\\t%2.10f\\t0\\r\\n\"%(zmemb,rdom))\n",
    "\n",
    "f.write (\"5\\t1\\t%2.10f\\t%2.10f\\t0\\r\\n\"%(zmemb,rdom))\n",
    "f.write (\"5\\t2\\t%2.10f\\t%2.10f\\t0\\r\\n\"%(zdom,rdom))\n",
    "\n",
    "f.write (\"6\\t1\\t%2.10f\\t%2.10f\\t0\\r\\n\"%(zdom,rdom))\n",
    "f.write (\"6\\t2\\t%2.10f\\t%2.10f\\t0\\r\\n\"%(zdom,0))\n",
    "\n",
    "f.write (\"7\\t1\\t%2.10f\\t%2.10f\\t0\\r\\n\"%(zdom,0))\n",
    "f.write (\"7\\t2\\t%2.10f\\t%2.10f\\t0\\r\\n\"%(-zdom,0))\n",
    "\n",
    "f.write (\"8\\t1\\t%2.10f\\t%2.10f\\t0\\r\\n\"%(-zdom,0))\n",
    "f.write (\"8\\t2\\t%2.10f\\t%2.10f\\t0\\r\\n\"%(-zdom,rdom))\n",
    "\n",
    "f.close()\n",
    "#zdom,zmemb,rpore,rdom"
   ]
  },
  {
   "cell_type": "code",
   "execution_count": 50,
   "metadata": {
    "collapsed": false
   },
   "outputs": [],
   "source": [
    "\n",
    "f=open(outnameProf,'w')#Export the velocity profile in a format that ANSYS can use.\n",
    "#Should I use all (several hundred) points or will it barf?? \n",
    "#Variables to write are xAnsys,yAnsys,uvelocity,vvelocity.\n",
    "f.write(\"((\" + outname + \" point %5d)\\r\\n\"%len(xAnsys))\n",
    "f.write(\"(x\")\n",
    "for i in range(0,len(xAnsys)):\n",
    "    f.write(\" %e\"%xAnsys[i])\n",
    "f.write(\")\\r\\n\")\n",
    "f.write(\"(y\")\n",
    "for i in range(0,len(xAnsys)):\n",
    "    f.write(\" %e\"%yAnsys[i])\n",
    "f.write(\")\\r\\n\")\n",
    "f.write(\"(u\")\n",
    "for i in range(0,len(xAnsys)):\n",
    "    f.write(\" %e\"%uvelocity[i])\n",
    "f.write(\")\\r\\n\")\n",
    "f.write(\"(v\")\n",
    "for i in range(0,len(xAnsys)):\n",
    "    f.write(\" %e\"%vvelocity[i])\n",
    "f.write(\"))\\r\\n\")\n",
    "f.close()"
   ]
  },
  {
   "cell_type": "code",
   "execution_count": null,
   "metadata": {
    "collapsed": true
   },
   "outputs": [],
   "source": []
  }
 ],
 "metadata": {
  "kernelspec": {
   "display_name": "Python 2",
   "language": "python",
   "name": "python2"
  },
  "language_info": {
   "codemirror_mode": {
    "name": "ipython",
    "version": 2
   },
   "file_extension": ".py",
   "mimetype": "text/x-python",
   "name": "python",
   "nbconvert_exporter": "python",
   "pygments_lexer": "ipython2",
   "version": "2.7.12"
  },
  "widgets": {
   "state": {},
   "version": "1.1.2"
  }
 },
 "nbformat": 4,
 "nbformat_minor": 0
}
