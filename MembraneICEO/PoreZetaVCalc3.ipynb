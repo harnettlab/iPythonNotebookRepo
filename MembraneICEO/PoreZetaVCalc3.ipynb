{
 "cells": [
  {
   "cell_type": "code",
   "execution_count": 93,
   "metadata": {
    "collapsed": true
   },
   "outputs": [],
   "source": [
    "#ZetaPotentialAndSurfVelocityCalc\n",
    "#CKH Sept10 2016 - work with csv files exported from an axisymmetric Maxwell sim\n",
    "#Starting from a stl file with units of mm, where each mm corresponds to 1 micron\n",
    "#(because openSCAD barfs if you try to use microns)\n",
    "#Export a contour from an insulating-pore Maxwell sim. Bring in x,y,z coords, tangential E-field and voltage in a comma delimited .csv or .txt file \n",
    "#This program will calculate the local zeta potential and surface velocity using the method of Wu and Li (2008)\n",
    "#Wu, Zhemin, and Dongqing Li. \"Mixing and flow regulating by induced-charge electrokinetic flow in a microchannel with a pair of conducting triangle hurdles.\" Microfluidics and nanofluidics 5.1 (2008): 65-76."
   ]
  },
  {
   "cell_type": "code",
   "execution_count": 94,
   "metadata": {
    "collapsed": false
   },
   "outputs": [],
   "source": [
    "#Something about units here\n",
    "#Maxwell will export units in the column labels. Check below for a list of the column labels.\n",
    "epsilon =80.0*8.854e-12 #dielectric constant of water in F/m\n",
    "eta=8.9e-4 #dynamic viscosity of water in Pa*s\n",
    "\n",
    "#Currently ignores surface velocity on the polymer, because its time average is 0 when \n",
    "#driven by a pure AC electric field. \n",
    "#But it would be needed if we want to flip the sign of the voltage and show the flow pattern in each half cycle.\n",
    "#zetaPolymer=-0.02#zeta potential of the bare polymer membrane in volts\n",
    "#It will depend on what the surrounding solution is\n",
    "#I used -20 mV for polycarbonate at low concentration (pC near 0) and medium pH around 7\n",
    "#From fig 2b in Electrophoresis (2004) 25, 203–213\n",
    "#http://citeseerx.ist.psu.edu/viewdoc/download?doi=10.1.1.559.3862&rep=rep1&type=pdf"
   ]
  },
  {
   "cell_type": "code",
   "execution_count": 95,
   "metadata": {
    "collapsed": true
   },
   "outputs": [],
   "source": [
    "#imports\n",
    "import numpy as np"
   ]
  },
  {
   "cell_type": "code",
   "execution_count": 96,
   "metadata": {
    "collapsed": true
   },
   "outputs": [],
   "source": [
    "#Path names for input and output files\n",
    "inputfile='AxisymmReport.csv'\n",
    "outputSuffix='round.txt'#going to generate geometry data labels from the file"
   ]
  },
  {
   "cell_type": "code",
   "execution_count": 97,
   "metadata": {
    "collapsed": false
   },
   "outputs": [
    {
     "data": {
      "text/plain": [
       "('Distance_mm',\n",
       " 'Voltage_V',\n",
       " 'XCoord_',\n",
       " 'YCoord_',\n",
       " 'ZCoord_',\n",
       " 'TangUnitVecX_',\n",
       " 'TangUnitVecY_',\n",
       " 'TangUnitVecZ_',\n",
       " 'E_Tang_')"
      ]
     },
     "execution_count": 97,
     "metadata": {},
     "output_type": "execute_result"
    }
   ],
   "source": [
    "#Reading in the Maxwell file\n",
    "simdata= np.genfromtxt(inputfile, dtype=float, delimiter=',',names=True)#Wonderful, can call columns by names\n",
    "#Report the names it found, this will help with troubleshooting\n",
    "simdata.dtype.names\n",
    "#I see a label Voltage_V, this means I can get the voltages along the contour by stitchdata['Voltage_V']\n"
   ]
  },
  {
   "cell_type": "code",
   "execution_count": 98,
   "metadata": {
    "collapsed": false
   },
   "outputs": [],
   "source": [
    "#Convert everything that's not meters and V/m, to meters and V/m\n",
    "#And make it so the original mm-based OpenSCAD drawings are\n",
    "#actually microns\n",
    "Distance=simdata['Distance_mm']/1000/1000 #Put distance along contour in meters, make original units microns\n",
    "voltage=simdata['Voltage_V']#Voltage does not change\n",
    "#MagE_V_per_meter is not being used\n",
    "x=simdata['XCoord_']/1000 #It's still in meters, but makes the original units microns instead of mm\n",
    "y=simdata['YCoord_']/1000 #same\n",
    "z=simdata['ZCoord_']/1000 #same\n",
    "#Tangential unit vectors do not change, these are needed to write out velocity profiles.\n",
    "tangx=simdata['TangUnitVecX_']\n",
    "tangy=simdata['TangUnitVecY_']#these are 0 if we draw the contour in the xy plane\n",
    "tangz=simdata['TangUnitVecZ_']\n",
    "E_Tang=simdata['E_Tang_']*1000 #Still in V/m but adjusted so the original units were microns instead of mm\n"
   ]
  },
  {
   "cell_type": "code",
   "execution_count": 99,
   "metadata": {
    "collapsed": true
   },
   "outputs": [],
   "source": [
    "#Fix for tacky matplotlib bug where scatterplot won't scale down to tiny data values\n",
    "def set_axlims(x,y, marginfactor):#Manual limits for some xy data if you dont care about axis equal\n",
    "    minx = x.min()\n",
    "    maxx = x.max()   #for instance voltage vs distance or other plots without same units for x & y\n",
    "    miny = y.min()\n",
    "    maxy = y.max()\n",
    "    xdatarange = maxx-minx\n",
    "    ydatarange = maxy-miny        \n",
    "    xborder = abs(xdatarange*marginfactor)\n",
    "    yborder = abs(ydatarange*marginfactor)\n",
    "    maxxlim = maxx+xborder\n",
    "    minxlim = minx-xborder\n",
    "    maxylim = maxy+yborder\n",
    "    minylim = miny-yborder\n",
    "    return minxlim,maxxlim,minylim,maxylim"
   ]
  },
  {
   "cell_type": "code",
   "execution_count": 100,
   "metadata": {
    "collapsed": true
   },
   "outputs": [],
   "source": [
    "#Axis-equal version of fix for matplotlib bug where scatterplot won't scale down to tiny data values\n",
    "def set_eq_axlims(x,y, marginfactor):\n",
    "    minx = x.min()\n",
    "    maxx = x.max()\n",
    "    miny = y.min()\n",
    "    maxy = y.max()\n",
    "    xdatarange = maxx-minx\n",
    "    ydatarange = maxy-miny  \n",
    "    centerx=(maxx+minx)/2\n",
    "    centery=(maxy+miny)/2\n",
    "    if xdatarange>ydatarange: #ydatarange is going to define it\n",
    "        ydatarange=xdatarange\n",
    "    else:\n",
    "        xdatarange=ydatarange\n",
    "    xborder = abs(xdatarange*marginfactor)\n",
    "    yborder = xborder\n",
    "    maxxlim = centerx+xdatarange/2+xborder\n",
    "    minxlim = centerx-xdatarange/2-xborder\n",
    "    maxylim = centery+ydatarange/2+yborder\n",
    "    minylim = centery-ydatarange/2-yborder\n",
    "    return minxlim,maxxlim,minylim,maxylim"
   ]
  },
  {
   "cell_type": "code",
   "execution_count": 101,
   "metadata": {
    "collapsed": false
   },
   "outputs": [
    {
     "data": {
      "text/plain": [
       "<matplotlib.text.Text at 0x1055694d0>"
      ]
     },
     "execution_count": 101,
     "metadata": {},
     "output_type": "execute_result"
    },
    {
     "data": {
      "image/png": "[encoded data removed]",
      "text/plain": [
       "<matplotlib.figure.Figure at 0x106f22990>"
      ]
     },
     "metadata": {},
     "output_type": "display_data"
    }
   ],
   "source": [
    "#Plotting code\n",
    "#Get some colors corresponding to voltages along the line, ranging from 0 to 1\n",
    "\n",
    "v=(voltage-np.min(voltage))/(np.max(voltage)-np.min(voltage))\n",
    "#maybe it will autoscale without doing this, I'm getting mixed results\n",
    "#Let's use r and z, r is sqrt(x**2+y**2) since I took a slice right through the z-axis.\n",
    "#%matplotlib inline\n",
    "\n",
    "r=np.sqrt(x**2+y**2)\n",
    "%matplotlib inline\n",
    "from matplotlib import pyplot as plt\n",
    "\n",
    "cMap=plt.cm.get_cmap('Spectral_r')#if i don't change this it tends to default to grayscale\n",
    "plt.set_cmap(cMap)\n",
    "plt.scatter(r,z,c=v,marker='+')#so much struggle to get the right kind of marker that would show the color!\n",
    "plt.title('Voltage along contour after charge screening') #Maxwell does better plots with color bars for scale\n",
    "#The purpose of this plot is to check on what I imported, and see whether it makes any sense\n",
    "#So why can't the thing autoscale smaller than 0.01, jeez that's stupid\n",
    "#30 min messing with various autoscale commands...worsens things, my data is still a speck\n",
    "#then find out that this is a documented bug but... \n",
    "#how did these professionals decide on making autoscale fail at an axis size of 0.06 ?\n",
    "#the matlab vs python time vs money question comes to mind\n",
    "#http://stackoverflow.com/questions/37634370/matplotlib-scatterplot-axis-autoscale-fails-for-small-data-values\n",
    "ax=plt.gca()\n",
    "lims=set_eq_axlims(r,z,.05)  #my function to repair this bug\n",
    "ax.set_xlim(lims[0],lims[1])\n",
    "ax.set_ylim(lims[2],lims[3])\n",
    "plt.xlabel('r(m)')\n",
    "plt.ylabel('z(m)')\n",
    "#looks like the electric field is downward along center of pore (-z direction), because E goes from pos voltage (red) \n",
    "#to negative (blue)\n"
   ]
  },
  {
   "cell_type": "code",
   "execution_count": 102,
   "metadata": {
    "collapsed": false
   },
   "outputs": [
    {
     "data": {
      "text/plain": [
       "(-1.1000000000000001e-05, 1.1000000000000001e-05)"
      ]
     },
     "execution_count": 102,
     "metadata": {},
     "output_type": "execute_result"
    },
    {
     "data": {
      "image/png": "[encoded data removed]",
      "text/plain": [
       "<matplotlib.figure.Figure at 0x1080f9790>"
      ]
     },
     "metadata": {},
     "output_type": "display_data"
    }
   ],
   "source": [
    "#Now look at the tangential value of the E-field along the direction of the contour\n",
    "etang=simdata['E_Tang_']\n",
    "e=(etang-np.min(etang))/(np.max(etang)-np.min(etang))\n",
    "plt.scatter(r,z,c=e,marker='+')\n",
    "plt.axis('equal')\n",
    "plt.title('Tangential e-field along direction of contour after charge screening') #Maxwell does better plots with color bars for scale\n",
    "#Like before, the purpose of this plot is to check on what I imported, does it make sense?\n",
    "plt.xlabel('r(m)')\n",
    "plt.ylabel('z(m)')\n",
    "ax=plt.gca()\n",
    "lims=set_eq_axlims(r,z,.05)  #my function to repair this bug\n",
    "ax.set_xlim(lims[0],lims[1])\n",
    "ax.set_ylim(lims[2],lims[3])"
   ]
  },
  {
   "cell_type": "code",
   "execution_count": 103,
   "metadata": {
    "collapsed": false
   },
   "outputs": [
    {
     "data": {
      "text/plain": [
       "<matplotlib.text.Text at 0x10834be10>"
      ]
     },
     "execution_count": 103,
     "metadata": {},
     "output_type": "execute_result"
    },
    {
     "data": {
      "image/png": "[encoded data removed]",
      "text/plain": [
       "<matplotlib.figure.Figure at 0x107448ad0>"
      ]
     },
     "metadata": {},
     "output_type": "display_data"
    }
   ],
   "source": [
    "#I have to keep in mind the tangential E-field (etang) is defined along contour direcion. \n",
    "#The actual E direction flips sign from top to bottom\n",
    "#Check out relative magnitude of etang\n",
    "\n",
    "plt.plot(Distance, etang)\n",
    "plt.xlabel('distance along contour in meters')\n",
    "plt.ylabel('tangential e field along side of pore')\n",
    "#looks like in the pore, at distances 70-110, etangential is negative. does it make sense?"
   ]
  },
  {
   "cell_type": "code",
   "execution_count": 104,
   "metadata": {
    "collapsed": false
   },
   "outputs": [
    {
     "data": {
      "text/plain": [
       "(-1.1000000000000001e-05, 1.1000000000000001e-05)"
      ]
     },
     "execution_count": 104,
     "metadata": {},
     "output_type": "execute_result"
    },
    {
     "data": {
      "image/png": "[encoded data removed]",
      "text/plain": [
       "<matplotlib.figure.Figure at 0x1085183d0>"
      ]
     },
     "metadata": {},
     "output_type": "display_data"
    }
   ],
   "source": [
    "#OK... which is the start and end of the contour? In my plot, using the 'Spectral_r' colormap \n",
    "#the contour starts at blue and ends at red\n",
    "#This will help explain the sign of etangential\n",
    "normdist=(Distance-np.min(Distance))/(np.max(Distance)-np.min(Distance))\n",
    "plt.scatter(r,z,c=normdist,marker='+')\n",
    "plt.title('Start of contour: blue, end of contour: red')\n",
    "plt.axis('equal')\n",
    "plt.xlabel('m')\n",
    "#Yes, following the line from blue to red, the contour direction is in +z along the pore wall.\n",
    "#So when Etangential is negative, it's going against the direction of the contour.\n",
    "#\"Against\" is -z as you go along the pore wall.\n",
    "#That matches with E in -z direction, which is what came out of the voltage plot.\n",
    "ax=plt.gca()\n",
    "lims=set_eq_axlims(r,z,.05)  #my function to repair this bug\n",
    "ax.set_xlim(lims[0],lims[1])\n",
    "ax.set_ylim(lims[2],lims[3])"
   ]
  },
  {
   "cell_type": "code",
   "execution_count": 105,
   "metadata": {
    "collapsed": false
   },
   "outputs": [
    {
     "data": {
      "text/plain": [
       "(464, 463, 'v1_p400_m10_e20_s2000_round.txt')"
      ]
     },
     "execution_count": 105,
     "metadata": {},
     "output_type": "execute_result"
    }
   ],
   "source": [
    "#Extract geometry from the data\n",
    "vApp=int(np.round(max(voltage)-min(voltage)))\n",
    "poreDiaNanometers=int(np.round(np.min(r)*2*1000000000))\n",
    "spacingNanometers=int(np.round(np.max(r)*2*1000000000))\n",
    "elecSepMicrons=(max(z)-min(z))*1000000\n",
    "\n",
    "rbigs=np.where(r>max(r)-max(r)/float(len(Distance)))[0]\n",
    "rsmalls=np.where(r<min(r)+max(r)/float(len(Distance)))[0]\n",
    "membThickMicrons=int(np.round(elecSepMicrons*float(len(rsmalls))/(float(len(rsmalls))+float(len(rbigs)))))\n",
    "elecSepMicrons=int(np.round(elecSepMicrons))\n",
    "outname='v'+str(vApp)+'_p'+str(poreDiaNanometers)+'_m'+str(membThickMicrons)+'_e'+str(elecSepMicrons)\n",
    "outname=outname+'_s'+str(spacingNanometers)+'_'+outputSuffix\n",
    "\n",
    "len(rbigs),len(rsmalls),outname"
   ]
  },
  {
   "cell_type": "code",
   "execution_count": 106,
   "metadata": {
    "collapsed": false
   },
   "outputs": [
    {
     "data": {
      "text/plain": [
       "(231, 732)"
      ]
     },
     "execution_count": 106,
     "metadata": {},
     "output_type": "execute_result"
    }
   ],
   "source": [
    "#rbigs,rsmalls are indices where the radius is big and small, respectively\n",
    "#there is one place where rbigs has a huge jump and that is where the flange starts.\n",
    "rjumpdown=np.diff(rbigs)\n",
    "max_value = max(rjumpdown)\n",
    "#max_index = rjumpdown.index(max_value)\n",
    "rchangeloc=np.where(rjumpdown==max(rjumpdown))\n",
    "metalstart=rchangeloc[0][0] #peel that number out\n",
    "flatspots=len(Distance)-len(rbigs)-len(rsmalls)#how many of these points are on the vertical parts\n",
    "metalend=len(Distance)-len(rbigs)/2-flatspots/2\n",
    "metalstart,metalend\n",
    "\n",
    "#assumes Maxwell does z-symmetric distrib of points and that we stuck with the WaterGeomGen\n",
    "#and PoreGeomGen SCAD files, which center the pore in z\n"
   ]
  },
  {
   "cell_type": "code",
   "execution_count": 107,
   "metadata": {
    "collapsed": false
   },
   "outputs": [
    {
     "data": {
      "image/png": "[encoded data removed]",
      "text/plain": [
       "<matplotlib.figure.Figure at 0x1087220d0>"
      ]
     },
     "metadata": {},
     "output_type": "display_data"
    }
   ],
   "source": [
    "#To get the tangential velocity profile, have to calc the zeta potential along the contour.\n",
    "#In Wu's paper, the induced zeta potential is Phi-sub-c - Phi-sub-e, where\n",
    "#Phi-sub-c is the spatial average of the external voltage Phi-sub-e over the metal surface, \n",
    "#(Phi-sub-e is the external voltage I already have called 'voltage')\n",
    "Phie=voltage #I'm going to call Phi-sub-e just \"Phie\"\n",
    "\n",
    "#Now to calculate the surface area of the metal part only. perhaps I should have captured only the metal part\n",
    "#But it is nice to have the rest, and later be able to calc surface velocity on the non metal part, \n",
    "#using the fixed zeta potential of whatever the un-metallized polymer membrane has.\n",
    "\n",
    "\n",
    "\n",
    "plt.scatter(r[metalstart:metalend],z[metalstart:metalend],c=normdist[metalstart:metalend],marker='+')\n",
    "plt.title('Start of metal: blue, end of metal: red')\n",
    "ax=plt.gca()\n",
    "lims=set_eq_axlims(r[metalstart:metalend],z[metalstart:metalend],.05)  #my function to repair this bug\n",
    "ax.set_xlim(lims[0],lims[1])\n",
    "ax.set_ylim(lims[2],lims[3])\n",
    "#alriiight got the metal from 0 to metalend.\n",
    "metalr=r[metalstart:metalend]\n",
    "metaldist=Distance[metalstart:metalend]\n",
    "\n",
    "\n",
    "metalarea=np.trapz(y=metalr,x=metaldist)  # *2pi) #approximate metal surface area by numerical integration in cylindrical coords\n",
    "Phic=np.trapz(y=metalr*Phie[metalstart:metalend],x=metaldist)/metalarea #spatial average of Phie over metal surface\n",
    "#Phic came out to about 23V in this example, I will check on that in another plot.\n",
    "zeta=Phic-Phie #local induced zeta potential in volts. we should really keep it < 50 mV for validity"
   ]
  },
  {
   "cell_type": "code",
   "execution_count": 109,
   "metadata": {
    "collapsed": false
   },
   "outputs": [
    {
     "data": {
      "text/plain": [
       "<matplotlib.text.Text at 0x1082e7dd0>"
      ]
     },
     "execution_count": 109,
     "metadata": {},
     "output_type": "execute_result"
    },
    {
     "data": {
      "image/png": "[encoded data removed]",
      "text/plain": [
       "<matplotlib.figure.Figure at 0x1087be350>"
      ]
     },
     "metadata": {},
     "output_type": "display_data"
    }
   ],
   "source": [
    "#plot voltage along the contour to check things\n",
    "plt.plot(Distance[0:metalend],voltage[0:metalend])\n",
    "plt.title('Voltage vs distance')\n",
    "plt.xlabel('Distance from edge of flange (m)')\n",
    "plt.ylabel('Voltage at surface after screening (V)')"
   ]
  },
  {
   "cell_type": "code",
   "execution_count": 119,
   "metadata": {
    "collapsed": false
   },
   "outputs": [],
   "source": [
    "#Keeping in mind the Helmholtz-Smoluchowski expression is hardly valid \n",
    "#for voltages > a few dozen mV, let's just check if it can export a usable surface profile.\n",
    "ucontour=-epsilon*zeta*etang/eta  #Helmholtz-Smoluchowski slip velocity in meters/s along the direction of the contour\n",
    "#for each point along the contour.\n",
    "\n",
    "#meanwhile: what is the velocity range???\n",
    "np.min(ucontour),np.max(ucontour)\n",
    "#now break it down into components so we can export the velocity profile\n",
    "#in ANSYS, x is the distance along the pore, which is called z here.\n",
    "#And in ANSYS, y is the radial coordinate. Here, it has been called r.\n",
    "#And in ANSYS there is no z-- we are doing a 2D axisymmetric simulation.\n",
    "xAnsys=z[metalstart:metalend] #This calculates surf velocity just on the metal\n",
    "yAnsys=r[metalstart:metalend]#Could add the AC velocity component from the bare polymer later\n",
    "#zAnsys= 0, we don't need to export it\n",
    "uvelocity=ucontour[metalstart:metalend]*tangz[metalstart:metalend]  #how do I do point by point mult with np arrays\n",
    "vvelocity=ucontour[metalstart:metalend]*tangx[metalstart:metalend] #radial velocity small but nonzero at flange\n",
    "#wvelocity=0 when I drew a contour in the Maxwell x-z plane, w won't be imported to 2D axisymm"
   ]
  },
  {
   "cell_type": "code",
   "execution_count": 120,
   "metadata": {
    "collapsed": false
   },
   "outputs": [
    {
     "data": {
      "text/plain": [
       "('v1_p400_m10_e20_s2000_geom_round.txt',\n",
       " 'v1_p400_m10_e20_s2000_prof_round.txt')"
      ]
     },
     "execution_count": 120,
     "metadata": {},
     "output_type": "execute_result"
    }
   ],
   "source": [
    "outname='v'+str(vApp)+'_p'+str(poreDiaNanometers)+'_m'+str(membThickMicrons)+'_e'+str(elecSepMicrons)\n",
    "outname=outname+'_s'+str(spacingNanometers)\n",
    "outnameGeom=outname+'_geom_'+outputSuffix\n",
    "outnameProf=outname + '_prof_'+ outputSuffix\n",
    "outnameGeom,outnameProf"
   ]
  },
  {
   "cell_type": "code",
   "execution_count": 121,
   "metadata": {
    "collapsed": false
   },
   "outputs": [],
   "source": [
    "#from these numbers, generate an output file for importing the same shape into 2D axisymm ANSYS CFD sim\n",
    "zdom=float(elecSepMicrons)/2/1000000 #max |z| of sim domain in meters\n",
    "zmemb=float(membThickMicrons)/2/1000000 #membrane max |z| in meters\n",
    "rpore=float(poreDiaNanometers)/2/1000000000 #pore radius in meters\n",
    "rdom=float(spacingNanometers)/2/1000000000 #sim domain radius in meters\n",
    "f=open(outnameGeom,'w')\n",
    "f.write (\"1\\t1\\t%2.10f\\t%2.10f\\t0\\r\\n\"%(-zdom,rdom))\n",
    "f.write (\"1\\t2\\t%2.10f\\t%2.10f\\t0\\r\\n\"%(-zmemb,rdom))\n",
    "\n",
    "f.write (\"2\\t1\\t%2.10f\\t%2.10f\\t0\\r\\n\"%(-zmemb,rdom))\n",
    "f.write (\"2\\t2\\t%2.10f\\t%2.10f\\t0\\r\\n\"%(-zmemb,rpore))\n",
    "\n",
    "f.write (\"3\\t1\\t%2.10f\\t%2.10f\\t0\\r\\n\"%(-zmemb,rpore))\n",
    "f.write (\"3\\t2\\t%2.10f\\t%2.10f\\t0\\r\\n\"%(zmemb,rpore))\n",
    "\n",
    "f.write (\"4\\t1\\t%2.10f\\t%2.10f\\t0\\r\\n\"%(zmemb,rpore))\n",
    "f.write (\"4\\t2\\t%2.10f\\t%2.10f\\t0\\r\\n\"%(zmemb,rdom))\n",
    "\n",
    "f.write (\"5\\t1\\t%2.10f\\t%2.10f\\t0\\r\\n\"%(zmemb,rdom))\n",
    "f.write (\"5\\t2\\t%2.10f\\t%2.10f\\t0\\r\\n\"%(zdom,rdom))\n",
    "\n",
    "f.write (\"6\\t1\\t%2.10f\\t%2.10f\\t0\\r\\n\"%(zdom,rdom))\n",
    "f.write (\"6\\t2\\t%2.10f\\t%2.10f\\t0\\r\\n\"%(zdom,0))\n",
    "\n",
    "f.write (\"7\\t1\\t%2.10f\\t%2.10f\\t0\\r\\n\"%(zdom,0))\n",
    "f.write (\"7\\t2\\t%2.10f\\t%2.10f\\t0\\r\\n\"%(-zdom,0))\n",
    "\n",
    "f.write (\"8\\t1\\t%2.10f\\t%2.10f\\t0\\r\\n\"%(-zdom,0))\n",
    "f.write (\"8\\t2\\t%2.10f\\t%2.10f\\t0\\r\\n\"%(-zdom,rdom))\n",
    "\n",
    "f.close()\n",
    "#zdom,zmemb,rpore,rdom"
   ]
  },
  {
   "cell_type": "code",
   "execution_count": 125,
   "metadata": {
    "collapsed": false
   },
   "outputs": [],
   "source": [
    "\n",
    "f=open(outnameProf,'w')#Export the velocity profile in a format that ANSYS can use.\n",
    "#Should I use all (several hundred) points or will it barf?? \n",
    "#Variables to write are xAnsys,yAnsys,uvelocity,vvelocity.\n",
    "f.write(\"((\" + outname + \" point %5d)\\r\\n\"%len(xAnsys))\n",
    "f.write(\"(x\")\n",
    "for i in range(0,len(xAnsys)):\n",
    "    f.write(\" %e\"%xAnsys[i])\n",
    "f.write(\")\\r\\n\")\n",
    "f.write(\"(y\")\n",
    "for i in range(0,len(xAnsys)):\n",
    "    f.write(\" %e\"%yAnsys[i])\n",
    "f.write(\")\\r\\n\")\n",
    "f.write(\"(u\")\n",
    "for i in range(0,len(xAnsys)):\n",
    "    f.write(\" %e\"%uvelocity[i])\n",
    "f.write(\")\\r\\n\")\n",
    "f.write(\"(v\")\n",
    "for i in range(0,len(xAnsys)):\n",
    "    f.write(\" %e\"%vvelocity[i])\n",
    "f.write(\"))\\r\\n\")\n",
    "f.close()"
   ]
  },
  {
   "cell_type": "code",
   "execution_count": null,
   "metadata": {
    "collapsed": true
   },
   "outputs": [],
   "source": []
  }
 ],
 "metadata": {
  "kernelspec": {
   "display_name": "Python 2",
   "language": "python",
   "name": "python2"
  },
  "language_info": {
   "codemirror_mode": {
    "name": "ipython",
    "version": 2
   },
   "file_extension": ".py",
   "mimetype": "text/x-python",
   "name": "python",
   "nbconvert_exporter": "python",
   "pygments_lexer": "ipython2",
   "version": "2.7.11"
  },
  "widgets": {
   "state": {},
   "version": "1.1.2"
  }
 },
 "nbformat": 4,
 "nbformat_minor": 0
}
