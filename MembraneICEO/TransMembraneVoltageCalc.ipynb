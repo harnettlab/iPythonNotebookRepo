{
 "cells": [
  {
   "cell_type": "code",
   "execution_count": 33,
   "metadata": {
    "collapsed": true
   },
   "outputs": [],
   "source": [
    "#TransMembraneVoltageCalc CKH 12-6-16\n",
    "#Hmmm I thought I had done this as a Python notebook, but it was just done in my lab book around Oct 18-19\n",
    "#For a given geometry, you get a proportionality constant between the electrode voltage\n",
    "#and the transmembrane voltage. So I calculated it for our geometry and punched it into my calculator...\n",
    "#Here it is in a more automated format"
   ]
  },
  {
   "cell_type": "code",
   "execution_count": 34,
   "metadata": {
    "collapsed": false
   },
   "outputs": [
    {
     "data": {
      "text/plain": [
       "array([ 0.        ,  0.26293362,  0.52586723,  0.78880085,  1.05173447,\n",
       "        1.31466808])"
      ]
     },
     "execution_count": 34,
     "metadata": {},
     "output_type": "execute_result"
    }
   ],
   "source": [
    "import numpy as np #I like how np.arrays work with addition & multiplcation, they're more like Matlab\n",
    "Vapplied=np.array([0, 30,60,90,120,150]) #set your applied voltage here\n",
    "\n",
    "#We will assume the membrane condcutivity is 0 compared to the liquid. Liquid conductivity will cancel out\n",
    "#Membrane area will also cancel out\n",
    "\n",
    "LeFront=3 #Distance from closest tip of ziggys tube to the front side of membrane. (Pick a side, doesn't really matter)\n",
    "#I put it in mm, but as long as all your dimensions match this will work\n",
    "#3mm is about the thickness of 1/8 inch acrylic.\n",
    "\n",
    "LeBack=6 #Distance from the closest tip of the other ziggy's tube, to the back side of the membrane\n",
    "#Here I put 6mm to account for the acrylic piece w/the large hole, plus the acrylic support piece with the multiple holes\n",
    "#I didn't account for the multiple holes though. This means we are over estimating the transmembrane voltage drop a bit.\n",
    "\n",
    "t=0.01 #Membrane thickness in mm (10 microns)\n",
    "\n",
    "n=1e8 #Number of holes per square cm given in SPIpore catalog (10e8 for the 400 nm hole membrane)\n",
    "r=2e-5 #Pore radius in centimeters. (make sure n and r^2 units match each other so this will work)\n",
    "#Example 400 nm diameter =0.4 micron =0.0004 mm=0.00004 cm-- divide by 2 to get radius\n",
    "Apore=3.14159*r**2 #Individual pore cross-sectional area\n",
    "\n",
    "f=n*Apore  #Fraction of membrane area that's holes. unitless: 10e8(/cm^2) * area. For our expt it was 0.126\n",
    "\n",
    "#The pores act like small resistors in parallel\n",
    "#The parallel resistance of all the pores is in series with 2 cylinders of water having length Le. \n",
    "#working this out\n",
    "Vpore=Vapplied*(t/f) /(LeFront+LeBack+t/f)\n",
    "\n",
    "Vpore #these are the numbers I used on the fig 5 plot trans-membrane voltage scale\n",
    "\n"
   ]
  },
  {
   "cell_type": "code",
   "execution_count": 35,
   "metadata": {
    "collapsed": false
   },
   "outputs": [
    {
     "data": {
      "text/plain": [
       "array([ 0.        ,  0.19763325,  0.3952665 ,  0.59289975,  0.790533  ,\n",
       "        0.98816625])"
      ]
     },
     "execution_count": 35,
     "metadata": {},
     "output_type": "execute_result"
    }
   ],
   "source": [
    "#How about account for multiple support holes that fill a fraction Fh of the acrylic spacer\n",
    "#Now there are 2 large-hole acrylic pieces of thickness LeFront, typically 3 mm, in series w the membrane\n",
    "#And a holey support piece with same thickness LeFront but with only part of the area filled with holes (water)\n",
    "\n",
    "Fh=0.5 #Fraction of area of support piece that's holes-- I am just guessing\n",
    "\n",
    "#Now the formula changes a little to account for the holey piece in series\n",
    "VporeMultipleHoles=Vapplied*(t/f) /(LeFront + LeFront + LeFront/Fh + t/f)\n",
    "VporeMultipleHoles"
   ]
  },
  {
   "cell_type": "code",
   "execution_count": 36,
   "metadata": {
    "collapsed": true
   },
   "outputs": [],
   "source": [
    "#Maybe update the trans-membrane voltage scale on the plot. The overall conclusion is not too different:\n",
    "#got to go sub 15 applied voltage range to get 0.1 transmembrane voltage \n",
    "#the goal is to get close to (or below) the 0.026V thermal voltage which is the linear regime"
   ]
  },
  {
   "cell_type": "code",
   "execution_count": null,
   "metadata": {
    "collapsed": true
   },
   "outputs": [],
   "source": []
  }
 ],
 "metadata": {
  "kernelspec": {
   "display_name": "Python 2",
   "language": "python",
   "name": "python2"
  },
  "language_info": {
   "codemirror_mode": {
    "name": "ipython",
    "version": 2
   },
   "file_extension": ".py",
   "mimetype": "text/x-python",
   "name": "python",
   "nbconvert_exporter": "python",
   "pygments_lexer": "ipython2",
   "version": "2.7.12"
  },
  "widgets": {
   "state": {},
   "version": "1.1.2"
  }
 },
 "nbformat": 4,
 "nbformat_minor": 0
}
