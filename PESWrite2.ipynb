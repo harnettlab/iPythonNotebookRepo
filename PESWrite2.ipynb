{
 "cells": [
  {
   "cell_type": "code",
   "execution_count": 909,
   "metadata": {
    "collapsed": true
   },
   "outputs": [],
   "source": [
    "#ckh Aug-Sept 2016 trying PES export, bring in a file instead of hard coding\n",
    "#See if i can get something to show up in StitchBuddy and on my machine\n",
    "#first without any complicated jumps or color changes.\n",
    "#Then I need to add jumps so the chariot is pointing in the right direction before stitching.\n",
    "#I can insert them in the simpler .exp format but StitchBuddy removes these \"unnecessary\" jumps\n",
    "#when converting into .pes\n",
    "import numpy as np"
   ]
  },
  {
   "cell_type": "code",
   "execution_count": 910,
   "metadata": {
    "collapsed": true
   },
   "outputs": [],
   "source": [
    "inputfile='TwoSpirals.txt'\n",
    "outputfile='TwoSpiTest17.pes'"
   ]
  },
  {
   "cell_type": "code",
   "execution_count": 911,
   "metadata": {
    "collapsed": false
   },
   "outputs": [],
   "source": [
    "#inputx=np.array([0,5,10,10,10, 5, 0,0,0])*10\n",
    "#inputy=np.array([0,0, 0, 5,10,10,10,5,0])*10# A little square in mm, converted to PES file units of 0.1mm\n",
    "#nputy=-inputy #StitchBuddy flips the y-value for some reason"
   ]
  },
  {
   "cell_type": "code",
   "execution_count": 912,
   "metadata": {
    "collapsed": false
   },
   "outputs": [],
   "source": [
    "stitchdata= np.loadtxt(inputfile, delimiter=',')\n",
    "inputx=np.round(np.array(stitchdata[:,0])*10)\n",
    "inputy=-np.round(np.array(stitchdata[:,1])*10) #load data in mm, convert to integers in 0.1mm units"
   ]
  },
  {
   "cell_type": "code",
   "execution_count": 913,
   "metadata": {
    "collapsed": false
   },
   "outputs": [
    {
     "data": {
      "text/plain": [
       "(-40.0, 40.0, -30.0, 30.0)"
      ]
     },
     "execution_count": 913,
     "metadata": {},
     "output_type": "execute_result"
    },
    {
     "data": {
      "image/png": "[encoded data removed]",
      "text/plain": [
       "<matplotlib.figure.Figure at 0x107cbbbd0>"
      ]
     },
     "metadata": {},
     "output_type": "display_data"
    }
   ],
   "source": [
    "%matplotlib inline\n",
    "from matplotlib import pyplot as plt\n",
    "plt.plot(inputx/10,inputy/10)#plot units are mm\n",
    "plt.axis('equal')"
   ]
  },
  {
   "cell_type": "code",
   "execution_count": 914,
   "metadata": {
    "collapsed": false
   },
   "outputs": [
    {
     "data": {
      "text/plain": [
       "(2, 250, 2, 34)"
      ]
     },
     "execution_count": 914,
     "metadata": {},
     "output_type": "execute_result"
    }
   ],
   "source": [
    "xsize=np.max(inputx)-np.min(inputx)\n",
    "ysize=np.max(inputy)-np.min(inputy)\n",
    "YsizeMSB=int(np.trunc(ysize/256))\n",
    "YsizeLSB=int(ysize-256*YsizeMSB)\n",
    "XsizeMSB=int(np.trunc(xsize/256))\n",
    "XsizeLSB=int(xsize-256*XsizeMSB)\n",
    "XsizeMSB,XsizeLSB,YsizeMSB,YsizeLSB #gonna be used later"
   ]
  },
  {
   "cell_type": "code",
   "execution_count": 915,
   "metadata": {
    "collapsed": false
   },
   "outputs": [
    {
     "data": {
      "text/plain": [
       "(0, 49)"
      ]
     },
     "execution_count": 915,
     "metadata": {},
     "output_type": "execute_result"
    }
   ],
   "source": [
    "NumberOfStitches=len(inputx)\n",
    "NumStitchMSB=int(np.trunc(NumberOfStitches/256))\n",
    "NumStitchLSB=int(NumberOfStitches-NumStitchMSB*256)\n",
    "NumStitchMSB,NumStitchLSB #will be used later"
   ]
  },
  {
   "cell_type": "code",
   "execution_count": 916,
   "metadata": {
    "collapsed": true
   },
   "outputs": [],
   "source": [
    "#Positions of items in PES files, for Python where vectors start at 0\n",
    "PECstartloc=8\n",
    "NumColorLocOffset=48 #related to where to find number of colors in the file\n",
    "#Trever Adams has 48, this seems to match what StitchBuddy does. usually put 0 (one color)\n",
    "ColorLocOffset=49 #this is what Achatina mentions, it refers to the start of the color table\n",
    "#the next few bytes would hold additional color values but USUALLY only have one color\n",
    "#so I did not handle more bytes here yet.\n",
    "GraphicLocOffset=514 #matches what Trever Adams has\n",
    "SizeLocOffset=520 #it's related to where we will write the x and y extents\n",
    "StitchStartOffset=532 #it's related to where we will start the cumulative stitch data\n",
    "StitchEndOffset=512 #it's related to where the stitch data will end\n",
    "\n"
   ]
  },
  {
   "cell_type": "code",
   "execution_count": 917,
   "metadata": {
    "collapsed": false
   },
   "outputs": [],
   "source": [
    "#Bytes 0-7 are a header\n",
    "PESdatastart=[35, 80, 69, 83, 48, 48, 48, 49] # writes #PES0001 at start of file\n",
    "\n",
    "#Bytes 8, 9 and 10 give location data for the graphics. I will come back to it later on.\n",
    "PESsection1=[0,0,0]\n",
    "\n",
    "#Bytes 11 through 30\n",
    "PESsection2=[0, 0, 0, 1, 0, 1, 0, 255, 255, 0, 0, 7, 0, 67, 69, 109, 98, 79, 110, 101] #7 0 CEmbOne\n",
    "#The pattern seems consistent between different files"
   ]
  },
  {
   "cell_type": "code",
   "execution_count": 918,
   "metadata": {
    "collapsed": false
   },
   "outputs": [
    {
     "data": {
      "text/plain": [
       "[107, 2, 215, 2, 101, 5, 249, 4, 107, 2, 215, 2, 101, 5, 249, 4]"
      ]
     },
     "execution_count": 918,
     "metadata": {},
     "output_type": "execute_result"
    }
   ],
   "source": [
    "#PESsection3\n",
    "#Bytes 31-46 differ between patterns. \n",
    "#In a square data file, the last 2 bytes were a copy of the first 2\n",
    "##Other people are saying this is min X, min Y , max X, max Y\n",
    "#But I'm not finding those minX and minY values in the file. And they are all positive. Their\n",
    "#difference matches the width (x) and height(y) respectively but there is\n",
    "#some large positive offset. It turns out, this offset centers the bounding box\n",
    "#at 1000,1000(10 cm, 10 cm) from which min X, min Y, max X, and max Y are calculated,\n",
    "#keeping all the range-numbers positive I guess for a 4-inch hoop\n",
    "minXMSB=int(np.trunc(np.min(1000+inputx)/256))\n",
    "minXLSB=int(np.min(1000+inputx)-256*minXMSB)\n",
    "minYMSB=int(np.trunc(np.min(1000+inputy)/256))\n",
    "minYLSB=int(np.min(1000+inputy)-256*minYMSB)\n",
    "maxXMSB=int(np.trunc(np.max(1000+inputx)/256))\n",
    "maxXLSB=int(np.max(1000+inputx)-256*maxXMSB)\n",
    "maxYMSB=int(np.trunc(np.max(1000+inputy)/256))\n",
    "maxYLSB=int(np.max(1000+inputy)-256*maxYMSB)\n",
    "PESsection3=[minXLSB, minXMSB, minYLSB, minYMSB, maxXLSB, maxXMSB, maxYLSB, maxYMSB]\n",
    "PESsection3=PESsection3*2 #Both files repeat the 8 bytes 2x\n",
    "#Maybe they expect a bigger hoop in another version of the format\n",
    "#Meanwhile, the PE525 machine may be using this info to select a hoop but it IGNORES these XY endpoints\n",
    "#and puts the centroid of the bounding box at 0,0 during stitching\n",
    "#PESsection3=[232,3,232,3,232,3,232,3]*2\n",
    "#StitchBuddy has 232,3 instead of 76,4. Trying that out instead to see if my pattern appears.\n",
    "PESsection3\n",
    "\n",
    "#it is def running into the upper wall at 249,4 because of a wrong offset."
   ]
  },
  {
   "cell_type": "code",
   "execution_count": 919,
   "metadata": {
    "collapsed": true
   },
   "outputs": [],
   "source": [
    "#Another consistent stretch between bytes 47 and 72, there's a discrepancy btw what Stitchbuddy\n",
    "#produces and what Trever Adams finds, he has 0,0,0,0,0,0,0,0 instead of 0,0, 122,68,0,0,122,68\n",
    "PESsection4=[0, 0, 128, 63, 0, 0, 0, 0, 0, 0, 0, 0, 0, 0, 128, 63, 0, 0, 0, 0, 0, 0, 0, 0, 1, 0];"
   ]
  },
  {
   "cell_type": "code",
   "execution_count": 920,
   "metadata": {
    "collapsed": false
   },
   "outputs": [],
   "source": [
    "#PESsection5. ok except all my examples are for a centered design\n",
    "#and the 1cm square here is not centered.\n",
    "#Bytes 73-80 are different between files. Bytes 77-78 are x extent\n",
    "#and bytes 79-80 are y-extent. 73-74 246 255 in both rotated and unrotated,\n",
    "#75 76 y-offset  250 0 vs 236 0 in the rotated one.\n",
    "#PESsection5=[XoffsetLSB XoffsetMSB YoffsetLSB YoffsetMSB XsizeLSB XsizeMSB YsizeLSB YsizeMSB];\n",
    "#For now. The  bytes 73-80 are supposed to be \"offsets\" but from what? \n",
    "#These offsets turn out to be just half the size. But also, if you add the y offset to\n",
    "#1000 you get supposed max Y from PESSection3, and if you subtract the x offsset \n",
    "#from 1000 you get the alleged max X from PESSEction3.\n",
    "#I am reading online that some of these numbers should be the design X offset, design Y offset (Treveradams/libpes on Github) *******Another place to check.\n",
    "#But also minimal X of all stitches in CSewSeg, max Y of all stitches in CSewSeg. That doesn't seem like the same thing.\n",
    "XoffsetMSB=int(np.trunc(xsize/256/2))\n",
    "#XoffsetMSB=0;\n",
    "XoffsetLSB=int(xsize/2-256*XoffsetMSB)\n",
    "#XoffsetLSB=0;#what StitchBuddy is producing that works\n",
    "YoffsetMSB=int(np.trunc(ysize/256/2))\n",
    "#YoffsetMSB=0;\n",
    "YoffsetLSB=int(ysize/2-256*YoffsetMSB)\n",
    "#YoffsetLSB=0;\n",
    "PESsection5=[XoffsetLSB,XoffsetMSB,YoffsetLSB,YoffsetMSB,XsizeLSB,XsizeMSB,YsizeLSB,YsizeMSB]\n",
    "PESsection5=[0,0,0,0,0,0,0,0]\n",
    "#StitchBuddy puts 0s for these offsets. "
   ]
  },
  {
   "cell_type": "code",
   "execution_count": 921,
   "metadata": {
    "collapsed": false
   },
   "outputs": [],
   "source": [
    "#PESsection 6, bytes 81-88 consistent between files and is filled with 0s\n",
    "PESsection6=[0,0,0,0,0,0,0,0]\n",
    "#PESsection 7=?\n",
    "#It is a single byte, at 89, that differs between files\n",
    "PESsection7=[0] #\"professionally designed files seem to have 1 here\" (Trever Adams). But StitchBuddy puts 0."
   ]
  },
  {
   "cell_type": "code",
   "execution_count": 922,
   "metadata": {
    "collapsed": true
   },
   "outputs": [],
   "source": [
    "#PESsection 8, bytes 90-103 are consistent between files\n",
    "PESsection8=[0, 255, 255, 0, 0, 7, 0, 67, 83, 101, 119, 83, 101, 103] #0, section break [255 255 0 0] then 7 0 CSewSeg"
   ]
  },
  {
   "cell_type": "code",
   "execution_count": 923,
   "metadata": {
    "collapsed": true
   },
   "outputs": [],
   "source": [
    "#PESsection 9 -different and different length between files!!!\n",
    "#one file has 16 more bytes here\n",
    "#than the other. Bytes 104-107 \n",
    "#Other online info says it's about colors.\n",
    "#Color Start Indicator, Color Index says http://www.njcrawford.com/programs/embroidery-reader/pes0001/\n",
    "#For both the final byte is 0 and maybe that is the color index?\n",
    "#PESsection9=[ColorChangeIndLSB ColorChangeIndMSB ColorIndexLSB ColorIndexMSB \n",
    "#    NumberOfStartupStitchesLSB NumberOfStartupStitchesMSB XCoord1LSB XCoord1MSB\n",
    "#    YCoord1LSB YCoord1MSB..XCoordNLSB...6 more bytes];%Get a few more examples to figure section 9 out. There is\n",
    "#    something about a rotation matrix here but that seems to be PES version 7\n",
    "# StitchBuddy gives \n",
    "PESsection9=[0, 0,  39,   0]\n"
   ]
  },
  {
   "cell_type": "code",
   "execution_count": 924,
   "metadata": {
    "collapsed": false
   },
   "outputs": [
    {
     "data": {
      "text/plain": [
       "[49, 0]"
      ]
     },
     "execution_count": 924,
     "metadata": {},
     "output_type": "execute_result"
    }
   ],
   "source": [
    "#PESsection 10 - 2 bytes giving the number of stitches, LSB first\n",
    "PESsection10=[NumStitchLSB, NumStitchMSB]\n",
    "PESsection10  #Doh StitchBuddy is only finding eight stitches. it ignores the 0,0 starting stitch"
   ]
  },
  {
   "cell_type": "code",
   "execution_count": 925,
   "metadata": {
    "collapsed": false
   },
   "outputs": [
    {
     "data": {
      "text/plain": [
       "[131,\n",
       " 255,\n",
       " 98,\n",
       " 0,\n",
       " 167,\n",
       " 255,\n",
       " 64,\n",
       " 0,\n",
       " 205,\n",
       " 255,\n",
       " 36,\n",
       " 0,\n",
       " 245,\n",
       " 255,\n",
       " 14,\n",
       " 0,\n",
       " 29,\n",
       " 0,\n",
       " 254,\n",
       " 255,\n",
       " 70,\n",
       " 0,\n",
       " 244,\n",
       " 255,\n",
       " 110,\n",
       " 0,\n",
       " 239,\n",
       " 255,\n",
       " 149,\n",
       " 0,\n",
       " 240,\n",
       " 255,\n",
       " 185,\n",
       " 0,\n",
       " 246,\n",
       " 255,\n",
       " 218,\n",
       " 0,\n",
       " 1,\n",
       " 0,\n",
       " 248,\n",
       " 0,\n",
       " 16,\n",
       " 0,\n",
       " 18,\n",
       " 0,\n",
       " 33,\n",
       " 0,\n",
       " 40,\n",
       " 0,\n",
       " 54,\n",
       " 0,\n",
       " 58,\n",
       " 0,\n",
       " 76,\n",
       " 0,\n",
       " 71,\n",
       " 0,\n",
       " 100,\n",
       " 0,\n",
       " 79,\n",
       " 0,\n",
       " 123,\n",
       " 0,\n",
       " 84,\n",
       " 0,\n",
       " 147,\n",
       " 0,\n",
       " 84,\n",
       " 0,\n",
       " 170,\n",
       " 0,\n",
       " 80,\n",
       " 0,\n",
       " 191,\n",
       " 0,\n",
       " 72,\n",
       " 0,\n",
       " 209,\n",
       " 0,\n",
       " 62,\n",
       " 0,\n",
       " 226,\n",
       " 0,\n",
       " 49,\n",
       " 0,\n",
       " 239,\n",
       " 0,\n",
       " 33,\n",
       " 0,\n",
       " 248,\n",
       " 0,\n",
       " 17,\n",
       " 0,\n",
       " 254,\n",
       " 0,\n",
       " 0,\n",
       " 0,\n",
       " 0,\n",
       " 0,\n",
       " 239,\n",
       " 0,\n",
       " 2,\n",
       " 0,\n",
       " 223,\n",
       " 0,\n",
       " 8,\n",
       " 0,\n",
       " 207,\n",
       " 0,\n",
       " 17,\n",
       " 0,\n",
       " 194,\n",
       " 0,\n",
       " 30,\n",
       " 0,\n",
       " 184,\n",
       " 0,\n",
       " 47,\n",
       " 0,\n",
       " 176,\n",
       " 0,\n",
       " 65,\n",
       " 0,\n",
       " 172,\n",
       " 0,\n",
       " 86,\n",
       " 0,\n",
       " 172,\n",
       " 0,\n",
       " 109,\n",
       " 0,\n",
       " 177,\n",
       " 0,\n",
       " 133,\n",
       " 0,\n",
       " 185,\n",
       " 0,\n",
       " 156,\n",
       " 0,\n",
       " 198,\n",
       " 0,\n",
       " 180,\n",
       " 0,\n",
       " 216,\n",
       " 0,\n",
       " 202,\n",
       " 0,\n",
       " 238,\n",
       " 0,\n",
       " 223,\n",
       " 0,\n",
       " 8,\n",
       " 0,\n",
       " 240,\n",
       " 0,\n",
       " 38,\n",
       " 0,\n",
       " 255,\n",
       " 0,\n",
       " 71,\n",
       " 0,\n",
       " 10,\n",
       " 1,\n",
       " 107,\n",
       " 0,\n",
       " 16,\n",
       " 1,\n",
       " 146,\n",
       " 0,\n",
       " 17,\n",
       " 1,\n",
       " 186,\n",
       " 0,\n",
       " 12,\n",
       " 1,\n",
       " 227,\n",
       " 0,\n",
       " 2,\n",
       " 1,\n",
       " 11,\n",
       " 1,\n",
       " 242,\n",
       " 0,\n",
       " 51,\n",
       " 1,\n",
       " 220,\n",
       " 0,\n",
       " 89,\n",
       " 1,\n",
       " 192,\n",
       " 0,\n",
       " 125,\n",
       " 1,\n",
       " 158,\n",
       " 0]"
      ]
     },
     "execution_count": 925,
     "metadata": {},
     "output_type": "execute_result"
    }
   ],
   "source": [
    "#Then add on the absolute stitch coords as 2 byte xy values. StitchBuddy has all my stitches as follows:\n",
    "#(50,0  0,0) (100,0 0,0) (100,0, 206,255 --a y value of -5 mm) (100,0 156,255-- a y value of -10 mm) (50,0 156,255)\n",
    "#(0,0 156,255) (0,0, 206,255) (0,0 0,0) \n",
    "#How weird that it seems like StitchBuddy flipped the y values to negative ones. I put a - sign on inputy for this reason\n",
    "#There are 8 stitches. #perhaps here I can put in the 9th stitch and get it right...start the above sequence with (0,0 0,0)\n",
    "PESsection11=[50,0,0,0,100,0,0,0,100,0,206,255,100,0,156,255,50,0,156,255,0,0,156,255,0,0,206,255,0,0,0,0] #AbsStitchCoords\n",
    "stitchpile=np.array(zip(inputx,inputy)).flatten()\n",
    "\n",
    "def msb8(st):\n",
    "    if np.abs(st) > 32767:\n",
    "        print \"warning: stitch found more than 32.7 cm from origin, pattern too large\"\n",
    "        return np.uint8(127*np.sign(st)) #just assign it the max value \n",
    "    else:\n",
    "        return np.uint8(np.trunc(st/256))\n",
    "\n",
    "def lsb8(st):\n",
    "    return np.uint8(st-256*msb8(st))\n",
    "\n",
    "    \n",
    "#I used np.uint8(), this works to translate the negative numbers but it will wrap around, np.uint8(500) =12\n",
    "PESsection11=[byte for s in stitchpile for byte in [lsb8(s),msb8(s)] ]  #create msb8 and lsb8 functions\n",
    "#the order of operations is alien to me but it's like\n",
    "#(for s in stitchpile)  gets every x or y stitch coord and calls it s\n",
    "#then [lsb8(s),msb8(s)] is a length 2 list of the LSB and MSB of that stitch in uint8 format\n",
    "#then, take each byte in [lsb8(s),msb8(s)] and add it to the list\n",
    "#It would be more readable to flatten a structured list\n",
    "#that I would create by [[lsb8(s),msb8(s)] for s in stitchpile]\n",
    "#but Python doesn't have flatten (numpy does). \n",
    "#they refused to create a flatten function bc generally, lists of lists can have irregular shapes\n",
    "#and then flatten is ambiguous\n",
    "#Coming from Matlab I expect it all to be a rectangle, & there's a clear plan for exactly how flatten will work \n",
    "PESsection11\n"
   ]
  },
  {
   "cell_type": "code",
   "execution_count": 926,
   "metadata": {
    "collapsed": false
   },
   "outputs": [],
   "source": [
    "#Then StitchBuddy puts this, I dont know what it means yet\n",
    "PESsection12=[1,0,0,0,39,0,0,0,0,0]\n"
   ]
  },
  {
   "cell_type": "code",
   "execution_count": 927,
   "metadata": {
    "collapsed": false
   },
   "outputs": [],
   "source": [
    "#The next section from pecstart:pecstart+49 is...perhaps some labels, this looks like chars\n",
    "#[76, 65, 58, 49, 99, 109, 83, 113, 117, 97, 114,101,84,101,115,116,32,32,32,13 ] \n",
    "#Yes it is [L A : 1 c m S q u a r e T e s t (space=32) (space) (space) (cr=13)]\n",
    "#It could be a 16 char label, filled out by spaces, and then a carriage retrn\n",
    "#Then all this looking like spaces and a few control characters, maybe these could hold names for colors\n",
    "#32,32,32,32,32,32,32,32,32,32,32,32,255,0,6,38,32,32,32,32,32,32,32,32,32,32,32,32]\n",
    "\n",
    "#Therefore pecstart is calculated as len(everthing up to and including PESsection12)\n",
    "PECsection1=[76, 65, 58]# LA:\n",
    "#use ord('a') to convert my output filename to a label. why not atoi or int, where ever did they get ord\n",
    "labelname=outputfile.split('.',1) #get first 16 chars before any dot in the filename\n",
    "mylabel=[ord(s) for s in labelname[0]]\n",
    "mylabel=mylabel[0:16]\n",
    "mylabel=mylabel+[32]*(16-len(mylabel))+[13]\n",
    "PECsection1=PECsection1+mylabel+[32,32,32,32,32,32,32,32,32,32,32,32,255,0,6,38,32,32,32,32,32,32,32,32,32,32,32,32]"
   ]
  },
  {
   "cell_type": "code",
   "execution_count": 928,
   "metadata": {
    "collapsed": true
   },
   "outputs": [],
   "source": [
    "#now a familiar neighborhood vx[pecstart+49]=0  #number of colors in file is\n",
    "PECsection2=[0]#Number of Colors in File, for single color files I see 0 a lot, so maybe its num of color changes?"
   ]
  },
  {
   "cell_type": "code",
   "execution_count": 929,
   "metadata": {
    "collapsed": false
   },
   "outputs": [],
   "source": [
    "#THEN there is a 39, which is probably a color index. Then it's filled with spaces  (32s) \n",
    "#Followed by [0,0] up to and including vx[pecstart+514]\n",
    "PECsection3=[39] + [32]*(GraphicLocOffset-NumColorLocOffset-4)\n",
    "PECsection3=PECsection3+[0,0]"
   ]
  },
  {
   "cell_type": "code",
   "execution_count": 930,
   "metadata": {
    "collapsed": true
   },
   "outputs": [],
   "source": [
    "#Then we have a [37,0,0] which is \"graphic\" location for this design-- it will vary--is calculated from the data\n",
    "#I need to figure out later on while building the output vector.\n",
    "#pecstart+GraphicLocOffset=LSB of graphic, pecstart+515 &516 are the remaining bytes\n",
    "PECsection4=[0,0,0]#graphic - placeholder till vector is assembled\n"
   ]
  },
  {
   "cell_type": "code",
   "execution_count": 931,
   "metadata": {
    "collapsed": true
   },
   "outputs": [],
   "source": [
    "#Then [49,255,240] -- is it the same for different files? vx[pecstart+518:pecstart+521]\n",
    "PECsection5=[49,255,240] #unknown meaning"
   ]
  },
  {
   "cell_type": "code",
   "execution_count": 932,
   "metadata": {
    "collapsed": false
   },
   "outputs": [
    {
     "data": {
      "text/plain": [
       "[250, 2, 34, 2]"
      ]
     },
     "execution_count": 932,
     "metadata": {},
     "output_type": "execute_result"
    }
   ],
   "source": [
    "#Then [XsizeLSB,XsizeMSB,YsizeLSB,YsizeMSB] #vx[pecstart+521:pecstart+525]\n",
    "PECsection6=[XsizeLSB,XsizeMSB,YsizeLSB,YsizeMSB]\n",
    "PECsection6"
   ]
  },
  {
   "cell_type": "markdown",
   "metadata": {},
   "source": [
    "<H2>SOMETHING HERE CHANGES THE OFFSET OF THE PATTERN CENTER:</H2>"
   ]
  },
  {
   "cell_type": "code",
   "execution_count": 933,
   "metadata": {
    "collapsed": false
   },
   "outputs": [
    {
     "data": {
      "text/plain": [
       "(0.0, 115.0, 128.0, 0.0, 128.0, 115.0)"
      ]
     },
     "execution_count": 933,
     "metadata": {},
     "output_type": "execute_result"
    }
   ],
   "source": [
    "#the lowest x value is also the value of the initial jump\n",
    "#however the highest y value is not at the start\n",
    "#I need to move the pattern down by ysize/2-inputy[0]\n",
    "startYoff=ysize/2+inputy[0]\n",
    "startXoff=xsize/2+inputx[0]\n",
    "startXoff,startYoff\n",
    "#now I have to convert the last two byte pairs in PECsection7 to these offsets\n",
    "#using the jump stitch method\n",
    "\n",
    "def jumpit(displ):\n",
    "    if displ >=0: #positive jump\n",
    "        #check here for jump too large, 8*256 or 2048 (204.8 mm) and above are too large\n",
    "        if displ>2047:\n",
    "            print \"Error, jump greater than 204.7 mm found\"\n",
    "        msb=np.trunc(displ/256)\n",
    "        lsb=np.trunc(displ-msb*256)\n",
    "        firstbyte=128+msb\n",
    "        secondbyte=lsb\n",
    "        return firstbyte,secondbyte\n",
    "    else:#negative jump\n",
    "        if displ < -2047:\n",
    "            print \"Error, jump greater than 204.7 mm found\"\n",
    "        msb=15-np.trunc(-displ/256)\n",
    "        lsb=256+(displ+msb*256)  #need to check this\n",
    "        firstbyte=128+msb\n",
    "        secondbyte=lsb\n",
    "        \n",
    "startXoff,startYoff,jumpit(startXoff)[0],jumpit(startXoff)[1],jumpit(startYoff)[0],jumpit(startYoff)[1]\n",
    "    "
   ]
  },
  {
   "cell_type": "code",
   "execution_count": 934,
   "metadata": {
    "collapsed": true
   },
   "outputs": [],
   "source": [
    "#Then [224, 1, 176, 1, 144, 50, 144, 50] # I am guessing this part varies between designs, it looks squarish\n",
    "PECsection7=[224, 1, 176, 1, 128, 0, 128, 115] #unknown meaning, first 4 are fixed \n",
    "#and last 4 change where the design center winds up in StitchBuddy\n",
    "#[224,1,176,1, jump to CENTER , rest of jump to X CENTER, jump to Y CENTER, rest of jump to Y CENTER]\n",
    "PECsection7=[224,1,176,1,jumpit(startXoff)[0],jumpit(startXoff)[1],jumpit(startYoff)[0],jumpit(startYoff)[1]]"
   ]
  },
  {
   "cell_type": "code",
   "execution_count": 935,
   "metadata": {
    "collapsed": false
   },
   "outputs": [],
   "source": [
    "diffx=np.diff(inputx)\n",
    "diffy=np.diff(inputy)\n",
    "#diffx[3]=100 #Testing what happens if a stitch is greater than the max length of 63\n",
    "diffpile=np.array(zip(diffx,diffy)).flatten()\n",
    "def stitchdisp(s):\n",
    "    if 0<=s<=63:\n",
    "        return s,0\n",
    "    else:\n",
    "        if -63<=s<=-1:\n",
    "            return 128+s,0\n",
    "        else:\n",
    "            stitchLengthError=s\n",
    "            return s,stitchLengthError\n",
    "\n",
    "#PECsection8=[50, 0, 50, 0, 0, 78, 0, 78, 78, 0, 78, 0, 0, 50, 0, 50]  #This is the 7 bit encoded displacement data.\n",
    "PECsection8=[stitchdisp(s)[0] for s in diffpile]\n",
    "PECtoolongs=[stitchdisp(s)[1] for s in diffpile]#save locations of any too-long stitches along with their lengths\n",
    "#PECsection8,PECtoolongs"
   ]
  },
  {
   "cell_type": "code",
   "execution_count": 936,
   "metadata": {
    "collapsed": true
   },
   "outputs": [],
   "source": [
    "#Then [255]\n",
    "PECsection9=[255]#end of stitch data. Achatina and Trever Adams has [255 0] but StitchBuddy leaves off the 0"
   ]
  },
  {
   "cell_type": "code",
   "execution_count": 937,
   "metadata": {
    "collapsed": true
   },
   "outputs": [],
   "source": [
    "#Immediately after comes the 228 byte pixel graphic that gets displayed on the LCD\n",
    "#It's in a strange format, so I have to reverse how I decoded it in MATLAB.\n",
    "#And before that, must create a bitmap based on the stitch pattern.\n",
    "#vx[pecstart+graphic+513:pecstart+graphic+513+228]"
   ]
  },
  {
   "cell_type": "code",
   "execution_count": 938,
   "metadata": {
    "collapsed": false
   },
   "outputs": [
    {
     "data": {
      "image/png": "[encoded data removed]",
      "text/plain": [
       "<matplotlib.figure.Figure at 0x1073c3e90>"
      ]
     },
     "metadata": {},
     "output_type": "display_data"
    }
   ],
   "source": [
    "#Generate a black/white graphic by thresholding a histogram?\n",
    "import matplotlib as mpl\n",
    "import matplotlib.pyplot as plt\n",
    "H,yedges,xedges=np.histogram2d(inputy,inputx,bins=[39,48])\n",
    "fig = plt.figure(figsize=(7, 3))\n",
    "ax = fig.add_subplot(111)\n",
    "ax.set_title('pcolormesh: exact bin edges')\n",
    "xcenters = xedges[:-1] + 0.5 * (xedges[1:] - xedges[:-1])\n",
    "ycenters = yedges[:-1] + 0.5 * (yedges[1:] - yedges[:-1])\n",
    "X,Y = np.meshgrid(xcenters, ycenters)\n",
    "X.shape,Y.shape,H.shape #Caught annoying problem with pcolormesh\n",
    "#ax.pcolormesh(X, Y, H,cmap='RdBu')\n",
    "#ax.set_aspect('equal')\n",
    "#plt.show()\n",
    "\n",
    "#histogram works meh, it doesn't really resemble plot for sparse drawings\n",
    "#why dont I instead scale it to 100x100 mm & mark a point in the 39x48 array \"1\" if it contains any data at all\n",
    "#meanwhile just put a copy of what StitchBuddy produced\n",
    "#PECsection10=[0]*228 #zeroes didn't work\n",
    "PECsection10=[0,\n",
    " 0,\n",
    " 0,\n",
    " 0,\n",
    " 0,\n",
    " 0,\n",
    " 240,\n",
    " 255,\n",
    " 255,\n",
    " 255,\n",
    " 255,\n",
    " 15,\n",
    " 8,\n",
    " 0,\n",
    " 0,\n",
    " 0,\n",
    " 0,\n",
    " 16,\n",
    " 4,\n",
    " 0,\n",
    " 0,\n",
    " 0,\n",
    " 0,\n",
    " 32,\n",
    " 2,\n",
    " 0,\n",
    " 0,\n",
    " 0,\n",
    " 0,\n",
    " 64,\n",
    " 2,\n",
    " 252,\n",
    " 255,\n",
    " 255,\n",
    " 63,\n",
    " 64,\n",
    " 2,\n",
    " 252,\n",
    " 255,\n",
    " 255,\n",
    " 63,\n",
    " 64,\n",
    " 2,\n",
    " 12,\n",
    " 0,\n",
    " 0,\n",
    " 48,\n",
    " 64,\n",
    " 2,\n",
    " 12,\n",
    " 0,\n",
    " 0,\n",
    " 48,\n",
    " 64,\n",
    " 2,\n",
    " 12,\n",
    " 0,\n",
    " 0,\n",
    " 48,\n",
    " 64,\n",
    " 2,\n",
    " 12,\n",
    " 0,\n",
    " 0,\n",
    " 48,\n",
    " 64,\n",
    " 2,\n",
    " 12,\n",
    " 0,\n",
    " 0,\n",
    " 48,\n",
    " 64,\n",
    " 2,\n",
    " 12,\n",
    " 0,\n",
    " 0,\n",
    " 48,\n",
    " 64,\n",
    " 2,\n",
    " 12,\n",
    " 0,\n",
    " 0,\n",
    " 48,\n",
    " 64,\n",
    " 2,\n",
    " 12,\n",
    " 0,\n",
    " 0,\n",
    " 48,\n",
    " 64,\n",
    " 2,\n",
    " 12,\n",
    " 0,\n",
    " 0,\n",
    " 48,\n",
    " 64,\n",
    " 2,\n",
    " 12,\n",
    " 0,\n",
    " 0,\n",
    " 48,\n",
    " 64,\n",
    " 2,\n",
    " 12,\n",
    " 0,\n",
    " 0,\n",
    " 48,\n",
    " 64,\n",
    " 2,\n",
    " 12,\n",
    " 0,\n",
    " 0,\n",
    " 48,\n",
    " 64,\n",
    " 2,\n",
    " 12,\n",
    " 0,\n",
    " 0,\n",
    " 48,\n",
    " 64,\n",
    " 2,\n",
    " 12,\n",
    " 0,\n",
    " 0,\n",
    " 48,\n",
    " 64,\n",
    " 2,\n",
    " 12,\n",
    " 0,\n",
    " 0,\n",
    " 48,\n",
    " 64,\n",
    " 2,\n",
    " 12,\n",
    " 0,\n",
    " 0,\n",
    " 48,\n",
    " 64,\n",
    " 2,\n",
    " 12,\n",
    " 0,\n",
    " 0,\n",
    " 48,\n",
    " 64,\n",
    " 2,\n",
    " 12,\n",
    " 0,\n",
    " 0,\n",
    " 48,\n",
    " 64,\n",
    " 2,\n",
    " 12,\n",
    " 0,\n",
    " 0,\n",
    " 48,\n",
    " 64,\n",
    " 2,\n",
    " 12,\n",
    " 0,\n",
    " 0,\n",
    " 48,\n",
    " 64,\n",
    " 2,\n",
    " 12,\n",
    " 0,\n",
    " 0,\n",
    " 48,\n",
    " 64,\n",
    " 2,\n",
    " 12,\n",
    " 0,\n",
    " 0,\n",
    " 48,\n",
    " 64,\n",
    " 2,\n",
    " 12,\n",
    " 0,\n",
    " 0,\n",
    " 48,\n",
    " 64,\n",
    " 2,\n",
    " 12,\n",
    " 0,\n",
    " 0,\n",
    " 48,\n",
    " 64,\n",
    " 2,\n",
    " 12,\n",
    " 128,\n",
    " 255,\n",
    " 63,\n",
    " 64,\n",
    " 2,\n",
    " 12,\n",
    " 128,\n",
    " 255,\n",
    " 63,\n",
    " 64,\n",
    " 2,\n",
    " 0,\n",
    " 0,\n",
    " 0,\n",
    " 0,\n",
    " 64,\n",
    " 4,\n",
    " 0,\n",
    " 0,\n",
    " 0,\n",
    " 0,\n",
    " 32,\n",
    " 8,\n",
    " 0,\n",
    " 0,\n",
    " 0,\n",
    " 0,\n",
    " 16,\n",
    " 240,\n",
    " 255,\n",
    " 255,\n",
    " 255,\n",
    " 255,\n",
    " 15,\n",
    " 0,\n",
    " 0,\n",
    " 0,\n",
    " 0,\n",
    " 0,\n",
    " 0]\n"
   ]
  },
  {
   "cell_type": "code",
   "execution_count": 939,
   "metadata": {
    "collapsed": false
   },
   "outputs": [],
   "source": [
    "#Finally tack on another copy of the 228 byte pixel graphic. vx[pecstart+graphic+513+228:] is same as above. That is all\n",
    "PECsection11=PECsection10"
   ]
  },
  {
   "cell_type": "code",
   "execution_count": 940,
   "metadata": {
    "collapsed": false
   },
   "outputs": [
    {
     "name": "stdout",
     "output_type": "stream",
     "text": [
      "Number of Colors location is right\n",
      "Graphic location is right\n",
      "Stitch start location is right\n"
     ]
    }
   ],
   "source": [
    "#Concatenate everything up to just before the PEC block and then calculate length\n",
    "vx=PESdatastart+PESsection1+PESsection2\n",
    "vx=vx+PESsection3+PESsection4+PESsection5\n",
    "vx=vx+PESsection6+PESsection7+PESsection8\n",
    "vx=vx+PESsection9+PESsection10+PESsection11+PESsection12\n",
    "\n",
    "pecstartValue=len(vx)\n",
    "pecstartValueMSB=np.trunc(pecstartValue/65536)\n",
    "pecstartValueMiddleBit=np.trunc((pecstartValue-65536*pecstartValueMSB)/256)\n",
    "pecstartValueLSB=int(pecstartValue-pecstartValueMSB*65536-pecstartValueMiddleBit*256)\n",
    "pecstartValueMSB=int(pecstartValueMSB)\n",
    "pecstartValueMiddleBit=int(pecstartValueMiddleBit)\n",
    "\n",
    "#Fill in values for pecstart at pecstart location\n",
    "vx[PECstartloc]=pecstartValueLSB\n",
    "vx[PECstartloc+1]=pecstartValueMiddleBit\n",
    "vx[PECstartloc+2]=pecstartValueMSB\n",
    "#pecstartValueLSB, pecstartValueMiddleBit,pecstartValueMSB #check on it\n",
    "\n",
    "vx=vx+PECsection1 #Label containing design name\n",
    "#Check on the assembly of this vector because things have to be at known offsets\n",
    "NumColorLocError=len(vx)-pecstartValue-NumColorLocOffset\n",
    "if NumColorLocError:\n",
    "    print \"Number of Colors location is off by\"\n",
    "    print NumColorLocError\n",
    "else:\n",
    "    print \"Number of Colors location is right\"\n",
    "     \n",
    "vx=vx+PECsection2  #Number of colors in file\n",
    "vx=vx+PECsection3  #A bunch of spaces (32s) until the location of the graphic pointer \n",
    "GraphicLoc=len(vx)\n",
    "GraphicLocError=GraphicLoc-pecstartValue-GraphicLocOffset\n",
    "if GraphicLocError:\n",
    "    print \"Graphic location is off by\" \n",
    "    print GraphicLocError\n",
    "else:\n",
    "    print \"Graphic location is right\"\n",
    "vx=vx+PECsection4#Section 4 is 3 bytes giving graphic offset--going to calculate that in a little bit\n",
    "\n",
    "vx=vx+PECsection5+PECsection6+PECsection7 #Size data and other data: 15 bytes\n",
    "\n",
    "StitchStartLocError=len(vx)-pecstartValue-StitchStartOffset\n",
    "if StitchStartLocError:\n",
    "    print \"Stitch start location is off by\"\n",
    "    print StitchStartLocError\n",
    "else:\n",
    "    print \"Stitch start location is right\"\n",
    "    \n",
    "vx=vx+PECsection8 #This is the stitch displacement data\n",
    "vx=vx+PECsection9 #This is the end of stitch signal \n",
    "\n",
    "for i in range(len(PECtoolongs)): #Defined in PECsection 8 calculation\n",
    "    if PECtoolongs[i]:\n",
    "        print \"Stitch\",i/2,\"is >\",PECtoolongs[i]/10,\"mm long, but max length is 6.3 mm\"\n",
    "    \n",
    "graphic=len(vx)-pecstartValue-StitchEndOffset#this is how graphic is defined\n",
    "#now calculate LSB, middle and MSB of graphic to plug in to graphic location\n",
    "graphicMSB=np.trunc(graphic/65536)\n",
    "graphicMiddleBit=np.trunc((graphic-65536*graphicMSB)/256)\n",
    "graphicLSB=int(graphic-graphicMSB*65536-graphicMiddleBit*256)\n",
    "graphicMSB=int(graphicMSB)\n",
    "graphicMiddleBit=int(graphicMiddleBit)\n",
    "vx[GraphicLoc]=graphicLSB\n",
    "vx[GraphicLoc+1]=graphicMiddleBit\n",
    "vx[GraphicLoc+2]=graphicMSB\n",
    "\n",
    "vx=vx+PECsection10+PECsection11# add 2 copies of the pixel graphic\n"
   ]
  },
  {
   "cell_type": "code",
   "execution_count": 941,
   "metadata": {
    "collapsed": false
   },
   "outputs": [],
   "source": [
    "vx=np.array(vx)\n",
    "vx.astype('uint8').tofile('../Dropbox/Apps/StitchBuddy/' + outputfile)"
   ]
  },
  {
   "cell_type": "code",
   "execution_count": 942,
   "metadata": {
    "collapsed": false
   },
   "outputs": [
    {
     "data": {
      "text/plain": [
       "830"
      ]
     },
     "execution_count": 942,
     "metadata": {},
     "output_type": "execute_result"
    }
   ],
   "source": [
    "GraphicLoc #SHOULD "
   ]
  },
  {
   "cell_type": "code",
   "execution_count": null,
   "metadata": {
    "collapsed": true
   },
   "outputs": [],
   "source": []
  }
 ],
 "metadata": {
  "kernelspec": {
   "display_name": "Python 2",
   "language": "python",
   "name": "python2"
  },
  "language_info": {
   "codemirror_mode": {
    "name": "ipython",
    "version": 2
   },
   "file_extension": ".py",
   "mimetype": "text/x-python",
   "name": "python",
   "nbconvert_exporter": "python",
   "pygments_lexer": "ipython2",
   "version": "2.7.11"
  },
  "widgets": {
   "state": {},
   "version": "1.1.2"
  }
 },
 "nbformat": 4,
 "nbformat_minor": 0
}
