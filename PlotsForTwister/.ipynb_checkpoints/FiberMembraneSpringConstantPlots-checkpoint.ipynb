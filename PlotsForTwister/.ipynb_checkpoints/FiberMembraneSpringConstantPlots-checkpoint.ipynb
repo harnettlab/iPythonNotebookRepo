{
 "cells": [
  {
   "cell_type": "code",
   "execution_count": 1,
   "metadata": {
    "collapsed": false
   },
   "outputs": [
    {
     "data": {
      "text/plain": [
       "[0.004707266843189174,\n",
       " 0.00706090026478376,\n",
       " 0.01059135039717564,\n",
       " 0.011768167107972934,\n",
       " 0.01412180052956752]"
      ]
     },
     "execution_count": 1,
     "metadata": {},
     "output_type": "execute_result"
    }
   ],
   "source": [
    "#Plot new data on torque from March 30, 2016 -- CKH\n",
    "#The way I did the experiment, I am measuring the torsional spring constant at each angle.\n",
    "#Steven was inflating to a fixed value, rotating to a variable angle \n",
    "#then measuring the force on the scale, it's kind of a more functional question \"Can I press the elevator button hard enough from this angle\"\n",
    "#Those will be in a different file\n",
    "\n",
    "#For k=2/n=24  (k2n24), k=3/n=18 (k3n18) and k=1/n=24 (k1n24) membranes\n",
    "\n",
    "import numpy as np\n",
    "k2n24sticklength=13 #stick length in cm, from center of membrane to where the corner of the stick hits the bump on the scale\n",
    "#Need it for calculating torque\n",
    "k2n24angleMidpoint=[5,28,52, 75, 94]#Average of start & stop angle for each measurement. Units: degrees\n",
    "k2n24angleRange=[5,5,7,5,4]#Half the difference start and stop angle for each meas. this could be considered the angle range for which the measurement is valid\n",
    "k2n24Weight=[4,6,9,10,12]#Scale weight in mm as I roll back from the stop angle to horizontal\n",
    "k2n24PressureAvg=[0.15,0.47,0.70,0.90,1.2]#Kept track of the pressure in psi on the 0-3psi gauge-- this is avg of start & stop values for each meas\n",
    "k2n24PressureRange=[0.15,0.05,0.05,0.05,0.1] #and half the difference between the start and stop pressure\n",
    "k2n24TorqueNm=[weight/101.97*k2n24sticklength*0.01 for weight in k2n24Weight]\n",
    "\n",
    "k2n24TorqueNm #check it out"
   ]
  },
  {
   "cell_type": "code",
   "execution_count": 5,
   "metadata": {
    "collapsed": false
   },
   "outputs": [
    {
     "data": {
      "text/plain": [
       "<matplotlib.text.Text at 0x105ce70d0>"
      ]
     },
     "execution_count": 5,
     "metadata": {},
     "output_type": "execute_result"
    },
    {
     "data": {
      "image/png": "[encoded data removed]",
      "text/plain": [
       "<matplotlib.figure.Figure at 0x103b54290>"
      ]
     },
     "metadata": {},
     "output_type": "display_data"
    }
   ],
   "source": [
    "#Plot the torque exerted at each angle and at each pressure\n",
    "#I am unsettled about this\n",
    "#Instead of torque, shouldn't it be torque per degree? Like, it takes\n",
    "#t amount of torque to push back the rotation by d degrees\n",
    "#I think we can beter measure the \"spring constant:\" for a linear spring f=kx, k = delta f/delta x where k might be non uniform in x\n",
    "#Here we have t= k * alpha so could measure k = delta t/delta angle = k2n24TorqueNm/(2*k2n24angleRange) at each angle\n",
    "%matplotlib inline\n",
    "from matplotlib import pyplot as plt\n",
    "\n",
    "plt.subplot(2,1,1)\n",
    "plt.plot(k2n24angleMidpoint,k2n24TorqueNm,'bo')\n",
    "plt.title('Torque vs Angle & Pressure for k2/n24 membrane')\n",
    "plt.xlabel('Rotation angle (degrees)')\n",
    "plt.ylabel('Torque/10deg (Nm)')\n",
    "plt.subplot(2,1,2)\n",
    "plt.plot(k2n24PressureAvg,k2n24TorqueNm,'bo')\n",
    "plt.xlabel('Inflation pressure (psi)')\n",
    "plt.ylabel('Torque/10deg (Nm)')"
   ]
  },
  {
   "cell_type": "code",
   "execution_count": null,
   "metadata": {
    "collapsed": true
   },
   "outputs": [],
   "source": [
    "#Still need to divide each torque value by angular range to get the spring constant\n",
    "k2n24TorsSprConst=[ for torque in k2n24TorqueNm  #take each torque value and divide by the range]#oh god how do you do a nested list comprehension again \n",
    "plt.plot(k2n24PressureAvg,k2n24TorqueNm,'bo')\n",
    "plt.xlabel('Inflation pressure (psi)')\n",
    "plt.ylabel('Torque/10deg (Nm)')"
   ]
  }
 ],
 "metadata": {
  "kernelspec": {
   "display_name": "Python 2",
   "language": "python",
   "name": "python2"
  },
  "language_info": {
   "codemirror_mode": {
    "name": "ipython",
    "version": 2
   },
   "file_extension": ".py",
   "mimetype": "text/x-python",
   "name": "python",
   "nbconvert_exporter": "python",
   "pygments_lexer": "ipython2",
   "version": "2.7.12"
  },
  "widgets": {
   "state": {},
   "version": "1.1.2"
  }
 },
 "nbformat": 4,
 "nbformat_minor": 0
}
