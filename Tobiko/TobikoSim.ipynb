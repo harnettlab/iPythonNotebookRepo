{
 "cells": [
  {
   "cell_type": "code",
   "execution_count": 1,
   "metadata": {
    "collapsed": true
   },
   "outputs": [],
   "source": [
    "#TobikoSim ckh Aug 2016 calculate the worst case number of contacts for a NxN array of integer-spaced contacts\n",
    "#touching an interdigitated array of electrodes with thickness t and gap g in units of pin spacing.\n",
    "\n",
    "#The array can be at any angle and any centroid relative to the electrode strips.\n",
    "import numpy as np\n",
    "import matplotlib.pyplot as plt #check my recent work for syntax\n",
    "\n",
    "N=7 #number of contacts on a side\n",
    "x=np.linspace(-(float(N-1))/2,(float(N-1))/2,N)\n",
    "y=x #Pin x-y coordinates are integer-spaced\n",
    "[X,Y]=np.meshgrid(x,y)#grids of the pin coordinates"
   ]
  },
  {
   "cell_type": "code",
   "execution_count": 2,
   "metadata": {
    "collapsed": false
   },
   "outputs": [],
   "source": [
    "#define the coordinate conversions matlab has that numpy doesnt\n",
    "#and make them work at least on 1-D arrays\n",
    "def cart2pol(xin, yin):\n",
    "    #xin and yin must be same length\n",
    "    phi=np.zeros(len(xin))\n",
    "    rho=np.zeros(len(xin))\n",
    "    for i in range(len(xin)):\n",
    "        rho[i]=np.array(np.sqrt(xin[i]**2+yin[i]**2))\n",
    "        phi[i]=np.array(np.arctan2(yin[i],xin[i]))\n",
    "    return(phi,rho)\n",
    "\n",
    "def pol2cart(phiin, rhoin): #modified to work on 1D arrays\n",
    "    #phiin and rhoin must be same length\n",
    "    x=np.zeros(len(phiin))\n",
    "    y=np.zeros(len(phiin))\n",
    "    for i in range(len(phiin)):\n",
    "        x[i] = np.array(rhoin[i] * np.cos(phiin[i]))\n",
    "        y[i] = np.array(rhoin[i] * np.sin(phiin[i]))\n",
    "    return(x, y)"
   ]
  },
  {
   "cell_type": "code",
   "execution_count": 3,
   "metadata": {
    "collapsed": false
   },
   "outputs": [
    {
     "data": {
      "text/plain": [
       "array([[  0.,   0.,   0.,   0.,   0.,   0.,   0.,   0.,   0.,   0.,   0.,\n",
       "          0.,   0.,   0.,   0.,   0.,   0.,   0.,   0.,   0.],\n",
       "       [  4.,   0.,   0.,   0.,   0.,   0.,   0.,   0.,   0.,   0.,   0.,\n",
       "          0.,   0.,   0.,   0.,   0.,   0.,   0.,   0.,   0.],\n",
       "       [  7.,   1.,   0.,   0.,   0.,   0.,   0.,   0.,   0.,   0.,   0.,\n",
       "          0.,   0.,   0.,   0.,   0.,   0.,   0.,   0.,   0.],\n",
       "       [ 10.,   7.,   7.,   7.,   0.,   0.,   3.,   0.,   0.,   0.,   0.,\n",
       "          0.,   0.,   0.,   0.,   0.,   0.,   0.,   0.,   0.],\n",
       "       [ 14.,  14.,   7.,   0.,   7.,   5.,   0.,   0.,   0.,   0.,   0.,\n",
       "          0.,   0.,   0.,   0.,   0.,   0.,   0.,   0.,   0.],\n",
       "       [ 16.,  13.,  12.,  10.,   7.,   7.,   6.,   7.,   6.,   6.,   0.,\n",
       "          5.,   5.,   0.,   0.,   0.,   0.,   0.,   0.,   0.],\n",
       "       [ 14.,  12.,  14.,   7.,   7.,   7.,   7.,   7.,   7.,   6.,   6.,\n",
       "          5.,   5.,   4.,   0.,   0.,   0.,   0.,   0.,   0.],\n",
       "       [ 14.,  14.,  12.,   7.,   7.,   7.,   7.,   7.,   6.,   6.,   5.,\n",
       "          5.,   4.,   0.,   0.,   0.,   0.,   0.,   0.,   0.],\n",
       "       [ 14.,  14.,   7.,   7.,   7.,   7.,   7.,   7.,   7.,   7.,   7.,\n",
       "          7.,   6.,   0.,   0.,   0.,   0.,   0.,   0.,   0.],\n",
       "       [ 17.,   7.,   7.,   7.,   7.,   7.,   7.,   7.,   7.,   7.,   7.,\n",
       "          6.,   0.,   0.,   0.,   0.,   0.,   0.,   0.,   0.],\n",
       "       [  7.,   7.,   7.,   7.,   7.,   7.,   7.,   7.,   7.,   7.,   7.,\n",
       "          6.,   0.,   0.,   0.,   0.,   0.,   0.,   0.,   0.],\n",
       "       [ 14.,  14.,  14.,  14.,  14.,  12.,  10.,  10.,   7.,   7.,   6.,\n",
       "          0.,   0.,   0.,   0.,   0.,   0.,   0.,   0.,   0.],\n",
       "       [ 14.,  14.,  14.,  14.,  14.,  14.,  12.,  11.,   7.,   7.,   6.,\n",
       "          0.,   0.,   0.,   0.,   0.,   0.,   0.,   0.,   0.],\n",
       "       [ 14.,  14.,  14.,  14.,  14.,  12.,  12.,   7.,   7.,   6.,   0.,\n",
       "          0.,   0.,   0.,   0.,   0.,   0.,   0.,   0.,   0.],\n",
       "       [ 14.,  14.,  14.,  14.,  14.,  12.,  11.,   7.,   7.,   6.,   0.,\n",
       "          0.,   0.,   0.,   0.,   0.,   0.,   0.,   0.,   0.],\n",
       "       [ 14.,  14.,  14.,  14.,  12.,  12.,   7.,   7.,   6.,   0.,   0.,\n",
       "          0.,   0.,   0.,   0.,   0.,   0.,   0.,   0.,   0.],\n",
       "       [ 20.,  14.,  14.,  14.,  12.,  11.,   7.,   7.,   6.,   0.,   0.,\n",
       "          0.,   0.,   0.,   0.,   0.,   0.,   0.,   0.,   0.],\n",
       "       [ 20.,  16.,  14.,  12.,  12.,   7.,   7.,   6.,   0.,   0.,   0.,\n",
       "          0.,   0.,   0.,   0.,   0.,   0.,   0.,   0.,   0.],\n",
       "       [ 20.,  16.,  14.,  12.,  10.,   7.,   7.,   6.,   0.,   0.,   0.,\n",
       "          0.,   0.,   0.,   0.,   0.,   0.,   0.,   0.,   0.],\n",
       "       [ 16.,  16.,  12.,  12.,   7.,   7.,   6.,   0.,   0.,   0.,   0.,\n",
       "          0.,   0.,   0.,   0.,   0.,   0.,   0.,   0.,   0.]])"
      ]
     },
     "execution_count": 3,
     "metadata": {},
     "output_type": "execute_result"
    }
   ],
   "source": [
    "theta=np.linspace(0,np.pi/2,45)#rotate thru 90 degrees\n",
    "thickness=np.linspace(0.1,float(N)/2,20)#thickness can range from a pin width of spacing/10, to half the array width\n",
    "#gap=thickness #same range for gap values\n",
    "gap=np.linspace(0.1,float(N)/2,20)\n",
    "\n",
    "#now put the un-rotated, un-translated XY values into polar\n",
    "#probably going to run into a stupid problem bc X Y are 2D arrays BLAH!!!\n",
    "Xflat=X.flatten()#now it's a 1D array at least\n",
    "Yflat=Y.flatten()#same\n",
    "#I'll modify my cart2pol and pol2cart to work on 1D arrays.\n",
    "[TH,R]=cart2pol(Xflat,Yflat)\n",
    "\n",
    "metric=np.zeros([len(thickness),len(gap)])# populate this array with contact-quality metric in next few lines\n",
    "for idxt,t in enumerate(thickness):\n",
    "    for idxg,g in enumerate(gap):\n",
    "        worstcase=N**2/2#Lowest number of contacts found with either of the two nets.\n",
    "        #It starts off at the best possible value.\n",
    "        centroidy=np.linspace(-(g+t),(g+t),50)\n",
    "        for th in theta:\n",
    "            [XROT,YROT]=pol2cart(TH+th,R)\n",
    "            for cy in centroidy:\n",
    "                YFinal=YROT+cy #final y value array\n",
    "                #Whether a pin contacts depends on whether the remainder after dividing the contact spacing\n",
    "                #into the pin's shifted y-value, is within t/2 of the center of the electrode.\n",
    "                AContacts=np.sum(np.logical_or((np.abs((YFinal+(t+g)/2)%(2*(t+g)))<t/2),(np.abs((YFinal+(t+g)/2)%(-2*(t+g)))<t/2)))#Number of contacts touching A electrodes\n",
    "                BContacts=np.sum(np.logical_or((np.abs((YFinal-(t+g)/2)%(2*(t+g)))<t/2),(np.abs((YFinal-(t+g)/2)%(-2*(t+g)))<t/2)))#Number of contacts touching B electrodes\n",
    "                testcase=np.amin([AContacts,BContacts])\n",
    "                if testcase < worstcase:\n",
    "                    worstcase=testcase #found a new low\n",
    "        metric[idxt][idxg]=worstcase\n",
    "        #Here add the latest worstcase to an array somehow mapped to the t and g value that caused it\n",
    "        #Later plot worstcase number of pins connected. Somehow. Mesh? Surf? Pcolor was too slow.\n",
    "metric\n",
    "                \n",
    "        \n",
    "        \n",
    "    "
   ]
  },
  {
   "cell_type": "code",
   "execution_count": 4,
   "metadata": {
    "collapsed": false
   },
   "outputs": [
    {
     "data": {
      "text/plain": [
       "20.0"
      ]
     },
     "execution_count": 4,
     "metadata": {},
     "output_type": "execute_result"
    }
   ],
   "source": [
    "np.max(metric)"
   ]
  },
  {
   "cell_type": "code",
   "execution_count": 6,
   "metadata": {
    "collapsed": false
   },
   "outputs": [
    {
     "data": {
      "image/png": "[encoded data removed]",
      "text/plain": [
       "<matplotlib.figure.Figure at 0x1067c8b50>"
      ]
     },
     "metadata": {},
     "output_type": "display_data"
    }
   ],
   "source": [
    "\n",
    "%matplotlib inline\n",
    "\n",
    "#from pylab import *\n",
    "#imshow(metric, interpolation='none')#ok that worked but is upside down\n",
    "from matplotlib import pyplot as plt\n",
    "from matplotlib import colors as c\n",
    "f=plt.figure(figsize=(8,8))\n",
    "#cMap=c.ListedColormap(['r','g','b','m'])#this is one way to color the map\n",
    "#But there are nice built-in labels and colors\n",
    "cMap=plt.cm.get_cmap('Spectral',lut=int(np.max(metric)))# lut argument was hard to find out\n",
    "plt.pcolormesh(gap,thickness,metric,cmap=cMap)#how do I show the color scale\n",
    "#Have to do better with annotating the axes but how, when it's an image?\n",
    "#I also want to plot the location of my experiment on this metric.\n",
    "plt.xlabel('Electrode gap / pin spacing')\n",
    "plt.ylabel('Electrode width / pin spacing')#I called it thickness instead of width in the code\n",
    "#However, thickness could be interpreted as thin-film or PCB trace thickness\n",
    "plt.title('Minimum net contacts for 7x7 array over all angles/positions. Black dot: experiment')\n",
    "plt.colorbar(orientation='vertical')\n",
    "plt.hold('True')\n",
    "plt.plot(0.5,0.75,'ko')\n",
    "plt.plot(0.2,3.05,'w.')#A point of interest in the blue triangle\n",
    "plt.plot(2,1.5,'w.')#A point of interest in the schnozz\n",
    "plt.plot(3,2,'w.')#A point of interest in the red zone\n",
    "plt.axis('equal')\n",
    "f.savefig('7x7TobikoWorstCase20x20.pdf')"
   ]
  },
  {
   "cell_type": "code",
   "execution_count": 7,
   "metadata": {
    "collapsed": false
   },
   "outputs": [
    {
     "data": {
      "text/plain": [
       "20.0"
      ]
     },
     "execution_count": 7,
     "metadata": {},
     "output_type": "execute_result"
    }
   ],
   "source": [
    "np.max(metric)#best possible electrode design for this array? does not consider\n",
    "#that you might want a larger gap to route signals between, and might want more than one\n",
    "#A or B electrode contacted in case there is a break in the circuit."
   ]
  },
  {
   "cell_type": "code",
   "execution_count": null,
   "metadata": {
    "collapsed": true
   },
   "outputs": [],
   "source": [
    "f=open('GetABetterFileName.csv','w')\n",
    "f.write(' ')\n",
    "for g in gap:\n",
    "    f.write(\",%.3f\"%g)#write gap values as column labels\n",
    "f.write(\"\\r\\n\")\n",
    "for idxt,t in enumerate(thickness):\n",
    "    f.write(\"%.3f\"%t)#write thickness values as row labels\n",
    "    for idxg,g in enumerate(gap):\n",
    "        f.write(\",%3d\"%(metric[idxt][idxg]))\n",
    "    f.write(\"\\r\\n\")  \n",
    "f.write(\"\\n\")\n",
    "    "
   ]
  },
  {
   "cell_type": "code",
   "execution_count": null,
   "metadata": {
    "collapsed": true
   },
   "outputs": [],
   "source": []
  }
 ],
 "metadata": {
  "kernelspec": {
   "display_name": "Python 2",
   "language": "python",
   "name": "python2"
  },
  "language_info": {
   "codemirror_mode": {
    "name": "ipython",
    "version": 2
   },
   "file_extension": ".py",
   "mimetype": "text/x-python",
   "name": "python",
   "nbconvert_exporter": "python",
   "pygments_lexer": "ipython2",
   "version": "2.7.12"
  },
  "widgets": {
   "state": {},
   "version": "1.1.2"
  }
 },
 "nbformat": 4,
 "nbformat_minor": 0
}
