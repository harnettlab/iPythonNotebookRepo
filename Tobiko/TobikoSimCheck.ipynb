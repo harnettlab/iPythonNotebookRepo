{
 "cells": [
  {
   "cell_type": "code",
   "execution_count": 13,
   "metadata": {
    "collapsed": true
   },
   "outputs": [],
   "source": [
    "#TobikoSimCheck\n",
    "#Make plots to illustrate what TobikoSim is doing\n",
    "#ckh Aug 2016 Calculate the worst case number of contacts for a NxN array of integer-spaced pins\n",
    "#touching an interdigitated array of electrodes with thickness t and gap g in units of pin spacing.\n",
    "\n",
    "#The array can be at any angle and any centroid relative to the electrode strips.\n",
    "import numpy as np\n",
    "import matplotlib.pyplot as plt #check my recent work for syntax\n",
    "\n",
    "N=7 #number of contacts on a side\n",
    "x=np.linspace(-(float(N-1))/2,(float(N-1))/2,N)\n",
    "y=x #Pin x-y coordinates are integer-spaced\n",
    "[X,Y]=np.meshgrid(x,y)#grids of pin coordinates"
   ]
  },
  {
   "cell_type": "code",
   "execution_count": 14,
   "metadata": {
    "collapsed": false
   },
   "outputs": [],
   "source": [
    "#define the coordinate conversions matlab has that numpy doesnt\n",
    "#and make them work at least on 1-D arrays\n",
    "def cart2pol(xin, yin):\n",
    "    #xin and yin must be same length\n",
    "    phi=np.zeros(len(xin))\n",
    "    rho=np.zeros(len(xin))\n",
    "    for i in range(len(xin)):\n",
    "        rho[i]=np.array(np.sqrt(xin[i]**2+yin[i]**2))\n",
    "        phi[i]=np.array(np.arctan2(yin[i],xin[i]))\n",
    "    return(phi,rho)\n",
    "\n",
    "def pol2cart(phiin, rhoin): #modified to work on 1D arrays\n",
    "    #phiin and rhoin must be same length\n",
    "    x=np.zeros(len(phiin))\n",
    "    y=np.zeros(len(phiin))\n",
    "    for i in range(len(phiin)):\n",
    "        x[i] = np.array(rhoin[i] * np.cos(phiin[i]))\n",
    "        y[i] = np.array(rhoin[i] * np.sin(phiin[i]))\n",
    "    return(x, y)"
   ]
  },
  {
   "cell_type": "code",
   "execution_count": 15,
   "metadata": {
    "collapsed": false
   },
   "outputs": [
    {
     "data": {
      "text/plain": [
       "array([[ 0.]])"
      ]
     },
     "execution_count": 15,
     "metadata": {},
     "output_type": "execute_result"
    }
   ],
   "source": [
    "theta=np.array([0.0*np.pi/180.0]) #in TobikoSim this is an array of possible device rotations, but here I'm just picking one angle\n",
    "#thickness=np.linspace(0.1,float(N)/2,200)#thickness can range from a pin width of spacing/10, to half the array width\n",
    "thickness=np.array([2.0]) #Actual thickness of my 7x7 electrodes with 4mm spacing, is 3mm. 0.75=3/4\n",
    "#gap=np.linspace(0.1,float(N)/2,200)\n",
    "gap=np.array([3.0]) #Actual gap of my 7x7 electrodes with 4mm spacing, is 2mm. 0.5=2/4\n",
    "\n",
    "#now put the un-rotated, un-translated XY values into polar\n",
    "Xflat=X.flatten()#now it's a 1D array so my function will work\n",
    "Yflat=Y.flatten()#same\n",
    "#I modified cart2pol and pol2cart to work on 1D arrays.\n",
    "[TH,R]=cart2pol(Xflat,Yflat)\n",
    "\n",
    "metric=np.zeros([len(thickness),len(gap)])# populate this array with the contact-quality metric in next few lines\n",
    "#for testing it will be a 1x1 array\n",
    "for idxt,t in enumerate(thickness):\n",
    "    for idxg,g in enumerate(gap):\n",
    "        worstcase=N**2/2#Lowest number of contacts found with either of the two nets.\n",
    "        #It starts off at the best possible value.\n",
    "        centroidy=np.array([(t)])#in TobikoSim this is an array but here I just pick one center Y-displacement\n",
    "        for th in theta:\n",
    "            [XROT,YROT]=pol2cart(TH+th,R)\n",
    "            for cy in centroidy:\n",
    "                YFinal=YROT+cy #final y value array\n",
    "                #Whether a pin contacts depends on whether the remainder after dividing the contact spacing\n",
    "                #into the pin's shifted y-value, is within t/2 of the center of the electrode.\n",
    "                AContacts=np.logical_or((np.abs((YFinal+(t+g)/2)%(2*(t+g)))<t/2),(np.abs((YFinal+(t+g)/2)%(-2*(t+g)))<t/2))#Indices of contacts touching A electrodes\n",
    "                BContacts=np.logical_or((np.abs((YFinal-(t+g)/2)%(2*(t+g)))<t/2),(np.abs((YFinal-(t+g)/2)%(-2*(t+g)))<t/2))#Indices of contacts touching B electrodes\n",
    "                testcase=np.amin([np.sum(AContacts),np.sum(BContacts)])\n",
    "                if testcase < worstcase:\n",
    "                    worstcase=testcase #found a new low\n",
    "        metric[idxt][idxg]=worstcase\n",
    "        #Here add the latest worstcase to an array mapped to the t and g value that caused it\n",
    "metric #show the result\n",
    "                \n",
    "        \n",
    "        \n",
    "    "
   ]
  },
  {
   "cell_type": "code",
   "execution_count": 16,
   "metadata": {
    "collapsed": false
   },
   "outputs": [],
   "source": [
    "#calculate electrode positions; electrode A y-centers are called ecA, electrode B y-centers are\n",
    "#called ecB\n",
    "t=thickness[0]#in this plotter program we have only one thickness\n",
    "g=gap[0]\n",
    "ecB=np.array([np.arange(0,float(N),2*(t+g))])+(t+g)/2\n",
    "ecB=np.concatenate((ecB,-(t+g)-ecB))\n",
    "ecA=-ecB"
   ]
  },
  {
   "cell_type": "code",
   "execution_count": 17,
   "metadata": {
    "collapsed": false
   },
   "outputs": [
    {
     "data": {
      "image/png": "[encoded data removed]",
      "text/plain": [
       "<matplotlib.figure.Figure at 0x1065438d0>"
      ]
     },
     "metadata": {},
     "output_type": "display_data"
    }
   ],
   "source": [
    "\n",
    "%matplotlib inline\n",
    "#Fill the stripes of A in light gray, B in darker gray using plt.fill(Xcoords,Ycoords,color)\n",
    "leftedge=-N \n",
    "rightedge=N\n",
    "f=plt.figure(figsize=(6,6))\n",
    "plt.hold('True')\n",
    "for Bcenter in ecB:#draw B electrodes in faded blue\n",
    "    plt.fill([leftedge,leftedge,rightedge,rightedge],[Bcenter-t/2,Bcenter+t/2,Bcenter+t/2,Bcenter-t/2],color='#ccccff')\n",
    "for Acenter in ecA:#draw A electrodes in faded red\n",
    "    plt.fill([leftedge,leftedge,rightedge,rightedge],[Acenter-t/2,Acenter+t/2,Acenter+t/2,Acenter-t/2],color='#ffcccc')\n",
    "plt.plot(XROT[AContacts],YFinal[AContacts],'ro')#Circle pins touching A contacts in red\n",
    "plt.plot(XROT[BContacts],YFinal[BContacts],'bs')#and put a blue square around pins touching B contacts\n",
    "#Count the circles and squares: whichever number is lower should be equal to the metric for this angle and y-displacement.\n",
    "plt.plot(XROT,YFinal,'k.')#Show all XY coords after rotation and translation\n",
    "plt.axis('equal')\n",
    "f.savefig('%dx%d_%3.1fdeg_%2.2fdispl_%2dworst.pdf'%(N,N,theta[0]*180/np.pi,centroidy[0],metric))\n",
    "#plt.show() #may be needed for running in Python\n",
    "\n"
   ]
  },
  {
   "cell_type": "code",
   "execution_count": 18,
   "metadata": {
    "collapsed": true
   },
   "outputs": [],
   "source": [
    "#can I animate this? I fixed it so the borders don't change with angle and displacement"
   ]
  },
  {
   "cell_type": "code",
   "execution_count": 19,
   "metadata": {
    "collapsed": true
   },
   "outputs": [],
   "source": [
    "#pumped out a lot of example plots that get the idea across when flipped through rapidly"
   ]
  }
 ],
 "metadata": {
  "kernelspec": {
   "display_name": "Python 2",
   "language": "python",
   "name": "python2"
  },
  "language_info": {
   "codemirror_mode": {
    "name": "ipython",
    "version": 2
   },
   "file_extension": ".py",
   "mimetype": "text/x-python",
   "name": "python",
   "nbconvert_exporter": "python",
   "pygments_lexer": "ipython2",
   "version": "2.7.12"
  },
  "widgets": {
   "state": {},
   "version": "1.1.2"
  }
 },
 "nbformat": 4,
 "nbformat_minor": 0
}
