{
 "cells": [
  {
   "cell_type": "code",
   "execution_count": 75,
   "metadata": {
    "collapsed": false
   },
   "outputs": [
    {
     "data": {
      "text/plain": [
       "(-1000.0, 200.0, -250.0, 150.0)"
      ]
     },
     "execution_count": 75,
     "metadata": {},
     "output_type": "execute_result"
    },
    {
     "data": {
      "image/png": "[encoded data removed]",
      "text/plain": [
       "<matplotlib.figure.Figure at 0x106bb0050>"
      ]
     },
     "metadata": {},
     "output_type": "display_data"
    }
   ],
   "source": [
    "#Read Brother .pes embroidery files & display the image.\n",
    "#Does not handle color changes\n",
    "#CKH 2015\n",
    "import struct\n",
    "import numpy as np\n",
    "%matplotlib inline\n",
    "import matplotlib.pyplot as plt\n",
    "\n",
    "with open('Motif.pes', 'rt') as f:\n",
    "    data = f.read().strip()\n",
    "B=[struct.unpack('@B',byte)[0] for byte in data] #@B unsigned ints\n",
    "#B is a list of ints in the file.\n",
    "\n",
    "#B contains stitch coordinates for editing\n",
    "#Followed by stitch increments: x and y displacements for moving the machine's translation stage\n",
    "#Followed by a bitmap to display on the machine's LCD\n",
    "#Thread color and bounding box information is scattered around too.\n",
    "#PES is a proprietary format with unpublished file specification.\n",
    "\n",
    "#This code uses pecstart as a pointer to the stitch increment data \n",
    "#The increment data goes into a plot of the embroidered pattern.\n",
    "#More information about these offsets at http://www.achatina.de/sewing/main/PEC.HTM\n",
    "\n",
    "pecstart=B[8]+256*B[9]+65536*B[10]\n",
    "graphicloc=B[pecstart+514]+B[pecstart+515]*256+B[pecstart+516]*65536;\n",
    "xsize=B[pecstart+520]+256*B[pecstart+521]; #x extent in unit of 0.1 mm\n",
    "ysize=B[pecstart+522]+256*B[pecstart+523]; #y extent\n",
    "\n",
    "increments=B[pecstart+533+3:pecstart+graphicloc+512-1]\n",
    "\n",
    "def makitsigned(item):#have to make a 7 bit signed int\n",
    "    if item>63:\n",
    "        return item-128\n",
    "    else:\n",
    "        return item\n",
    "    \n",
    "coords=[makitsigned(item) for item in increments]\n",
    "x=np.cumsum(coords[0:len(coords):2])#undo the increments back to absolute x value\n",
    "y=np.cumsum(coords[1:len(coords):2])#and y-value\n",
    "\n",
    "plt.plot(x,-y)#for some reason y is upside down\n",
    "plt.axis('equal')"
   ]
  },
  {
   "cell_type": "code",
   "execution_count": null,
   "metadata": {
    "collapsed": true
   },
   "outputs": [],
   "source": []
  }
 ],
 "metadata": {
  "kernelspec": {
   "display_name": "Python 2",
   "language": "python",
   "name": "python2"
  },
  "language_info": {
   "codemirror_mode": {
    "name": "ipython",
    "version": 2
   },
   "file_extension": ".py",
   "mimetype": "text/x-python",
   "name": "python",
   "nbconvert_exporter": "python",
   "pygments_lexer": "ipython2",
   "version": "2.7.10"
  }
 },
 "nbformat": 4,
 "nbformat_minor": 0
}
