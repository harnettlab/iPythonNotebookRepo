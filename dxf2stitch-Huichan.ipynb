{
 "cells": [
  {
   "cell_type": "code",
   "execution_count": 67,
   "metadata": {
    "collapsed": false
   },
   "outputs": [],
   "source": [
    "import dxfgrabber  #after doing \"pip install dxfgrabber\" from a terminal window\n",
    "#CKH the plan is to create cad files for laser cutting, then move them out as dxf and create the embroidery pattern"
   ]
  },
  {
   "cell_type": "code",
   "execution_count": 68,
   "metadata": {
    "collapsed": false
   },
   "outputs": [],
   "source": [
    "dxf=dxfgrabber.readfile(\"huichan_5.dxf\") #see https://pythonhosted.org/dxfgrabber/   "
   ]
  },
  {
   "cell_type": "code",
   "execution_count": 69,
   "metadata": {
    "collapsed": false
   },
   "outputs": [
    {
     "name": "stdout",
     "output_type": "stream",
     "text": [
      "DXF version: AC1018\n"
     ]
    }
   ],
   "source": [
    "print(\"DXF version: {}\".format(dxf.dxfversion))\n",
    "header_var_count = len(dxf.header) # dict of dxf header vars\n",
    "#what else is here? see this http://stackoverflow.com/questions/16634209/python-how-to-use-a-third-party-library"
   ]
  },
  {
   "cell_type": "code",
   "execution_count": 70,
   "metadata": {
    "collapsed": false
   },
   "outputs": [
    {
     "name": "stdout",
     "output_type": "stream",
     "text": [
      "0\n",
      "7\n"
     ]
    }
   ],
   "source": [
    "for layer in dxf.layers:\n",
    "    print layer.name\n",
    "    print layer.color"
   ]
  },
  {
   "cell_type": "code",
   "execution_count": 71,
   "metadata": {
    "collapsed": false
   },
   "outputs": [],
   "source": [
    "#get all entities on layer x\n",
    "all_layer_0_entities = [entity for entity in dxf.entities if entity.layer == '0']\n",
    "all_layer_1_entities = [entity for entity in dxf.entities if entity.layer == '1']\n",
    "all_entities = [entity for entity in dxf.entities]\n"
   ]
  },
  {
   "cell_type": "code",
   "execution_count": 72,
   "metadata": {
    "collapsed": false
   },
   "outputs": [
    {
     "data": {
      "text/plain": [
       "[<dxfgrabber.entities.Insert at 0x106a10490>,\n",
       " <dxfgrabber.entities.Insert at 0x106a10d90>,\n",
       " <dxfgrabber.entities.Insert at 0x106b3cf50>,\n",
       " <dxfgrabber.entities.Insert at 0x106ba8850>,\n",
       " <dxfgrabber.entities.Insert at 0x106ba8c90>,\n",
       " <dxfgrabber.entities.Insert at 0x106ba8710>,\n",
       " <dxfgrabber.entities.Insert at 0x106ba8810>,\n",
       " <dxfgrabber.entities.Insert at 0x106ba8490>,\n",
       " <dxfgrabber.entities.Insert at 0x106ba8f90>,\n",
       " <dxfgrabber.entities.Insert at 0x106ba8a50>,\n",
       " <dxfgrabber.entities.Insert at 0x106bc6dd0>,\n",
       " <dxfgrabber.entities.Insert at 0x106bc6510>,\n",
       " <dxfgrabber.entities.Insert at 0x106bc6a10>,\n",
       " <dxfgrabber.entities.Insert at 0x106bc6950>]"
      ]
     },
     "execution_count": 72,
     "metadata": {},
     "output_type": "execute_result"
    }
   ],
   "source": [
    "all_entities"
   ]
  },
  {
   "cell_type": "code",
   "execution_count": 73,
   "metadata": {
    "collapsed": false
   },
   "outputs": [
    {
     "data": {
      "text/plain": [
       "14"
      ]
     },
     "execution_count": 73,
     "metadata": {},
     "output_type": "execute_result"
    }
   ],
   "source": [
    "dxf.entities.__len__()"
   ]
  },
  {
   "cell_type": "code",
   "execution_count": 74,
   "metadata": {
    "collapsed": false
   },
   "outputs": [
    {
     "name": "stdout",
     "output_type": "stream",
     "text": [
      "0\n",
      "*Paper_Space0\n",
      "1\n",
      "block 4\n",
      "1\n",
      "block 6\n",
      "1\n",
      "block 7\n",
      "1\n",
      "block 2\n",
      "1\n",
      "block 3\n",
      "1\n",
      "block 8\n",
      "1\n",
      "block 9\n",
      "1\n",
      "block 14\n",
      "0\n",
      "*Paper_Space\n",
      "1\n",
      "block 5\n",
      "0\n",
      "*Model_Space\n",
      "1\n",
      "block 15\n",
      "1\n",
      "block 12\n",
      "1\n",
      "block 13\n",
      "1\n",
      "block 10\n",
      "1\n",
      "block 11\n"
     ]
    }
   ],
   "source": [
    "for block in dxf.blocks:\n",
    "    print len(block)\n",
    "    print block.name  #looks like so much stuff is in a block called 'block 2'  #now maybe it's *Model_Space"
   ]
  },
  {
   "cell_type": "code",
   "execution_count": 75,
   "metadata": {
    "collapsed": false
   },
   "outputs": [
    {
     "data": {
      "text/plain": [
       "(0.0, 0.0, 0.0)"
      ]
     },
     "execution_count": 75,
     "metadata": {},
     "output_type": "execute_result"
    }
   ],
   "source": [
    "dxf.blocks['block 4'].basepoint"
   ]
  },
  {
   "cell_type": "code",
   "execution_count": 76,
   "metadata": {
    "collapsed": false
   },
   "outputs": [],
   "source": [
    "MyEntities=[ele for ele in dxf.blocks['block 6']]#Found a bunch of splines in different blocks"
   ]
  },
  {
   "cell_type": "code",
   "execution_count": 77,
   "metadata": {
    "collapsed": false
   },
   "outputs": [
    {
     "name": "stdout",
     "output_type": "stream",
     "text": [
      "Open\n"
     ]
    }
   ],
   "source": [
    "#can I find out more about these splines. They should be circles that I am laser cutting.\n",
    "for entity in MyEntities:\n",
    "    if entity.is_closed:\n",
    "        print 'Closed'\n",
    "    else:\n",
    "        print 'Open'"
   ]
  },
  {
   "cell_type": "code",
   "execution_count": 78,
   "metadata": {
    "collapsed": false
   },
   "outputs": [
    {
     "data": {
      "text/plain": [
       "[<dxfgrabber.entities.Spline at 0x106db8350>]"
      ]
     },
     "execution_count": 78,
     "metadata": {},
     "output_type": "execute_result"
    }
   ],
   "source": [
    "MyEntities"
   ]
  },
  {
   "cell_type": "code",
   "execution_count": null,
   "metadata": {
    "collapsed": true
   },
   "outputs": [],
   "source": []
  },
  {
   "cell_type": "code",
   "execution_count": 79,
   "metadata": {
    "collapsed": false
   },
   "outputs": [],
   "source": [
    "stitchxdata=[]\n",
    "stitchydata=[]\n",
    "for block in dxf.blocks:\n",
    "    MyEntities=[ele for ele in block]\n",
    "    for entity in MyEntities:\n",
    "        #print dir(entity)  #How I found out about the dxftype attribute. Splines and polylines are both in Huichen's file.\n",
    "        if entity.dxftype == 'POLYLINE':  #the polylines are straight lines to the base, and appear out of order...\n",
    "            #print dir(entity)\n",
    "            for vertex in entity.vertices:\n",
    "                #print vertex.location\n",
    "                stitchxdata.append(vertex.location[0])\n",
    "                stitchydata.append(vertex.location[1])\n",
    "        if entity.dxftype == 'SPLINE':  #the splines form two circular paths but the ctrl points are chunky\n",
    "            for point in entity.controlpoints: #Will the fiber just flow around the corners bc it is sorta rigid\n",
    "                stitchxdata.append(point[0])\n",
    "                stitchydata.append(point[1])\n",
    "  \n",
    "        \n"
   ]
  },
  {
   "cell_type": "code",
   "execution_count": 80,
   "metadata": {
    "collapsed": false
   },
   "outputs": [],
   "source": [
    "#stitchdata"
   ]
  },
  {
   "cell_type": "code",
   "execution_count": 81,
   "metadata": {
    "collapsed": false
   },
   "outputs": [
    {
     "data": {
      "text/plain": [
       "[<matplotlib.lines.Line2D at 0x1050d5a50>]"
      ]
     },
     "execution_count": 81,
     "metadata": {},
     "output_type": "execute_result"
    },
    {
     "data": {
      "image/png": "[encoded data removed]",
      "text/plain": [
       "<matplotlib.figure.Figure at 0x106af1090>"
      ]
     },
     "metadata": {},
     "output_type": "display_data"
    }
   ],
   "source": [
    "%matplotlib inline\n",
    "import matplotlib.pyplot as plt\n",
    "#getting this from here http://nbviewer.ipython.org/github/ipython/ipython/blob/1.x/examples/notebooks/Part%203%20-%20Plotting%20with%20Matplotlib.ipynb\n",
    "plt.figure(1,figsize=(6,6))\n",
    "plt.plot(stitchxdata,stitchydata,'b.')\n",
    "plt.hold(True)\n",
    "plt.plot(stitchxdata,stitchydata,'r-')\n"
   ]
  },
  {
   "cell_type": "code",
   "execution_count": 82,
   "metadata": {
    "collapsed": true
   },
   "outputs": [],
   "source": [
    "#got some of Huichan's control points but could do better!"
   ]
  }
 ],
 "metadata": {
  "kernelspec": {
   "display_name": "Python 2",
   "language": "python",
   "name": "python2"
  },
  "language_info": {
   "codemirror_mode": {
    "name": "ipython",
    "version": 2
   },
   "file_extension": ".py",
   "mimetype": "text/x-python",
   "name": "python",
   "nbconvert_exporter": "python",
   "pygments_lexer": "ipython2",
   "version": "2.7.11"
  },
  "widgets": {
   "state": {},
   "version": "1.1.2"
  }
 },
 "nbformat": 4,
 "nbformat_minor": 0
}
