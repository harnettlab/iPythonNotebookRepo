{
 "cells": [
  {
   "cell_type": "code",
   "execution_count": 131,
   "metadata": {
    "collapsed": false
   },
   "outputs": [],
   "source": [
    "import dxfgrabber  #after doing \"pip install dxfgrabber\" from a terminal window\n",
    "#CKH the plan is to create 2D cad files then move them out as dxf, spit out a csv file of xy points along paths it finds\n",
    "#Another program reads the xy points to create an embroidery pattern"
   ]
  },
  {
   "cell_type": "code",
   "execution_count": 132,
   "metadata": {
    "collapsed": false
   },
   "outputs": [],
   "source": [
    "dxf=dxfgrabber.readfile(\"FiberLoop.dxf\") #see https://pythonhosted.org/dxfgrabber/   "
   ]
  },
  {
   "cell_type": "code",
   "execution_count": 133,
   "metadata": {
    "collapsed": false
   },
   "outputs": [
    {
     "name": "stdout",
     "output_type": "stream",
     "text": [
      "DXF version: AC1018\n"
     ]
    }
   ],
   "source": [
    "print(\"DXF version: {}\".format(dxf.dxfversion))\n",
    "header_var_count = len(dxf.header) # dict of dxf header vars\n",
    "#what else is here? see this http://stackoverflow.com/questions/16634209/python-how-to-use-a-third-party-library"
   ]
  },
  {
   "cell_type": "code",
   "execution_count": 134,
   "metadata": {
    "collapsed": false
   },
   "outputs": [
    {
     "name": "stdout",
     "output_type": "stream",
     "text": [
      "0\n",
      "7\n",
      "Layer 1\n",
      "7\n"
     ]
    }
   ],
   "source": [
    "for layer in dxf.layers:  #peeking at what is here\n",
    "    print layer.name\n",
    "    print layer.color"
   ]
  },
  {
   "cell_type": "code",
   "execution_count": 135,
   "metadata": {
    "collapsed": false
   },
   "outputs": [],
   "source": [
    "#get all entities on layer x --this does nothing but it is an example of what's available\n",
    "all_layer_0_entities = [entity for entity in dxf.entities if entity.layer == '0']\n",
    "all_layer_1_entities = [entity for entity in dxf.entities if entity.layer == '1']\n",
    "all_entities = [entity for entity in dxf.entities]\n"
   ]
  },
  {
   "cell_type": "code",
   "execution_count": 136,
   "metadata": {
    "collapsed": false
   },
   "outputs": [
    {
     "data": {
      "text/plain": [
       "[<dxfgrabber.entities.Polyline at 0x1074fc9d0>]"
      ]
     },
     "execution_count": 136,
     "metadata": {},
     "output_type": "execute_result"
    }
   ],
   "source": [
    "all_entities"
   ]
  },
  {
   "cell_type": "code",
   "execution_count": 137,
   "metadata": {
    "collapsed": false
   },
   "outputs": [
    {
     "data": {
      "text/plain": [
       "1"
      ]
     },
     "execution_count": 137,
     "metadata": {},
     "output_type": "execute_result"
    }
   ],
   "source": [
    "dxf.entities.__len__()"
   ]
  },
  {
   "cell_type": "code",
   "execution_count": 138,
   "metadata": {
    "collapsed": false
   },
   "outputs": [
    {
     "name": "stdout",
     "output_type": "stream",
     "text": [
      "0\n",
      "*Paper_Space0\n",
      "0\n",
      "*Model_Space\n",
      "0\n",
      "*Paper_Space\n"
     ]
    }
   ],
   "source": [
    "for block in dxf.blocks:\n",
    "    print len(block)\n",
    "    print block.name  #These names and layers change from file to file, I am just peeking"
   ]
  },
  {
   "cell_type": "code",
   "execution_count": null,
   "metadata": {
    "collapsed": true
   },
   "outputs": [],
   "source": []
  },
  {
   "cell_type": "code",
   "execution_count": 139,
   "metadata": {
    "collapsed": false
   },
   "outputs": [],
   "source": [
    "stitchxdata=[]\n",
    "stitchydata=[]\n",
    "for entity in all_entities:\n",
    "    #print dir(entity)  #How I found out about the dxftype attribute. Splines are found in illustrator dxf file.\n",
    "    #print entity.dxftype\n",
    "    if entity.dxftype == 'POLYLINE':  #did not find polylines in illustrator dxf file I made, but they were in Huichan's dxf\n",
    "        #print dir(entity)\n",
    "        for vertex in entity.vertices:\n",
    "             #print vertex.location\n",
    "             stitchxdata.append(vertex.location[0])\n",
    "             stitchydata.append(vertex.location[1])\n",
    "    if entity.dxftype == 'SPLINE':  #the splines ctrl points are chunky so in Illustrator i did \"add anchor points\" and hand edited\n",
    "        for point in entity.controlpoints: #Does chunky matter? Will the fiber just flow around the corners bc it is sorta rigid?\n",
    "            stitchxdata.append(point[0]*25.4)#my illustrator file was in inches\n",
    "            stitchydata.append(point[1]*25.4) # I would like to skip the hand-editing and interpolate this spline with evenly spaced points\n",
    "  \n",
    "        \n"
   ]
  },
  {
   "cell_type": "code",
   "execution_count": 140,
   "metadata": {
    "collapsed": false
   },
   "outputs": [
    {
     "data": {
      "text/plain": [
       "[14.69523674147348,\n",
       " 13.8212154402786,\n",
       " 12.43818094534488,\n",
       " 10.60659472232455,\n",
       " 8.386573727094037,\n",
       " 5.838579425305571,\n",
       " 3.022901027723484,\n",
       " 0.0,\n",
       " -3.022901027723484,\n",
       " -5.838579425305571,\n",
       " -8.386573727094037,\n",
       " -10.60659472232455,\n",
       " -12.43818094534488,\n",
       " -13.8212154402786,\n",
       " -14.69523674147348,\n",
       " -14.99995563816519,\n",
       " -14.73382183636265,\n",
       " -13.93490366629134,\n",
       " -13.33511214663021,\n",
       " -11.7346919831691,\n",
       " -10.03195241629654,\n",
       " -8.027594540714428,\n",
       " -6.494698293309376,\n",
       " -5.286502509592211,\n",
       " -5.000042631017696,\n",
       " -5.000042631017696,\n",
       " -5.000042631017696,\n",
       " -5.000042631017696,\n",
       " -5.000042631017696,\n",
       " -5.000042631017696,\n",
       " -5.000042631017696,\n",
       " -2.646007333002475,\n",
       " 0.0,\n",
       " 2.528357244568083,\n",
       " 5.000042631017696,\n",
       " 5.000042631017696,\n",
       " 5.000042631017696,\n",
       " 5.000042631017696,\n",
       " 5.000042631017696,\n",
       " 5.000042631017696,\n",
       " 5.000042631017696,\n",
       " 5.000042631017696,\n",
       " 4.999870376129799,\n",
       " 4.898239992269929,\n",
       " 4.145830641931096,\n",
       " 2.795524575698012,\n",
       " 1.007691094203794,\n",
       " -0.5112525072815146,\n",
       " -2.383146374069998,\n",
       " -3.858164979141295,\n",
       " -4.775077747422798,\n",
       " -4.999870376129799,\n",
       " -4.606956976834268,\n",
       " -3.535359319220285,\n",
       " -1.946135723472558,\n",
       " 0.0,\n",
       " 1.946307978360456,\n",
       " 3.535531574108183,\n",
       " 4.606956976834268,\n",
       " 4.898239992269929,\n",
       " 4.999870376129799,\n",
       " 5.000042631017696,\n",
       " 5.392956030313227,\n",
       " 6.464553687927211,\n",
       " 8.053949538562835,\n",
       " 10.00008526203539,\n",
       " 11.94622098550795,\n",
       " 13.53544458125568,\n",
       " 14.60704223886966,\n",
       " 14.99995563816519,\n",
       " 14.69523674147348]"
      ]
     },
     "execution_count": 140,
     "metadata": {},
     "output_type": "execute_result"
    }
   ],
   "source": [
    "stitchxdata #just peeking"
   ]
  },
  {
   "cell_type": "code",
   "execution_count": 141,
   "metadata": {
    "collapsed": false
   },
   "outputs": [
    {
     "data": {
      "text/plain": [
       "(-15.0, 15.0, -40.0, 20.0)"
      ]
     },
     "execution_count": 141,
     "metadata": {},
     "output_type": "execute_result"
    },
    {
     "data": {
      "image/png": "[encoded data removed]",
      "text/plain": [
       "<matplotlib.figure.Figure at 0x10754bf10>"
      ]
     },
     "metadata": {},
     "output_type": "display_data"
    }
   ],
   "source": [
    "%matplotlib inline\n",
    "import matplotlib.pyplot as plt\n",
    "#getting this from here http://nbviewer.ipython.org/github/ipython/ipython/blob/1.x/examples/notebooks/Part%203%20-%20Plotting%20with%20Matplotlib.ipynb\n",
    "plt.figure(1,figsize=(6,6))\n",
    "plt.plot(stitchxdata,stitchydata,'b.')\n",
    "plt.hold(True)\n",
    "plt.plot(stitchxdata,stitchydata,'r-')\n",
    "plt.axis('equal')\n",
    "\n"
   ]
  },
  {
   "cell_type": "code",
   "execution_count": 142,
   "metadata": {
    "collapsed": false
   },
   "outputs": [],
   "source": [
    "f=open('HuichanRemodel.csv','w')\n",
    "for i in range(0,len(stitchxdata)):\n",
    "    f.write(\"%.3f,%.3f\\r\\n\"%(stitchxdata[i],stitchydata[i]))\n"
   ]
  },
  {
   "cell_type": "code",
   "execution_count": null,
   "metadata": {
    "collapsed": false
   },
   "outputs": [],
   "source": []
  }
 ],
 "metadata": {
  "kernelspec": {
   "display_name": "Python 2",
   "language": "python",
   "name": "python2"
  },
  "language_info": {
   "codemirror_mode": {
    "name": "ipython",
    "version": 2
   },
   "file_extension": ".py",
   "mimetype": "text/x-python",
   "name": "python",
   "nbconvert_exporter": "python",
   "pygments_lexer": "ipython2",
   "version": "2.7.11"
  },
  "widgets": {
   "state": {},
   "version": "1.1.2"
  }
 },
 "nbformat": 4,
 "nbformat_minor": 0
}
