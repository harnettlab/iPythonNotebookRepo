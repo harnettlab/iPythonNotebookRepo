{
 "cells": [
  {
   "cell_type": "code",
   "execution_count": 102,
   "metadata": {
    "collapsed": false
   },
   "outputs": [],
   "source": [
    "import dxfgrabber  #after doing \"pip install dxfgrabber\" from a terminal window\n",
    "#CKH the plan is to create 2D cad files then move them out as dxf, spit out a csv file of xy points along paths it finds\n",
    "#Another program reads the xy points to create an embroidery pattern"
   ]
  },
  {
   "cell_type": "code",
   "execution_count": 103,
   "metadata": {
    "collapsed": false
   },
   "outputs": [],
   "source": [
    "dxf=dxfgrabber.readfile(\"MThreadOnlySparse.dxf\") #see https://pythonhosted.org/dxfgrabber/   "
   ]
  },
  {
   "cell_type": "code",
   "execution_count": 104,
   "metadata": {
    "collapsed": false
   },
   "outputs": [
    {
     "name": "stdout",
     "output_type": "stream",
     "text": [
      "DXF version: AC1018\n"
     ]
    }
   ],
   "source": [
    "print(\"DXF version: {}\".format(dxf.dxfversion))\n",
    "header_var_count = len(dxf.header) # dict of dxf header vars\n",
    "#what else is here? see this http://stackoverflow.com/questions/16634209/python-how-to-use-a-third-party-library"
   ]
  },
  {
   "cell_type": "code",
   "execution_count": 105,
   "metadata": {
    "collapsed": false
   },
   "outputs": [
    {
     "name": "stdout",
     "output_type": "stream",
     "text": [
      "0\n",
      "7\n",
      "Layer 1\n",
      "7\n"
     ]
    }
   ],
   "source": [
    "for layer in dxf.layers:  #peeking at what is here\n",
    "    print layer.name\n",
    "    print layer.color"
   ]
  },
  {
   "cell_type": "code",
   "execution_count": 106,
   "metadata": {
    "collapsed": false
   },
   "outputs": [
    {
     "data": {
      "text/plain": [
       "[<dxfgrabber.entities.Spline at 0x106cd6b90>]"
      ]
     },
     "execution_count": 106,
     "metadata": {},
     "output_type": "execute_result"
    }
   ],
   "source": [
    "#get all entities on layer x --this does nothing but it is an example of what's available\n",
    "all_layer_0_entities = [entity for entity in dxf.entities if entity.layer == '0']\n",
    "all_layer_1_entities = [entity for entity in dxf.entities if entity.layer == '1']\n",
    "all_entities = [entity for entity in dxf.entities]\n",
    "all_entities #I had a file where this did NOT find all the data\n"
   ]
  },
  {
   "cell_type": "code",
   "execution_count": 107,
   "metadata": {
    "collapsed": false
   },
   "outputs": [],
   "source": [
    "#all_entities=[]#so for this file I am starting over"
   ]
  },
  {
   "cell_type": "code",
   "execution_count": 108,
   "metadata": {
    "collapsed": false
   },
   "outputs": [
    {
     "data": {
      "text/plain": [
       "1"
      ]
     },
     "execution_count": 108,
     "metadata": {},
     "output_type": "execute_result"
    }
   ],
   "source": [
    "dxf.entities.__len__()"
   ]
  },
  {
   "cell_type": "code",
   "execution_count": 109,
   "metadata": {
    "collapsed": false
   },
   "outputs": [],
   "source": [
    "for block in dxf.blocks:\n",
    "    #print len(block)\n",
    "    #print block.name  #These names and layers change from file to file, I am just peeking\n",
    "    #print dir(block)\n",
    "    #print block._entities\n",
    "    all_entities.extend(block._entities)"
   ]
  },
  {
   "cell_type": "code",
   "execution_count": 110,
   "metadata": {
    "collapsed": false
   },
   "outputs": [
    {
     "data": {
      "text/plain": [
       "[<dxfgrabber.entities.Spline at 0x106cd6b90>]"
      ]
     },
     "execution_count": 110,
     "metadata": {},
     "output_type": "execute_result"
    }
   ],
   "source": [
    "all_entities"
   ]
  },
  {
   "cell_type": "code",
   "execution_count": 111,
   "metadata": {
    "collapsed": false
   },
   "outputs": [
    {
     "name": "stdout",
     "output_type": "stream",
     "text": [
      "['__class__', '__delattr__', '__dict__', '__doc__', '__format__', '__getattribute__', '__hash__', '__init__', '__module__', '__new__', '__reduce__', '__reduce_ex__', '__repr__', '__setattr__', '__sizeof__', '__str__', '__subclasshook__', '__weakref__', 'color', 'controlpoints', 'degree', 'dxftype', 'endtangent', 'extrusion', 'fitpoints', 'flags', 'invisible', 'is_closed', 'is_linear', 'is_periodic', 'is_planar', 'is_rational', 'knots', 'layer', 'linetype', 'ltscale', 'normalvector', 'paperspace', 'shadow_mode', 'starttangent', 'thickness', 'tol_controlpoint', 'tol_fitpoint', 'tol_knot', 'transparency', 'true_color', 'weights']\n",
      "SPLINE\n",
      "duplicate points found\n",
      "duplicate points found\n",
      "duplicate points found\n",
      "duplicate points found\n",
      "duplicate points found\n",
      "duplicate points found\n",
      "duplicate points found\n",
      "duplicate points found\n",
      "duplicate points found\n",
      "duplicate points found\n",
      "duplicate points found\n",
      "duplicate points found\n",
      "duplicate points found\n",
      "duplicate points found\n",
      "duplicate points found\n",
      "duplicate points found\n",
      "duplicate points found\n",
      "duplicate points found\n",
      "duplicate points found\n",
      "duplicate points found\n",
      "duplicate points found\n",
      "duplicate points found\n",
      "duplicate points found\n",
      "duplicate points found\n",
      "duplicate points found\n",
      "duplicate points found\n",
      "duplicate points found\n",
      "duplicate points found\n",
      "duplicate points found\n",
      "duplicate points found\n",
      "duplicate points found\n",
      "duplicate points found\n",
      "duplicate points found\n",
      "duplicate points found\n",
      "duplicate points found\n",
      "duplicate points found\n",
      "duplicate points found\n",
      "duplicate points found\n",
      "duplicate points found\n",
      "duplicate points found\n",
      "duplicate points found\n",
      "duplicate points found\n",
      "duplicate points found\n",
      "duplicate points found\n",
      "duplicate points found\n",
      "duplicate points found\n",
      "duplicate points found\n",
      "duplicate points found\n",
      "duplicate points found\n",
      "duplicate points found\n",
      "duplicate points found\n",
      "duplicate points found\n",
      "duplicate points found\n",
      "duplicate points found\n",
      "duplicate points found\n",
      "duplicate points found\n",
      "duplicate points found\n",
      "duplicate points found\n",
      "duplicate points found\n",
      "duplicate points found\n",
      "duplicate points found\n",
      "duplicate points found\n",
      "duplicate points found\n",
      "duplicate points found\n",
      "duplicate points found\n",
      "duplicate points found\n",
      "duplicate points found\n",
      "duplicate points found\n",
      "duplicate points found\n",
      "duplicate points found\n",
      "duplicate points found\n",
      "duplicate points found\n",
      "duplicate points found\n",
      "duplicate points found\n",
      "duplicate points found\n",
      "duplicate points found\n",
      "duplicate points found\n",
      "duplicate points found\n",
      "duplicate points found\n",
      "duplicate points found\n",
      "duplicate points found\n",
      "duplicate points found\n",
      "duplicate points found\n",
      "duplicate points found\n",
      "duplicate points found\n",
      "duplicate points found\n",
      "duplicate points found\n",
      "duplicate points found\n",
      "duplicate points found\n",
      "duplicate points found\n",
      "duplicate points found\n",
      "duplicate points found\n",
      "duplicate points found\n",
      "duplicate points found\n",
      "duplicate points found\n",
      "duplicate points found\n",
      "duplicate points found\n",
      "duplicate points found\n",
      "duplicate points found\n",
      "duplicate points found\n",
      "duplicate points found\n",
      "duplicate points found\n",
      "duplicate points found\n",
      "duplicate points found\n",
      "duplicate points found\n",
      "duplicate points found\n",
      "duplicate points found\n",
      "duplicate points found\n",
      "duplicate points found\n",
      "duplicate points found\n",
      "duplicate points found\n",
      "duplicate points found\n",
      "duplicate points found\n",
      "duplicate points found\n",
      "duplicate points found\n",
      "duplicate points found\n",
      "duplicate points found\n",
      "duplicate points found\n",
      "duplicate points found\n",
      "duplicate points found\n",
      "duplicate points found\n",
      "duplicate points found\n",
      "duplicate points found\n",
      "duplicate points found\n",
      "duplicate points found\n",
      "duplicate points found\n",
      "duplicate points found\n",
      "duplicate points found\n",
      "duplicate points found\n",
      "duplicate points found\n",
      "duplicate points found\n",
      "duplicate points found\n",
      "duplicate points found\n",
      "duplicate points found\n",
      "duplicate points found\n",
      "duplicate points found\n",
      "duplicate points found\n",
      "duplicate points found\n",
      "duplicate points found\n",
      "duplicate points found\n",
      "duplicate points found\n",
      "duplicate points found\n",
      "duplicate points found\n",
      "duplicate points found\n",
      "duplicate points found\n",
      "duplicate points found\n",
      "duplicate points found\n",
      "duplicate points found\n",
      "duplicate points found\n",
      "duplicate points found\n",
      "duplicate points found\n",
      "duplicate points found\n",
      "duplicate points found\n",
      "duplicate points found\n",
      "duplicate points found\n",
      "duplicate points found\n",
      "duplicate points found\n",
      "duplicate points found\n",
      "duplicate points found\n",
      "duplicate points found\n",
      "duplicate points found\n",
      "duplicate points found\n",
      "duplicate points found\n",
      "duplicate points found\n",
      "duplicate points found\n",
      "duplicate points found\n",
      "duplicate points found\n",
      "duplicate points found\n",
      "duplicate points found\n",
      "duplicate points found\n",
      "duplicate points found\n",
      "duplicate points found\n",
      "duplicate points found\n",
      "duplicate points found\n",
      "duplicate points found\n",
      "duplicate points found\n",
      "duplicate points found\n",
      "duplicate points found\n",
      "duplicate points found\n",
      "duplicate points found\n",
      "duplicate points found\n",
      "duplicate points found\n",
      "duplicate points found\n",
      "duplicate points found\n",
      "duplicate points found\n",
      "duplicate points found\n",
      "duplicate points found\n",
      "duplicate points found\n",
      "duplicate points found\n",
      "duplicate points found\n",
      "duplicate points found\n",
      "duplicate points found\n",
      "duplicate points found\n",
      "duplicate points found\n",
      "duplicate points found\n",
      "duplicate points found\n",
      "duplicate points found\n",
      "duplicate points found\n",
      "duplicate points found\n",
      "duplicate points found\n",
      "duplicate points found\n",
      "duplicate points found\n",
      "duplicate points found\n",
      "duplicate points found\n",
      "duplicate points found\n",
      "duplicate points found\n",
      "duplicate points found\n",
      "duplicate points found\n",
      "duplicate points found\n",
      "duplicate points found\n",
      "duplicate points found\n",
      "duplicate points found\n",
      "duplicate points found\n",
      "duplicate points found\n",
      "duplicate points found\n",
      "duplicate points found\n",
      "duplicate points found\n",
      "duplicate points found\n",
      "duplicate points found\n",
      "duplicate points found\n",
      "duplicate points found\n",
      "duplicate points found\n",
      "duplicate points found\n",
      "duplicate points found\n",
      "duplicate points found\n",
      "duplicate points found\n",
      "duplicate points found\n",
      "duplicate points found\n",
      "duplicate points found\n",
      "duplicate points found\n",
      "duplicate points found\n",
      "duplicate points found\n",
      "duplicate points found\n",
      "duplicate points found\n",
      "duplicate points found\n",
      "duplicate points found\n",
      "duplicate points found\n",
      "duplicate points found\n",
      "duplicate points found\n",
      "duplicate points found\n",
      "duplicate points found\n",
      "duplicate points found\n",
      "duplicate points found\n",
      "duplicate points found\n",
      "duplicate points found\n",
      "duplicate points found\n",
      "duplicate points found\n",
      "duplicate points found\n",
      "duplicate points found\n",
      "duplicate points found\n",
      "duplicate points found\n",
      "duplicate points found\n",
      "duplicate points found\n",
      "duplicate points found\n",
      "duplicate points found\n",
      "duplicate points found\n",
      "duplicate points found\n",
      "duplicate points found\n",
      "duplicate points found\n",
      "duplicate points found\n",
      "duplicate points found\n",
      "duplicate points found\n",
      "duplicate points found\n",
      "duplicate points found\n",
      "duplicate points found\n",
      "duplicate points found\n",
      "duplicate points found\n",
      "duplicate points found\n",
      "duplicate points found\n",
      "duplicate points found\n",
      "duplicate points found\n"
     ]
    }
   ],
   "source": [
    "stitchxdata=[]\n",
    "stitchydata=[]\n",
    "for entity in all_entities:\n",
    "    print dir(entity)  #How I found out about the dxftype attribute. Splines are found in illustrator dxf file.\n",
    "    print entity.dxftype\n",
    "    if entity.dxftype == 'POLYLINE':  #did not find polylines in illustrator dxf file I made, but they were in Huichan's dxf\n",
    "        #print dir(entity)\n",
    "        for vertex in entity.vertices:\n",
    "             #print vertex.location\n",
    "             stitchxdata.append(vertex.location[0])\n",
    "             stitchydata.append(vertex.location[1])\n",
    "    if entity.dxftype == 'SPLINE':  #the splines ctrl points are chunky so in Illustrator i did \"add anchor points\" and hand edited\n",
    "        prevx=[]\n",
    "        prevy=[]\n",
    "        for point in entity.controlpoints: #Does chunky matter? Will the fiber just flow around the corners bc it is sorta rigid?\n",
    "            if ((point[0]==prevx) and (point[1]==prevy)):\n",
    "                print('duplicate points found')\n",
    "            else:\n",
    "                stitchxdata.append(point[0]*25.4)#my illustrator file was in inches\n",
    "                stitchydata.append(point[1]*25.4)\n",
    "                prevx=point[0]\n",
    "                prevy=point[1]# I would like to skip the hand-editing and interpolate this spline with evenly spaced points\n",
    "    if entity.dxftype == 'INSERT': #found this thing in a file I started from scratch in illustrator\n",
    "        print 'found an INSERT' \n",
    "        \n"
   ]
  },
  {
   "cell_type": "code",
   "execution_count": 112,
   "metadata": {
    "collapsed": false
   },
   "outputs": [
    {
     "data": {
      "text/plain": [
       "[-34.999953907348065,\n",
       " -33.12495945257742,\n",
       " -31.249964997806774,\n",
       " -29.374970543036127,\n",
       " -27.499976088265484,\n",
       " -25.624981633494837,\n",
       " -23.749987178724187,\n",
       " -21.874992723953536,\n",
       " -19.999998269182885,\n",
       " -18.058685682571475,\n",
       " -16.468773067272156,\n",
       " -15.394419331451804,\n",
       " -14.999955638165192,\n",
       " -14.999955638165192,\n",
       " -14.999955638165192,\n",
       " -14.999955638165192,\n",
       " -14.999955638165192,\n",
       " -14.999955638165192,\n",
       " -14.999955638165192,\n",
       " -14.999955638165192,\n",
       " -14.999955638165192,\n",
       " -14.999955638165192,\n",
       " -14.999955638165192,\n",
       " -14.999955638165192,\n",
       " -14.999955638165192,\n",
       " -14.999955638165192,\n",
       " -14.999955638165192,\n",
       " -14.999955638165192,\n",
       " -14.999955638165192,\n",
       " -14.605491944878576,\n",
       " -13.531138209058224,\n",
       " -11.941225593758906,\n",
       " -9.999913007147496,\n",
       " -8.058600420536084,\n",
       " -6.4686878052367645,\n",
       " -5.39433406941641,\n",
       " -4.999870376129799,\n",
       " -4.999870376129799,\n",
       " -4.999870376129799,\n",
       " -4.999870376129799,\n",
       " -4.999870376129799,\n",
       " -4.999870376129799,\n",
       " -4.999870376129799,\n",
       " -4.999870376129799,\n",
       " -4.999870376129799,\n",
       " -4.999870376129799,\n",
       " -4.999870376129799,\n",
       " -4.999870376129799,\n",
       " -4.999870376129799,\n",
       " -4.999870376129799,\n",
       " -4.999870376129799,\n",
       " -4.999870376129799,\n",
       " -4.999870376129799,\n",
       " -4.605406682843186,\n",
       " -3.5310529470228316,\n",
       " -1.9411403317235123,\n",
       " 0.00017225488789746,\n",
       " 1.9414848414993098,\n",
       " 3.531397456798629,\n",
       " 4.605578937731083,\n",
       " 5.000042631017696,\n",
       " 5.000042631017696,\n",
       " 5.000042631017696,\n",
       " 5.000042631017696,\n",
       " 5.000042631017696,\n",
       " 5.000042631017696,\n",
       " 5.000042631017696,\n",
       " 5.000042631017696,\n",
       " 5.000042631017696,\n",
       " 5.000042631017696,\n",
       " 5.000042631017696,\n",
       " 5.000042631017696,\n",
       " 5.000042631017696,\n",
       " 5.000042631017696,\n",
       " 5.000042631017696,\n",
       " 5.000042631017696,\n",
       " 5.000042631017696,\n",
       " 5.39450632430431,\n",
       " 6.4686878052367645,\n",
       " 8.058600420536084,\n",
       " 9.999913007147496,\n",
       " 10.00025751692329,\n",
       " 11.941570103534703,\n",
       " 13.53148271883402,\n",
       " 14.605664199766476,\n",
       " 15.000127893053088,\n",
       " 15.000127893053088,\n",
       " 15.000127893053088,\n",
       " 15.000127893053088,\n",
       " 15.000127893053088,\n",
       " 15.000127893053088,\n",
       " 15.000127893053088,\n",
       " 15.000127893053088,\n",
       " 15.000127893053088,\n",
       " 15.000127893053088,\n",
       " 15.000127893053088,\n",
       " 15.000127893053088,\n",
       " 15.000127893053088,\n",
       " 15.000127893053088,\n",
       " 15.000127893053088,\n",
       " 15.000127893053088,\n",
       " 15.000127893053088,\n",
       " 15.3945915863397,\n",
       " 16.468773067272156,\n",
       " 18.058685682571475,\n",
       " 19.999998269182885,\n",
       " 21.875164978841433,\n",
       " 23.749987178724187,\n",
       " 25.624809378606933,\n",
       " 27.499976088265484,\n",
       " 29.37514279792403,\n",
       " 31.249964997806774,\n",
       " 33.12478719768952,\n",
       " 34.999953907348065]"
      ]
     },
     "execution_count": 112,
     "metadata": {},
     "output_type": "execute_result"
    }
   ],
   "source": [
    "stitchxdata #just peeking"
   ]
  },
  {
   "cell_type": "code",
   "execution_count": 113,
   "metadata": {
    "collapsed": false
   },
   "outputs": [
    {
     "data": {
      "text/plain": [
       "(-40.0, 40.0, -30.0, 30.0)"
      ]
     },
     "execution_count": 113,
     "metadata": {},
     "output_type": "execute_result"
    },
    {
     "data": {
      "image/png": "[encoded data removed]",
      "text/plain": [
       "<matplotlib.figure.Figure at 0x106fbc950>"
      ]
     },
     "metadata": {},
     "output_type": "display_data"
    }
   ],
   "source": [
    "%matplotlib inline\n",
    "import matplotlib.pyplot as plt\n",
    "#getting this from here http://nbviewer.ipython.org/github/ipython/ipython/blob/1.x/examples/notebooks/Part%203%20-%20Plotting%20with%20Matplotlib.ipynb\n",
    "plt.figure(1,figsize=(6,6))\n",
    "plt.plot(stitchxdata,stitchydata,'b.')\n",
    "plt.hold(True)\n",
    "plt.plot(stitchxdata,stitchydata,'r-')\n",
    "plt.axis('equal')\n",
    "\n"
   ]
  },
  {
   "cell_type": "code",
   "execution_count": 114,
   "metadata": {
    "collapsed": false
   },
   "outputs": [],
   "source": [
    "f=open('Meander.csv','w')\n",
    "for i in range(0,len(stitchxdata)):\n",
    "    f.write(\"%.3f,%.3f\\r\\n\"%(stitchxdata[i],stitchydata[i]))\n"
   ]
  },
  {
   "cell_type": "code",
   "execution_count": null,
   "metadata": {
    "collapsed": false
   },
   "outputs": [],
   "source": []
  }
 ],
 "metadata": {
  "kernelspec": {
   "display_name": "Python 2",
   "language": "python",
   "name": "python2"
  },
  "language_info": {
   "codemirror_mode": {
    "name": "ipython",
    "version": 2
   },
   "file_extension": ".py",
   "mimetype": "text/x-python",
   "name": "python",
   "nbconvert_exporter": "python",
   "pygments_lexer": "ipython2",
   "version": "2.7.11"
  },
  "widgets": {
   "state": {},
   "version": "1.1.2"
  }
 },
 "nbformat": 4,
 "nbformat_minor": 0
}
