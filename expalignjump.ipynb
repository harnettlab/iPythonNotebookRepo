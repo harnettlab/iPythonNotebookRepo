{
 "cells": [
  {
   "cell_type": "code",
   "execution_count": 143,
   "metadata": {
    "collapsed": false
   },
   "outputs": [],
   "source": [
    "#read in a coordinate file in mm and some align marks\n",
    "#turn it into an exp formatted file \n",
    "#porting expalignjump from matlab to python\n",
    "#ckh june 2016\n",
    "import numpy as np\n",
    "\n",
    "\n",
    "#later I want to have the user input the measured coords on a web form, for now I want a text input box\n",
    "#but how to be interactive? http://stackoverflow.com/questions/35361038/using-ipython-ipywidget-to-create-a-variable\n",
    "from ipywidgets import widgets,interact #besides text, interact has a slider and more. PythonAnywhere has ipywidgets"
   ]
  },
  {
   "cell_type": "code",
   "execution_count": 144,
   "metadata": {
    "collapsed": false
   },
   "outputs": [],
   "source": [
    "#Had to go to a terminal and enter    jupyter nbextension enable --py --sys-prefix widgetsnbextension\n",
    "#tried it again and THEN had to stop and restart this notebook to get the widgets working\n",
    "input_text=widgets.Text()\n",
    "input_text  #x1,y1,x2,y2 measured coords of align marks in millimeters"
   ]
  },
  {
   "cell_type": "code",
   "execution_count": 145,
   "metadata": {
    "collapsed": false
   },
   "outputs": [],
   "source": [
    "#measmarkstring=input_text.value #grab what the user typed for the measured coords\n",
    "measmarkstring='-25,0,25,0'"
   ]
  },
  {
   "cell_type": "code",
   "execution_count": 146,
   "metadata": {
    "collapsed": false
   },
   "outputs": [],
   "source": [
    "#now to break that string into pieces\n",
    "measmarks=[float(measmark) for measmark in measmarkstring.split(',')]"
   ]
  },
  {
   "cell_type": "code",
   "execution_count": 147,
   "metadata": {
    "collapsed": false
   },
   "outputs": [],
   "source": [
    "[measxleft,measyleft,measxright,measyright]=measmarks\n",
    "[drawnxleft,drawnyleft,drawnxright,drawnyright]=[-30.0,0.0,30.0,0.0]#default alignmark position"
   ]
  },
  {
   "cell_type": "markdown",
   "metadata": {},
   "source": [
    "Calculate shift and rotation angle:"
   ]
  },
  {
   "cell_type": "code",
   "execution_count": 148,
   "metadata": {
    "collapsed": false
   },
   "outputs": [
    {
     "data": {
      "text/plain": [
       "(0.0, [0.0, 0.0])"
      ]
     },
     "execution_count": 148,
     "metadata": {},
     "output_type": "execute_result"
    }
   ],
   "source": [
    "measxcenter=np.mean([measxleft,measxright])\n",
    "measycenter=np.mean([measyleft,measyright])\n",
    "drawnxcenter=np.mean([drawnxleft,drawnxright])\n",
    "drawnycenter=np.mean([drawnyleft,drawnyright])\n",
    "#measxcenter,measycenter,drawnxcenter,drawnycenter\n",
    "tanangle=(measyright-measyleft)/(measxright-measxleft) #assumes drawn marks are along same horizontal line\n",
    "offangle=np.arctan(tanangle) #it's in radians and assumes you're not off by 90 deg or more\n",
    "shift=[measxcenter-drawnxcenter,measycenter-drawnycenter]\n",
    "offangle,shift"
   ]
  },
  {
   "cell_type": "code",
   "execution_count": 149,
   "metadata": {
    "collapsed": true
   },
   "outputs": [],
   "source": [
    "#define the coordinate conversions matlab has that numpy doesnt\n",
    "def cart2pol(x, y):\n",
    "    rho = np.sqrt(x**2 + y**2)\n",
    "    phi = np.arctan2(y, x)\n",
    "    return(phi,rho)\n",
    "\n",
    "def pol2cart(phi, rho):\n",
    "    x = rho * np.cos(phi)\n",
    "    y = rho * np.sin(phi)\n",
    "    return(x, y)"
   ]
  },
  {
   "cell_type": "code",
   "execution_count": 150,
   "metadata": {
    "collapsed": false
   },
   "outputs": [],
   "source": [
    "#now get the text file containing coordinates, it will expect a comma delimited text file\n",
    "stitchdata= np.loadtxt('HuichanRemodel.csv', delimiter=',')\n"
   ]
  },
  {
   "cell_type": "code",
   "execution_count": 151,
   "metadata": {
    "collapsed": false
   },
   "outputs": [
    {
     "data": {
      "text/plain": [
       "array([[ 14.695,   3.023],\n",
       "       [ 13.821,   5.839],\n",
       "       [ 12.438,   8.387],\n",
       "       [ 10.607,  10.606],\n",
       "       [  8.387,  12.438],\n",
       "       [  5.839,  13.821],\n",
       "       [  3.023,  14.695],\n",
       "       [  0.   ,  15.   ],\n",
       "       [ -3.023,  14.695],\n",
       "       [ -5.839,  13.821],\n",
       "       [ -8.387,  12.438],\n",
       "       [-10.607,  10.606],\n",
       "       [-12.438,   8.387],\n",
       "       [-13.821,   5.839],\n",
       "       [-14.695,   3.023],\n",
       "       [-15.   ,   0.   ],\n",
       "       [-14.734,  -2.984],\n",
       "       [-13.935,  -5.693],\n",
       "       [-13.335,  -6.93 ],\n",
       "       [-11.735,  -9.138],\n",
       "       [-10.032, -10.671],\n",
       "       [ -8.028, -11.999],\n",
       "       [ -6.495, -12.789],\n",
       "       [ -5.287, -14.008],\n",
       "       [ -5.   , -15.346],\n",
       "       [ -5.   , -17.877],\n",
       "       [ -5.   , -20.227],\n",
       "       [ -5.   , -22.693],\n",
       "       [ -5.   , -25.107],\n",
       "       [ -5.   , -27.517],\n",
       "       [ -5.   , -30.   ],\n",
       "       [ -2.646, -30.   ],\n",
       "       [  0.   , -30.   ],\n",
       "       [  2.528, -30.   ],\n",
       "       [  5.   , -30.   ],\n",
       "       [  5.   , -27.576],\n",
       "       [  5.   , -24.93 ],\n",
       "       [  5.   , -22.049],\n",
       "       [  5.   , -19.166],\n",
       "       [  5.   , -16.228],\n",
       "       [  5.   , -12.7  ],\n",
       "       [  5.   , -10.   ],\n",
       "       [  5.   , -10.   ],\n",
       "       [  4.898,  -8.992],\n",
       "       [  4.146,  -7.205],\n",
       "       [  2.796,  -5.854],\n",
       "       [  1.008,  -5.102],\n",
       "       [ -0.511,  -4.974],\n",
       "       [ -2.383,  -4.397],\n",
       "       [ -3.858,  -3.181],\n",
       "       [ -4.775,  -1.487],\n",
       "       [ -5.   ,   0.   ],\n",
       "       [ -4.607,   1.946],\n",
       "       [ -3.535,   3.536],\n",
       "       [ -1.946,   4.607],\n",
       "       [  0.   ,   5.   ],\n",
       "       [  1.946,   4.607],\n",
       "       [  3.536,   3.536],\n",
       "       [  4.607,   1.946],\n",
       "       [  4.898,   1.008],\n",
       "       [  5.   ,   0.   ],\n",
       "       [  5.   ,   0.   ],\n",
       "       [  5.393,  -1.946],\n",
       "       [  6.465,  -3.535],\n",
       "       [  8.054,  -4.607],\n",
       "       [ 10.   ,  -5.   ],\n",
       "       [ 11.946,  -4.607],\n",
       "       [ 13.535,  -3.535],\n",
       "       [ 14.607,  -1.946],\n",
       "       [ 15.   ,   0.   ],\n",
       "       [ 14.695,   3.023]])"
      ]
     },
     "execution_count": 151,
     "metadata": {},
     "output_type": "execute_result"
    }
   ],
   "source": [
    "stitchdata"
   ]
  },
  {
   "cell_type": "code",
   "execution_count": 152,
   "metadata": {
    "collapsed": false
   },
   "outputs": [],
   "source": [
    "x=stitchdata[:,0]\n",
    "y=stitchdata[:,1]"
   ]
  },
  {
   "cell_type": "code",
   "execution_count": 153,
   "metadata": {
    "collapsed": false
   },
   "outputs": [
    {
     "data": {
      "text/plain": [
       "array([  3.023,   5.839,   8.387,  10.606,  12.438,  13.821,  14.695,\n",
       "        15.   ,  14.695,  13.821,  12.438,  10.606,   8.387,   5.839,\n",
       "         3.023,   0.   ,  -2.984,  -5.693,  -6.93 ,  -9.138, -10.671,\n",
       "       -11.999, -12.789, -14.008, -15.346, -17.877, -20.227, -22.693,\n",
       "       -25.107, -27.517, -30.   , -30.   , -30.   , -30.   , -30.   ,\n",
       "       -27.576, -24.93 , -22.049, -19.166, -16.228, -12.7  , -10.   ,\n",
       "       -10.   ,  -8.992,  -7.205,  -5.854,  -5.102,  -4.974,  -4.397,\n",
       "        -3.181,  -1.487,   0.   ,   1.946,   3.536,   4.607,   5.   ,\n",
       "         4.607,   3.536,   1.946,   1.008,   0.   ,   0.   ,  -1.946,\n",
       "        -3.535,  -4.607,  -5.   ,  -4.607,  -3.535,  -1.946,   0.   ,\n",
       "         3.023])"
      ]
     },
     "execution_count": 153,
     "metadata": {},
     "output_type": "execute_result"
    }
   ],
   "source": [
    "y"
   ]
  },
  {
   "cell_type": "code",
   "execution_count": 154,
   "metadata": {
    "collapsed": true
   },
   "outputs": [],
   "source": [
    "[theta,r]=cart2pol(x,y)"
   ]
  },
  {
   "cell_type": "code",
   "execution_count": 155,
   "metadata": {
    "collapsed": false
   },
   "outputs": [],
   "source": [
    "[x,y]=pol2cart(theta+offangle,r)"
   ]
  },
  {
   "cell_type": "code",
   "execution_count": 156,
   "metadata": {
    "collapsed": true
   },
   "outputs": [],
   "source": [
    "x=x+shift[0]\n",
    "y=y+shift[1]"
   ]
  },
  {
   "cell_type": "code",
   "execution_count": 157,
   "metadata": {
    "collapsed": false
   },
   "outputs": [
    {
     "data": {
      "text/plain": [
       "array([  1.46950000e+01,   1.38210000e+01,   1.24380000e+01,\n",
       "         1.06070000e+01,   8.38700000e+00,   5.83900000e+00,\n",
       "         3.02300000e+00,   9.18485099e-16,  -3.02300000e+00,\n",
       "        -5.83900000e+00,  -8.38700000e+00,  -1.06070000e+01,\n",
       "        -1.24380000e+01,  -1.38210000e+01,  -1.46950000e+01,\n",
       "        -1.50000000e+01,  -1.47340000e+01,  -1.39350000e+01,\n",
       "        -1.33350000e+01,  -1.17350000e+01,  -1.00320000e+01,\n",
       "        -8.02800000e+00,  -6.49500000e+00,  -5.28700000e+00,\n",
       "        -5.00000000e+00,  -5.00000000e+00,  -5.00000000e+00,\n",
       "        -5.00000000e+00,  -5.00000000e+00,  -5.00000000e+00,\n",
       "        -5.00000000e+00,  -2.64600000e+00,   1.83697020e-15,\n",
       "         2.52800000e+00,   5.00000000e+00,   5.00000000e+00,\n",
       "         5.00000000e+00,   5.00000000e+00,   5.00000000e+00,\n",
       "         5.00000000e+00,   5.00000000e+00,   5.00000000e+00,\n",
       "         5.00000000e+00,   4.89800000e+00,   4.14600000e+00,\n",
       "         2.79600000e+00,   1.00800000e+00,  -5.11000000e-01,\n",
       "        -2.38300000e+00,  -3.85800000e+00,  -4.77500000e+00,\n",
       "        -5.00000000e+00,  -4.60700000e+00,  -3.53500000e+00,\n",
       "        -1.94600000e+00,   3.06161700e-16,   1.94600000e+00,\n",
       "         3.53600000e+00,   4.60700000e+00,   4.89800000e+00,\n",
       "         5.00000000e+00,   5.00000000e+00,   5.39300000e+00,\n",
       "         6.46500000e+00,   8.05400000e+00,   1.00000000e+01,\n",
       "         1.19460000e+01,   1.35350000e+01,   1.46070000e+01,\n",
       "         1.50000000e+01,   1.46950000e+01])"
      ]
     },
     "execution_count": 157,
     "metadata": {},
     "output_type": "execute_result"
    }
   ],
   "source": [
    "x\n"
   ]
  },
  {
   "cell_type": "code",
   "execution_count": 158,
   "metadata": {
    "collapsed": false
   },
   "outputs": [],
   "source": [
    "dx=np.diff(x)\n",
    "dy=np.diff(y)"
   ]
  },
  {
   "cell_type": "code",
   "execution_count": 159,
   "metadata": {
    "collapsed": false
   },
   "outputs": [
    {
     "data": {
      "text/plain": [
       "array([  1.46950000e+01,   1.38210000e+01,   1.24380000e+01,\n",
       "         1.06070000e+01,   8.38700000e+00,   5.83900000e+00,\n",
       "         3.02300000e+00,   9.18485099e-16,  -3.02300000e+00,\n",
       "        -5.83900000e+00,  -8.38700000e+00,  -1.06070000e+01,\n",
       "        -1.24380000e+01,  -1.38210000e+01,  -1.46950000e+01,\n",
       "        -1.50000000e+01,  -1.47340000e+01,  -1.39350000e+01,\n",
       "        -1.33350000e+01,  -1.17350000e+01,  -1.00320000e+01,\n",
       "        -8.02800000e+00,  -6.49500000e+00,  -5.28700000e+00,\n",
       "        -5.00000000e+00,  -5.00000000e+00,  -5.00000000e+00,\n",
       "        -5.00000000e+00,  -5.00000000e+00,  -5.00000000e+00,\n",
       "        -5.00000000e+00,  -2.64600000e+00,   1.83697020e-15,\n",
       "         2.52800000e+00,   5.00000000e+00,   5.00000000e+00,\n",
       "         5.00000000e+00,   5.00000000e+00,   5.00000000e+00,\n",
       "         5.00000000e+00,   5.00000000e+00,   5.00000000e+00,\n",
       "         5.00000000e+00,   4.89800000e+00,   4.14600000e+00,\n",
       "         2.79600000e+00,   1.00800000e+00,  -5.11000000e-01,\n",
       "        -2.38300000e+00,  -3.85800000e+00,  -4.77500000e+00,\n",
       "        -5.00000000e+00,  -4.60700000e+00,  -3.53500000e+00,\n",
       "        -1.94600000e+00,   3.06161700e-16,   1.94600000e+00,\n",
       "         3.53600000e+00,   4.60700000e+00,   4.89800000e+00,\n",
       "         5.00000000e+00,   5.00000000e+00,   5.39300000e+00,\n",
       "         6.46500000e+00,   8.05400000e+00,   1.00000000e+01,\n",
       "         1.19460000e+01,   1.35350000e+01,   1.46070000e+01,\n",
       "         1.50000000e+01,   1.46950000e+01])"
      ]
     },
     "execution_count": 159,
     "metadata": {},
     "output_type": "execute_result"
    }
   ],
   "source": [
    "#find the extent of the matrix\n",
    "dxmax=np.max(np.absolute(dx))\n",
    "dymax=np.max(np.absolute(dy))\n",
    "diffmax=np.max([dxmax,dymax])\n",
    "#maximum allowed is 127\n",
    "x"
   ]
  },
  {
   "cell_type": "code",
   "execution_count": 160,
   "metadata": {
    "collapsed": false
   },
   "outputs": [],
   "source": [
    "x=np.round(x*10)\n",
    "y=np.round(y*10)"
   ]
  },
  {
   "cell_type": "code",
   "execution_count": 161,
   "metadata": {
    "collapsed": false
   },
   "outputs": [
    {
     "data": {
      "text/plain": [
       "array([], dtype=int64)"
      ]
     },
     "execution_count": 161,
     "metadata": {},
     "output_type": "execute_result"
    }
   ],
   "source": [
    "xjumploc=np.where(np.absolute(np.diff(x))>63) #where is like matlab find,   #i put 12, was 63\n",
    "#except numpy.where can be used w/2 args for more versatility. with one arg\n",
    "#my result will be in xjumplocs[0]\n",
    "xjumploc=xjumploc[0]\n",
    "xjumploc"
   ]
  },
  {
   "cell_type": "code",
   "execution_count": 162,
   "metadata": {
    "collapsed": false
   },
   "outputs": [
    {
     "data": {
      "text/plain": [
       "array([], dtype=float64)"
      ]
     },
     "execution_count": 162,
     "metadata": {},
     "output_type": "execute_result"
    }
   ],
   "source": [
    "#now shift each jump location cumulatively ahead of time\n",
    "xjumploc=xjumploc+range(0,len(xjumploc))\n",
    "xjumploc"
   ]
  },
  {
   "cell_type": "code",
   "execution_count": 163,
   "metadata": {
    "collapsed": false
   },
   "outputs": [],
   "source": [
    "j=1j #this is blowing my mind"
   ]
  },
  {
   "cell_type": "code",
   "execution_count": 164,
   "metadata": {
    "collapsed": false
   },
   "outputs": [],
   "source": [
    "for i in range(0,len(xjumploc)): #insert the x-jumps and renumber everything after them\n",
    "    print(i)\n",
    "    jump=np.sign(x[xjumploc[i]+1]-x[xjumploc[i]])*63\n",
    "    x=np.concatenate((x[0:(xjumploc[i])]+0j,[x[xjumploc[i]]]+jump+1j,x[(xjumploc[i]):len(x)]+0j),axis=0)\n",
    "    print ('x')\n",
    "    print(x)  \n",
    "    #this is super awkward\n",
    "    #to translate from MATLAB which assumes evertything is complex. \n",
    "    #probably should use numpy.insert instead of using the imaginary part as a flag.\n",
    "\n",
    "    #print([y[xjumploc[i]]]+jump+0j-jump)#Why do I only get to concatenate the complex numbers\n",
    "    #by adding and subtracting jump...seriously not happy about this\n",
    "    y=np.concatenate((y[0:(xjumploc[i])]+0j,[y[xjumploc[i]]]+jump+0j-jump,y[(xjumploc[i]):len(y)]+0j),axis=0)\n",
    "\n",
    "    print ('and y')\n",
    "    print(y)"
   ]
  },
  {
   "cell_type": "code",
   "execution_count": 165,
   "metadata": {
    "collapsed": false
   },
   "outputs": [],
   "source": [
    "yjumploc=np.where(np.absolute(np.diff(y))>63)\n",
    "yjumploc=yjumploc[0]\n",
    "yjumploc=yjumploc+range(0,len(yjumploc))"
   ]
  },
  {
   "cell_type": "code",
   "execution_count": 166,
   "metadata": {
    "collapsed": false
   },
   "outputs": [],
   "source": [
    "for i in range(0,len(yjumploc)): #insert the y-jumps and renumber everything after them\n",
    "    print(i)\n",
    "    jump=np.sign(y[yjumploc[i]+1]-y[yjumploc[i]])*63\n",
    "    x=np.concatenate((x[0:(yjumploc[i])]+0j,[x[yjumploc[i]]]+jump+0j-jump,x[(yjumploc[i]):len(y)]+0j),axis=0)\n",
    "    print ('x')\n",
    "    print(x)  \n",
    "    y=np.concatenate((y[0:(yjumploc[i])]+0j,[y[yjumploc[i]]]+jump+j,y[(yjumploc[i]):len(y)]+0j),axis=0)\n",
    "    print ('and y')\n",
    "    print(y)\n"
   ]
  },
  {
   "cell_type": "code",
   "execution_count": 167,
   "metadata": {
    "collapsed": false
   },
   "outputs": [],
   "source": [
    "#now get the final jump locations\n",
    "xjumplocs=np.where((np.imag(x))>0)\n",
    "xjumplocs=xjumplocs[0]\n",
    "yjumplocs=np.where((np.imag(y))>0)\n",
    "yjumplocs=yjumplocs[0]\n",
    "x=np.real(x)#back to normal after finding all the jump locations\n",
    "y=np.real(y)"
   ]
  },
  {
   "cell_type": "code",
   "execution_count": 168,
   "metadata": {
    "collapsed": false
   },
   "outputs": [
    {
     "data": {
      "text/plain": [
       "array([  30.,   58.,   84.,  106.,  124.,  138.,  147.,  150.,  147.,\n",
       "        138.,  124.,  106.,   84.,   58.,   30.,    0.,  -30.,  -57.,\n",
       "        -69.,  -91., -107., -120., -128., -140., -153., -179., -202.,\n",
       "       -227., -251., -275., -300., -300., -300., -300., -300., -276.,\n",
       "       -249., -220., -192., -162., -127., -100., -100.,  -90.,  -72.,\n",
       "        -59.,  -51.,  -50.,  -44.,  -32.,  -15.,    0.,   19.,   35.,\n",
       "         46.,   50.,   46.,   35.,   19.,   10.,    0.,    0.,  -19.,\n",
       "        -35.,  -46.,  -50.,  -46.,  -35.,  -19.,    0.,   30.])"
      ]
     },
     "execution_count": 168,
     "metadata": {},
     "output_type": "execute_result"
    }
   ],
   "source": [
    "y"
   ]
  },
  {
   "cell_type": "code",
   "execution_count": 169,
   "metadata": {
    "collapsed": false
   },
   "outputs": [
    {
     "data": {
      "text/plain": [
       "array([ 147.,  138.,  124.,  106.,   84.,   58.,   30.,    0.,  -30.,\n",
       "        -58.,  -84., -106., -124., -138., -147., -150., -147., -139.,\n",
       "       -133., -117., -100.,  -80.,  -65.,  -53.,  -50.,  -50.,  -50.,\n",
       "        -50.,  -50.,  -50.,  -50.,  -26.,    0.,   25.,   50.,   50.,\n",
       "         50.,   50.,   50.,   50.,   50.,   50.,   50.,   49.,   41.,\n",
       "         28.,   10.,   -5.,  -24.,  -39.,  -48.,  -50.,  -46.,  -35.,\n",
       "        -19.,    0.,   19.,   35.,   46.,   49.,   50.,   50.,   54.,\n",
       "         65.,   81.,  100.,  119.,  135.,  146.,  150.,  147.])"
      ]
     },
     "execution_count": 169,
     "metadata": {},
     "output_type": "execute_result"
    }
   ],
   "source": [
    "x"
   ]
  },
  {
   "cell_type": "code",
   "execution_count": 170,
   "metadata": {
    "collapsed": true
   },
   "outputs": [],
   "source": [
    "#this will take care of anything <25.4 mm\n",
    "#now would be a good place to plot the xy points, copy matplotlib commands from my other file"
   ]
  },
  {
   "cell_type": "code",
   "execution_count": 171,
   "metadata": {
    "collapsed": false
   },
   "outputs": [],
   "source": [
    "if(np.max(np.abs(np.concatenate((np.diff(x),np.diff(y))))))>191:\n",
    "    print('ERROR: your file has a jump greater than 25.4 mm')\n",
    "    #return or bail out somehow"
   ]
  },
  {
   "cell_type": "code",
   "execution_count": 172,
   "metadata": {
    "collapsed": true
   },
   "outputs": [],
   "source": [
    "#calc the differences dx and dy after scaling and roundoff\n",
    "dx=np.diff(x)\n",
    "dy=np.diff(y)"
   ]
  },
  {
   "cell_type": "code",
   "execution_count": 173,
   "metadata": {
    "collapsed": true
   },
   "outputs": [],
   "source": [
    "#shift any negative values to positive\n",
    "shiftxloc=np.where(dx<0) #where is like matlab find,  but can I do with lists somehow\n",
    "#except numpy.where can be used w/2 args for more versatility. with one arg\n",
    "#my result will be in xjumplocs[0]\n",
    "shiftxloc=shiftxloc[0]\n",
    "dx[shiftxloc]=dx[shiftxloc]+256\n"
   ]
  },
  {
   "cell_type": "code",
   "execution_count": 174,
   "metadata": {
    "collapsed": false
   },
   "outputs": [
    {
     "data": {
      "text/plain": [
       "array([ 247.,  242.,  238.,  234.,  230.,  228.,  226.,  226.,  228.,\n",
       "        230.,  234.,  238.,  242.,  247.,  253.,    3.,    8.,    6.,\n",
       "         16.,   17.,   20.,   15.,   12.,    3.,    0.,    0.,    0.,\n",
       "          0.,    0.,    0.,   24.,   26.,   25.,   25.,    0.,    0.,\n",
       "          0.,    0.,    0.,    0.,    0.,    0.,  255.,  248.,  243.,\n",
       "        238.,  241.,  237.,  241.,  247.,  254.,    4.,   11.,   16.,\n",
       "         19.,   19.,   16.,   11.,    3.,    1.,    0.,    4.,   11.,\n",
       "         16.,   19.,   19.,   16.,   11.,    4.,  253.])"
      ]
     },
     "execution_count": 174,
     "metadata": {},
     "output_type": "execute_result"
    }
   ],
   "source": [
    "dx"
   ]
  },
  {
   "cell_type": "code",
   "execution_count": 175,
   "metadata": {
    "collapsed": false
   },
   "outputs": [
    {
     "data": {
      "text/plain": [
       "array([  28.,   26.,   22.,   18.,   14.,    9.,    3.,  253.,  247.,\n",
       "        242.,  238.,  234.,  230.,  228.,  226.,  226.,  229.,  244.,\n",
       "        234.,  240.,  243.,  248.,  244.,  243.,  230.,  233.,  231.,\n",
       "        232.,  232.,  231.,    0.,    0.,    0.,    0.,   24.,   27.,\n",
       "         29.,   28.,   30.,   35.,   27.,    0.,   10.,   18.,   13.,\n",
       "          8.,    1.,    6.,   12.,   17.,   15.,   19.,   16.,   11.,\n",
       "          4.,  252.,  245.,  240.,  247.,  246.,    0.,  237.,  240.,\n",
       "        245.,  252.,    4.,   11.,   16.,   19.,   30.])"
      ]
     },
     "execution_count": 175,
     "metadata": {},
     "output_type": "execute_result"
    }
   ],
   "source": [
    "shiftyloc=np.where(dy<0)\n",
    "shiftyloc=shiftyloc[0]\n",
    "dy[shiftyloc]=dy[shiftyloc]+256\n",
    "#oops python has logical indexing like MATLAB this can save time http://stackoverflow.com/questions/12424824/how-i-can-i-conditionally-change-the-values-in-a-numpy-array-taking-into-account\n",
    "dy\n"
   ]
  },
  {
   "cell_type": "code",
   "execution_count": 176,
   "metadata": {
    "collapsed": false
   },
   "outputs": [
    {
     "data": {
      "text/plain": [
       "array([247, 242, 238, 234, 230, 228, 226, 226, 228, 230, 234, 238, 242,\n",
       "       247, 253,   3,   8,   6,  16,  17,  20,  15,  12,   3,   0,   0,\n",
       "         0,   0,   0,   0,  24,  26,  25,  25,   0,   0,   0,   0,   0,\n",
       "         0,   0,   0, 255, 248, 243, 238, 241, 237, 241, 247, 254,   4,\n",
       "        11,  16,  19,  19,  16,  11,   3,   1,   0,   4,  11,  16,  19,\n",
       "        19,  16,  11,   4, 253], dtype=uint8)"
      ]
     },
     "execution_count": 176,
     "metadata": {},
     "output_type": "execute_result"
    }
   ],
   "source": [
    "#cast the values into uint8 format which will round them off\n",
    "dx=np.uint8(dx)\n",
    "dy=np.uint8(dy)\n",
    "dx"
   ]
  },
  {
   "cell_type": "code",
   "execution_count": 177,
   "metadata": {
    "collapsed": true
   },
   "outputs": [],
   "source": [
    "#shift any dx or dy who is exactly 128, down to 127 or the machine will think this is a jump or color change\n",
    "#I dont think this can happen after the jumps and bail out but here goes\n",
    "dx[dx==128]=127\n",
    "dy[dy==128]=127"
   ]
  },
  {
   "cell_type": "code",
   "execution_count": null,
   "metadata": {
    "collapsed": true
   },
   "outputs": [],
   "source": [
    "#Iterate through dx and dy and insert jumps, designated by 128.\n",
    "origdx=dx\n",
    "origdy=dy\n",
    "dx=[]\n",
    "dy=[]\n",
    "for i in range(0,len(origdx)):\n",
    "\n"
   ]
  }
 ],
 "metadata": {
  "kernelspec": {
   "display_name": "Python 2",
   "language": "python",
   "name": "python2"
  },
  "language_info": {
   "codemirror_mode": {
    "name": "ipython",
    "version": 2
   },
   "file_extension": ".py",
   "mimetype": "text/x-python",
   "name": "python",
   "nbconvert_exporter": "python",
   "pygments_lexer": "ipython2",
   "version": "2.7.11"
  },
  "widgets": {
   "state": {
    "0e5e2cb2bc7d4c8782bddbca239e13a5": {
     "views": []
    },
    "11f6711e278f430d915a72d837725847": {
     "views": []
    },
    "1de3e5cd314e4b0c84505251f967bbcd": {
     "views": []
    },
    "217037231ae3441ca619981f4eb7e8c5": {
     "views": []
    },
    "4bb0b705339a4844a0bdb0bb18a346a0": {
     "views": []
    },
    "809668fb55b94d16b45312023a6ef3df": {
     "views": []
    },
    "9afb0da7d3ab46099b2e21f33a8fd6c0": {
     "views": []
    },
    "a5b908251b304db691473ae66db0fdd3": {
     "views": []
    },
    "beeedf7d284b4522b256ef0a689f4bc0": {
     "views": []
    },
    "dccfdcb4952d4e39a79584d692a06e9c": {
     "views": []
    },
    "de468aa2bc594237ac8e747fe363db0c": {
     "views": [
      {
       "cell_index": 1
      }
     ]
    },
    "fba44f3546384308b694bc91be861290": {
     "views": []
    }
   },
   "version": "1.1.2"
  }
 },
 "nbformat": 4,
 "nbformat_minor": 0
}
