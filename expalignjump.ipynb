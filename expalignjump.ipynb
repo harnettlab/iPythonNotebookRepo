{
 "cells": [
  {
   "cell_type": "code",
   "execution_count": 295,
   "metadata": {
    "collapsed": false
   },
   "outputs": [],
   "source": [
    "#read in a coordinate file in mm and some align marks\n",
    "#turn it into an exp formatted file \n",
    "#porting expalignjump from matlab to python\n",
    "#ckh june 2016\n",
    "import numpy as np\n",
    "\n",
    "\n",
    "#later I want to have the user input the measured coords on a web form, for now I want a text input box\n",
    "#but how to be interactive? http://stackoverflow.com/questions/35361038/using-ipython-ipywidget-to-create-a-variable\n",
    "from ipywidgets import widgets,interact #besides text, interact has a slider and more. PythonAnywhere has ipywidgets"
   ]
  },
  {
   "cell_type": "code",
   "execution_count": 296,
   "metadata": {
    "collapsed": false
   },
   "outputs": [],
   "source": [
    "#Had to go to a terminal and enter    jupyter nbextension enable --py --sys-prefix widgetsnbextension\n",
    "#tried it again and THEN had to stop and restart this notebook to get the widgets working\n",
    "input_text=widgets.Text()\n",
    "input_text  #x1,y1,x2,y2 measured coords of align marks in millimeters"
   ]
  },
  {
   "cell_type": "code",
   "execution_count": 297,
   "metadata": {
    "collapsed": false
   },
   "outputs": [],
   "source": [
    "#measmarkstring=input_text.value #grab what the user typed for the measured coords\n",
    "measmarkstring='-25,0,25,0'"
   ]
  },
  {
   "cell_type": "code",
   "execution_count": 298,
   "metadata": {
    "collapsed": false
   },
   "outputs": [],
   "source": [
    "#now to break that string into pieces\n",
    "measmarks=[float(measmark) for measmark in measmarkstring.split(',')]"
   ]
  },
  {
   "cell_type": "code",
   "execution_count": 299,
   "metadata": {
    "collapsed": false
   },
   "outputs": [],
   "source": [
    "[measxleft,measyleft,measxright,measyright]=measmarks\n",
    "[drawnxleft,drawnyleft,drawnxright,drawnyright]=[-30.0,0.0,30.0,0.0]#default alignmark position"
   ]
  },
  {
   "cell_type": "markdown",
   "metadata": {},
   "source": [
    "Calculate shift and rotation angle:"
   ]
  },
  {
   "cell_type": "code",
   "execution_count": 300,
   "metadata": {
    "collapsed": false
   },
   "outputs": [
    {
     "data": {
      "text/plain": [
       "(0.0, [0.0, 0.0])"
      ]
     },
     "execution_count": 300,
     "metadata": {},
     "output_type": "execute_result"
    }
   ],
   "source": [
    "measxcenter=np.mean([measxleft,measxright])\n",
    "measycenter=np.mean([measyleft,measyright])\n",
    "drawnxcenter=np.mean([drawnxleft,drawnxright])\n",
    "drawnycenter=np.mean([drawnyleft,drawnyright])\n",
    "#measxcenter,measycenter,drawnxcenter,drawnycenter\n",
    "tanangle=(measyright-measyleft)/(measxright-measxleft) #assumes drawn marks are along same horizontal line\n",
    "offangle=np.arctan(tanangle) #it's in radians and assumes you're not off by 90 deg or more\n",
    "shift=[measxcenter-drawnxcenter,measycenter-drawnycenter]\n",
    "offangle,shift"
   ]
  },
  {
   "cell_type": "code",
   "execution_count": 301,
   "metadata": {
    "collapsed": true
   },
   "outputs": [],
   "source": [
    "#define the coordinate conversions matlab has that numpy doesnt\n",
    "def cart2pol(x, y):\n",
    "    rho = np.sqrt(x**2 + y**2)\n",
    "    phi = np.arctan2(y, x)\n",
    "    return(phi,rho)\n",
    "\n",
    "def pol2cart(phi, rho):\n",
    "    x = rho * np.cos(phi)\n",
    "    y = rho * np.sin(phi)\n",
    "    return(x, y)"
   ]
  },
  {
   "cell_type": "code",
   "execution_count": 302,
   "metadata": {
    "collapsed": false
   },
   "outputs": [],
   "source": [
    "#now get the text file containing coordinates, it will expect a comma delimited text file\n",
    "stitchdata= np.loadtxt('HuichanRemodel.csv', delimiter=',')\n"
   ]
  },
  {
   "cell_type": "code",
   "execution_count": 303,
   "metadata": {
    "collapsed": false
   },
   "outputs": [
    {
     "data": {
      "text/plain": [
       "array([[ 14.695,   3.023],\n",
       "       [ 13.821,   5.839],\n",
       "       [ 12.438,   8.387],\n",
       "       [ 10.607,  10.606],\n",
       "       [  8.387,  12.438],\n",
       "       [  5.839,  13.821],\n",
       "       [  3.023,  14.695],\n",
       "       [  0.   ,  15.   ],\n",
       "       [ -3.023,  14.695],\n",
       "       [ -5.839,  13.821],\n",
       "       [ -8.387,  12.438],\n",
       "       [-10.607,  10.606],\n",
       "       [-12.438,   8.387],\n",
       "       [-13.821,   5.839],\n",
       "       [-14.695,   3.023],\n",
       "       [-15.   ,   0.   ],\n",
       "       [-14.734,  -2.984],\n",
       "       [-13.935,  -5.693],\n",
       "       [-13.335,  -6.93 ],\n",
       "       [-11.735,  -9.138],\n",
       "       [-10.032, -10.671],\n",
       "       [ -8.028, -11.999],\n",
       "       [ -6.495, -12.789],\n",
       "       [ -5.287, -14.008],\n",
       "       [ -5.   , -15.346],\n",
       "       [ -5.   , -17.877],\n",
       "       [ -5.   , -20.227],\n",
       "       [ -5.   , -22.693],\n",
       "       [ -5.   , -25.107],\n",
       "       [ -5.   , -27.517],\n",
       "       [ -5.   , -30.   ],\n",
       "       [ -2.646, -30.   ],\n",
       "       [  0.   , -30.   ],\n",
       "       [  2.528, -30.   ],\n",
       "       [  5.   , -30.   ],\n",
       "       [  5.   , -27.576],\n",
       "       [  5.   , -24.93 ],\n",
       "       [  5.   , -22.049],\n",
       "       [  5.   , -19.166],\n",
       "       [  5.   , -16.228],\n",
       "       [  5.   , -12.7  ],\n",
       "       [  5.   , -10.   ],\n",
       "       [  5.   , -10.   ],\n",
       "       [  4.898,  -8.992],\n",
       "       [  4.146,  -7.205],\n",
       "       [  2.796,  -5.854],\n",
       "       [  1.008,  -5.102],\n",
       "       [ -0.511,  -4.974],\n",
       "       [ -2.383,  -4.397],\n",
       "       [ -3.858,  -3.181],\n",
       "       [ -4.775,  -1.487],\n",
       "       [ -5.   ,   0.   ],\n",
       "       [ -4.607,   1.946],\n",
       "       [ -3.535,   3.536],\n",
       "       [ -1.946,   4.607],\n",
       "       [  0.   ,   5.   ],\n",
       "       [  1.946,   4.607],\n",
       "       [  3.536,   3.536],\n",
       "       [  4.607,   1.946],\n",
       "       [  4.898,   1.008],\n",
       "       [  5.   ,   0.   ],\n",
       "       [  5.   ,   0.   ],\n",
       "       [  5.393,  -1.946],\n",
       "       [  6.465,  -3.535],\n",
       "       [  8.054,  -4.607],\n",
       "       [ 10.   ,  -5.   ],\n",
       "       [ 11.946,  -4.607],\n",
       "       [ 13.535,  -3.535],\n",
       "       [ 14.607,  -1.946],\n",
       "       [ 15.   ,   0.   ],\n",
       "       [ 14.695,   3.023]])"
      ]
     },
     "execution_count": 303,
     "metadata": {},
     "output_type": "execute_result"
    }
   ],
   "source": [
    "stitchdata"
   ]
  },
  {
   "cell_type": "code",
   "execution_count": 304,
   "metadata": {
    "collapsed": false
   },
   "outputs": [],
   "source": [
    "x=stitchdata[:,0]\n",
    "y=stitchdata[:,1]"
   ]
  },
  {
   "cell_type": "code",
   "execution_count": 305,
   "metadata": {
    "collapsed": false
   },
   "outputs": [
    {
     "data": {
      "text/plain": [
       "array([  3.023,   5.839,   8.387,  10.606,  12.438,  13.821,  14.695,\n",
       "        15.   ,  14.695,  13.821,  12.438,  10.606,   8.387,   5.839,\n",
       "         3.023,   0.   ,  -2.984,  -5.693,  -6.93 ,  -9.138, -10.671,\n",
       "       -11.999, -12.789, -14.008, -15.346, -17.877, -20.227, -22.693,\n",
       "       -25.107, -27.517, -30.   , -30.   , -30.   , -30.   , -30.   ,\n",
       "       -27.576, -24.93 , -22.049, -19.166, -16.228, -12.7  , -10.   ,\n",
       "       -10.   ,  -8.992,  -7.205,  -5.854,  -5.102,  -4.974,  -4.397,\n",
       "        -3.181,  -1.487,   0.   ,   1.946,   3.536,   4.607,   5.   ,\n",
       "         4.607,   3.536,   1.946,   1.008,   0.   ,   0.   ,  -1.946,\n",
       "        -3.535,  -4.607,  -5.   ,  -4.607,  -3.535,  -1.946,   0.   ,\n",
       "         3.023])"
      ]
     },
     "execution_count": 305,
     "metadata": {},
     "output_type": "execute_result"
    }
   ],
   "source": [
    "y"
   ]
  },
  {
   "cell_type": "code",
   "execution_count": 306,
   "metadata": {
    "collapsed": true
   },
   "outputs": [],
   "source": [
    "[theta,r]=cart2pol(x,y)"
   ]
  },
  {
   "cell_type": "code",
   "execution_count": 307,
   "metadata": {
    "collapsed": false
   },
   "outputs": [],
   "source": [
    "[x,y]=pol2cart(theta+offangle,r)"
   ]
  },
  {
   "cell_type": "code",
   "execution_count": 308,
   "metadata": {
    "collapsed": true
   },
   "outputs": [],
   "source": [
    "x=x+shift[0]\n",
    "y=y+shift[1]"
   ]
  },
  {
   "cell_type": "code",
   "execution_count": 309,
   "metadata": {
    "collapsed": false
   },
   "outputs": [
    {
     "data": {
      "text/plain": [
       "array([  1.46950000e+01,   1.38210000e+01,   1.24380000e+01,\n",
       "         1.06070000e+01,   8.38700000e+00,   5.83900000e+00,\n",
       "         3.02300000e+00,   9.18485099e-16,  -3.02300000e+00,\n",
       "        -5.83900000e+00,  -8.38700000e+00,  -1.06070000e+01,\n",
       "        -1.24380000e+01,  -1.38210000e+01,  -1.46950000e+01,\n",
       "        -1.50000000e+01,  -1.47340000e+01,  -1.39350000e+01,\n",
       "        -1.33350000e+01,  -1.17350000e+01,  -1.00320000e+01,\n",
       "        -8.02800000e+00,  -6.49500000e+00,  -5.28700000e+00,\n",
       "        -5.00000000e+00,  -5.00000000e+00,  -5.00000000e+00,\n",
       "        -5.00000000e+00,  -5.00000000e+00,  -5.00000000e+00,\n",
       "        -5.00000000e+00,  -2.64600000e+00,   1.83697020e-15,\n",
       "         2.52800000e+00,   5.00000000e+00,   5.00000000e+00,\n",
       "         5.00000000e+00,   5.00000000e+00,   5.00000000e+00,\n",
       "         5.00000000e+00,   5.00000000e+00,   5.00000000e+00,\n",
       "         5.00000000e+00,   4.89800000e+00,   4.14600000e+00,\n",
       "         2.79600000e+00,   1.00800000e+00,  -5.11000000e-01,\n",
       "        -2.38300000e+00,  -3.85800000e+00,  -4.77500000e+00,\n",
       "        -5.00000000e+00,  -4.60700000e+00,  -3.53500000e+00,\n",
       "        -1.94600000e+00,   3.06161700e-16,   1.94600000e+00,\n",
       "         3.53600000e+00,   4.60700000e+00,   4.89800000e+00,\n",
       "         5.00000000e+00,   5.00000000e+00,   5.39300000e+00,\n",
       "         6.46500000e+00,   8.05400000e+00,   1.00000000e+01,\n",
       "         1.19460000e+01,   1.35350000e+01,   1.46070000e+01,\n",
       "         1.50000000e+01,   1.46950000e+01])"
      ]
     },
     "execution_count": 309,
     "metadata": {},
     "output_type": "execute_result"
    }
   ],
   "source": [
    "x\n"
   ]
  },
  {
   "cell_type": "code",
   "execution_count": 310,
   "metadata": {
    "collapsed": false
   },
   "outputs": [],
   "source": [
    "dx=np.diff(x)\n",
    "dy=np.diff(y)"
   ]
  },
  {
   "cell_type": "code",
   "execution_count": 311,
   "metadata": {
    "collapsed": false
   },
   "outputs": [
    {
     "data": {
      "text/plain": [
       "array([  1.46950000e+01,   1.38210000e+01,   1.24380000e+01,\n",
       "         1.06070000e+01,   8.38700000e+00,   5.83900000e+00,\n",
       "         3.02300000e+00,   9.18485099e-16,  -3.02300000e+00,\n",
       "        -5.83900000e+00,  -8.38700000e+00,  -1.06070000e+01,\n",
       "        -1.24380000e+01,  -1.38210000e+01,  -1.46950000e+01,\n",
       "        -1.50000000e+01,  -1.47340000e+01,  -1.39350000e+01,\n",
       "        -1.33350000e+01,  -1.17350000e+01,  -1.00320000e+01,\n",
       "        -8.02800000e+00,  -6.49500000e+00,  -5.28700000e+00,\n",
       "        -5.00000000e+00,  -5.00000000e+00,  -5.00000000e+00,\n",
       "        -5.00000000e+00,  -5.00000000e+00,  -5.00000000e+00,\n",
       "        -5.00000000e+00,  -2.64600000e+00,   1.83697020e-15,\n",
       "         2.52800000e+00,   5.00000000e+00,   5.00000000e+00,\n",
       "         5.00000000e+00,   5.00000000e+00,   5.00000000e+00,\n",
       "         5.00000000e+00,   5.00000000e+00,   5.00000000e+00,\n",
       "         5.00000000e+00,   4.89800000e+00,   4.14600000e+00,\n",
       "         2.79600000e+00,   1.00800000e+00,  -5.11000000e-01,\n",
       "        -2.38300000e+00,  -3.85800000e+00,  -4.77500000e+00,\n",
       "        -5.00000000e+00,  -4.60700000e+00,  -3.53500000e+00,\n",
       "        -1.94600000e+00,   3.06161700e-16,   1.94600000e+00,\n",
       "         3.53600000e+00,   4.60700000e+00,   4.89800000e+00,\n",
       "         5.00000000e+00,   5.00000000e+00,   5.39300000e+00,\n",
       "         6.46500000e+00,   8.05400000e+00,   1.00000000e+01,\n",
       "         1.19460000e+01,   1.35350000e+01,   1.46070000e+01,\n",
       "         1.50000000e+01,   1.46950000e+01])"
      ]
     },
     "execution_count": 311,
     "metadata": {},
     "output_type": "execute_result"
    }
   ],
   "source": [
    "#find the extent of the matrix\n",
    "dxmax=np.max(np.absolute(dx))\n",
    "dymax=np.max(np.absolute(dy))\n",
    "diffmax=np.max([dxmax,dymax])\n",
    "#maximum allowed is 127\n",
    "x"
   ]
  },
  {
   "cell_type": "code",
   "execution_count": 312,
   "metadata": {
    "collapsed": false
   },
   "outputs": [],
   "source": [
    "x=np.round(x*10)\n",
    "y=np.round(y*10)"
   ]
  },
  {
   "cell_type": "code",
   "execution_count": 313,
   "metadata": {
    "collapsed": false
   },
   "outputs": [
    {
     "data": {
      "text/plain": [
       "array([], dtype=int64)"
      ]
     },
     "execution_count": 313,
     "metadata": {},
     "output_type": "execute_result"
    }
   ],
   "source": [
    "xjumploc=np.where(np.absolute(np.diff(x))>63) #where is like matlab find,   #i put 12, was 63\n",
    "#except numpy.where can be used w/2 args for more versatility. with one arg\n",
    "#my result will be in xjumplocs[0]\n",
    "xjumploc=xjumploc[0]\n",
    "xjumploc"
   ]
  },
  {
   "cell_type": "code",
   "execution_count": 314,
   "metadata": {
    "collapsed": false
   },
   "outputs": [
    {
     "data": {
      "text/plain": [
       "array([], dtype=float64)"
      ]
     },
     "execution_count": 314,
     "metadata": {},
     "output_type": "execute_result"
    }
   ],
   "source": [
    "#now shift each jump location cumulatively ahead of time\n",
    "xjumploc=xjumploc+range(0,len(xjumploc))\n",
    "xjumploc"
   ]
  },
  {
   "cell_type": "code",
   "execution_count": 315,
   "metadata": {
    "collapsed": false
   },
   "outputs": [],
   "source": [
    "j=1j #this is blowing my mind"
   ]
  },
  {
   "cell_type": "code",
   "execution_count": 316,
   "metadata": {
    "collapsed": false
   },
   "outputs": [],
   "source": [
    "for i in range(0,len(xjumploc)): #insert the x-jumps and renumber everything after them\n",
    "    print(i)\n",
    "    jump=np.sign(x[xjumploc[i]+1]-x[xjumploc[i]])*63\n",
    "    x=np.concatenate((x[0:(xjumploc[i])]+0j,[x[xjumploc[i]]]+jump+1j,x[(xjumploc[i]):len(x)]+0j),axis=0)\n",
    "    print ('x')\n",
    "    print(x)  \n",
    "    #this is super awkward\n",
    "    #to translate from MATLAB which assumes evertything is complex. \n",
    "    #probably should use numpy.insert instead of using the imaginary part as a flag.\n",
    "\n",
    "    #print([y[xjumploc[i]]]+jump+0j-jump)#Why do I only get to concatenate the complex numbers\n",
    "    #by adding and subtracting jump...seriously not happy about this\n",
    "    y=np.concatenate((y[0:(xjumploc[i])]+0j,[y[xjumploc[i]]]+jump+0j-jump,y[(xjumploc[i]):len(y)]+0j),axis=0)\n",
    "\n",
    "    print ('and y')\n",
    "    print(y)"
   ]
  },
  {
   "cell_type": "code",
   "execution_count": 317,
   "metadata": {
    "collapsed": false
   },
   "outputs": [],
   "source": [
    "yjumploc=np.where(np.absolute(np.diff(y))>63)\n",
    "yjumploc=yjumploc[0]\n",
    "yjumploc=yjumploc+range(0,len(yjumploc))"
   ]
  },
  {
   "cell_type": "code",
   "execution_count": 318,
   "metadata": {
    "collapsed": false
   },
   "outputs": [],
   "source": [
    "for i in range(0,len(yjumploc)): #insert the y-jumps and renumber everything after them\n",
    "    print(i)\n",
    "    jump=np.sign(y[yjumploc[i]+1]-y[yjumploc[i]])*63\n",
    "    x=np.concatenate((x[0:(yjumploc[i])]+0j,[x[yjumploc[i]]]+jump+0j-jump,x[(yjumploc[i]):len(y)]+0j),axis=0)\n",
    "    print ('x')\n",
    "    print(x)  \n",
    "    y=np.concatenate((y[0:(yjumploc[i])]+0j,[y[yjumploc[i]]]+jump+j,y[(yjumploc[i]):len(y)]+0j),axis=0)\n",
    "    print ('and y')\n",
    "    print(y)\n"
   ]
  },
  {
   "cell_type": "code",
   "execution_count": 319,
   "metadata": {
    "collapsed": false
   },
   "outputs": [],
   "source": [
    "#now get the final jump locations\n",
    "xjumplocs=np.where((np.imag(x))>0)\n",
    "xjumplocs=xjumplocs[0]\n",
    "yjumplocs=np.where((np.imag(y))>0)\n",
    "yjumplocs=yjumplocs[0]\n",
    "x=np.real(x)#back to normal after finding all the jump locations\n",
    "y=np.real(y)"
   ]
  },
  {
   "cell_type": "code",
   "execution_count": 320,
   "metadata": {
    "collapsed": false
   },
   "outputs": [
    {
     "data": {
      "text/plain": [
       "array([  30.,   58.,   84.,  106.,  124.,  138.,  147.,  150.,  147.,\n",
       "        138.,  124.,  106.,   84.,   58.,   30.,    0.,  -30.,  -57.,\n",
       "        -69.,  -91., -107., -120., -128., -140., -153., -179., -202.,\n",
       "       -227., -251., -275., -300., -300., -300., -300., -300., -276.,\n",
       "       -249., -220., -192., -162., -127., -100., -100.,  -90.,  -72.,\n",
       "        -59.,  -51.,  -50.,  -44.,  -32.,  -15.,    0.,   19.,   35.,\n",
       "         46.,   50.,   46.,   35.,   19.,   10.,    0.,    0.,  -19.,\n",
       "        -35.,  -46.,  -50.,  -46.,  -35.,  -19.,    0.,   30.])"
      ]
     },
     "execution_count": 320,
     "metadata": {},
     "output_type": "execute_result"
    }
   ],
   "source": [
    "y"
   ]
  },
  {
   "cell_type": "code",
   "execution_count": 321,
   "metadata": {
    "collapsed": false
   },
   "outputs": [
    {
     "data": {
      "text/plain": [
       "array([ 147.,  138.,  124.,  106.,   84.,   58.,   30.,    0.,  -30.,\n",
       "        -58.,  -84., -106., -124., -138., -147., -150., -147., -139.,\n",
       "       -133., -117., -100.,  -80.,  -65.,  -53.,  -50.,  -50.,  -50.,\n",
       "        -50.,  -50.,  -50.,  -50.,  -26.,    0.,   25.,   50.,   50.,\n",
       "         50.,   50.,   50.,   50.,   50.,   50.,   50.,   49.,   41.,\n",
       "         28.,   10.,   -5.,  -24.,  -39.,  -48.,  -50.,  -46.,  -35.,\n",
       "        -19.,    0.,   19.,   35.,   46.,   49.,   50.,   50.,   54.,\n",
       "         65.,   81.,  100.,  119.,  135.,  146.,  150.,  147.])"
      ]
     },
     "execution_count": 321,
     "metadata": {},
     "output_type": "execute_result"
    }
   ],
   "source": [
    "x"
   ]
  },
  {
   "cell_type": "code",
   "execution_count": 322,
   "metadata": {
    "collapsed": true
   },
   "outputs": [],
   "source": [
    "#this will take care of anything <25.4 mm\n",
    "#now would be a good place to plot the xy points, copy matplotlib commands from my other file"
   ]
  },
  {
   "cell_type": "code",
   "execution_count": 323,
   "metadata": {
    "collapsed": false
   },
   "outputs": [],
   "source": [
    "if(np.max(np.abs(np.concatenate((np.diff(x),np.diff(y))))))>191:\n",
    "    print('ERROR: your file has a jump greater than 25.4 mm')\n",
    "    #return or bail out somehow--- need to check that this works\n",
    "    #not sure about concatenate here"
   ]
  },
  {
   "cell_type": "code",
   "execution_count": 324,
   "metadata": {
    "collapsed": true
   },
   "outputs": [],
   "source": [
    "#calc the differences dx and dy after scaling and roundoff\n",
    "dx=np.diff(x)\n",
    "dy=np.diff(y)"
   ]
  },
  {
   "cell_type": "code",
   "execution_count": 325,
   "metadata": {
    "collapsed": true
   },
   "outputs": [],
   "source": [
    "#shift any negative values to positive\n",
    "shiftxloc=np.where(dx<0) #where is like matlab find,  but can I do with lists somehow\n",
    "#except numpy.where can be used w/2 args for more versatility. with one arg\n",
    "#my result will be in xjumplocs[0]\n",
    "shiftxloc=shiftxloc[0]\n",
    "dx[shiftxloc]=dx[shiftxloc]+256\n"
   ]
  },
  {
   "cell_type": "code",
   "execution_count": 326,
   "metadata": {
    "collapsed": false
   },
   "outputs": [
    {
     "data": {
      "text/plain": [
       "array([ 247.,  242.,  238.,  234.,  230.,  228.,  226.,  226.,  228.,\n",
       "        230.,  234.,  238.,  242.,  247.,  253.,    3.,    8.,    6.,\n",
       "         16.,   17.,   20.,   15.,   12.,    3.,    0.,    0.,    0.,\n",
       "          0.,    0.,    0.,   24.,   26.,   25.,   25.,    0.,    0.,\n",
       "          0.,    0.,    0.,    0.,    0.,    0.,  255.,  248.,  243.,\n",
       "        238.,  241.,  237.,  241.,  247.,  254.,    4.,   11.,   16.,\n",
       "         19.,   19.,   16.,   11.,    3.,    1.,    0.,    4.,   11.,\n",
       "         16.,   19.,   19.,   16.,   11.,    4.,  253.])"
      ]
     },
     "execution_count": 326,
     "metadata": {},
     "output_type": "execute_result"
    }
   ],
   "source": [
    "dx"
   ]
  },
  {
   "cell_type": "code",
   "execution_count": 327,
   "metadata": {
    "collapsed": false
   },
   "outputs": [
    {
     "data": {
      "text/plain": [
       "array([  28.,   26.,   22.,   18.,   14.,    9.,    3.,  253.,  247.,\n",
       "        242.,  238.,  234.,  230.,  228.,  226.,  226.,  229.,  244.,\n",
       "        234.,  240.,  243.,  248.,  244.,  243.,  230.,  233.,  231.,\n",
       "        232.,  232.,  231.,    0.,    0.,    0.,    0.,   24.,   27.,\n",
       "         29.,   28.,   30.,   35.,   27.,    0.,   10.,   18.,   13.,\n",
       "          8.,    1.,    6.,   12.,   17.,   15.,   19.,   16.,   11.,\n",
       "          4.,  252.,  245.,  240.,  247.,  246.,    0.,  237.,  240.,\n",
       "        245.,  252.,    4.,   11.,   16.,   19.,   30.])"
      ]
     },
     "execution_count": 327,
     "metadata": {},
     "output_type": "execute_result"
    }
   ],
   "source": [
    "shiftyloc=np.where(dy<0)\n",
    "shiftyloc=shiftyloc[0]\n",
    "dy[shiftyloc]=dy[shiftyloc]+256\n",
    "#oops python has logical indexing like MATLAB this can save time http://stackoverflow.com/questions/12424824/how-i-can-i-conditionally-change-the-values-in-a-numpy-array-taking-into-account\n",
    "dy\n"
   ]
  },
  {
   "cell_type": "code",
   "execution_count": 328,
   "metadata": {
    "collapsed": false
   },
   "outputs": [
    {
     "data": {
      "text/plain": [
       "array([247, 242, 238, 234, 230, 228, 226, 226, 228, 230, 234, 238, 242,\n",
       "       247, 253,   3,   8,   6,  16,  17,  20,  15,  12,   3,   0,   0,\n",
       "         0,   0,   0,   0,  24,  26,  25,  25,   0,   0,   0,   0,   0,\n",
       "         0,   0,   0, 255, 248, 243, 238, 241, 237, 241, 247, 254,   4,\n",
       "        11,  16,  19,  19,  16,  11,   3,   1,   0,   4,  11,  16,  19,\n",
       "        19,  16,  11,   4, 253], dtype=uint8)"
      ]
     },
     "execution_count": 328,
     "metadata": {},
     "output_type": "execute_result"
    }
   ],
   "source": [
    "#cast the values into uint8 format which will round them off\n",
    "dx=np.uint8(dx)\n",
    "dy=np.uint8(dy)\n",
    "dx"
   ]
  },
  {
   "cell_type": "code",
   "execution_count": 330,
   "metadata": {
    "collapsed": true
   },
   "outputs": [],
   "source": [
    "#shift any dx or dy who is exactly 128, down to 127 or the machine will think this is a jump or color change\n",
    "#I dont think 128s will be present after the jumps and the bailout but here goes\n",
    "dx[dx==128]=127\n",
    "dy[dy==128]=127"
   ]
  },
  {
   "cell_type": "code",
   "execution_count": 331,
   "metadata": {
    "collapsed": false
   },
   "outputs": [],
   "source": [
    "#Iterate through dx and dy and insert jumps, designated by 128 in the exp format.\n",
    "origdx=dx\n",
    "origdy=dy\n",
    "dx=[]\n",
    "dy=[]\n",
    "for i in range(0,len(origdx)):\n",
    "    if (i+1) in xjumplocs or i in xjumplocs or (i+1) in yjumplocs or i in yjumplocs:\n",
    "        dx.append(128)\n",
    "        dy.append(2)\n",
    "    dx.append(origdx[i])\n",
    "    dy.append(origdy[i])\n"
   ]
  },
  {
   "cell_type": "code",
   "execution_count": 364,
   "metadata": {
    "collapsed": false
   },
   "outputs": [],
   "source": [
    "def autojump (x,y):\n",
    "    #jump to start from 0,0 and jump back to 0,0 from end\n",
    "    xstart=x[0]\n",
    "    ystart=y[0]\n",
    "    NBigXStart=np.fix(xstart/125)#how many 12.5 mm jumps to do\n",
    "    LittleXStart=xstart-125*NBigXStart#the rest of the stitch\n",
    "    NBigYStart=np.fix(ystart/125)\n",
    "    LittleYStart=ystart-125*NBigYStart\n",
    "    if xstart>0:#create jumps of the right sign\n",
    "        xBigStartJump=125\n",
    "        tidgitXstart=LittleXStart#the last little bit\n",
    "    else:\n",
    "        xBigStartJump=131#this means -125 aka -12.5 mm\n",
    "        tidgitXstart=256+LittleXStart#the last tillte bit is <0\n",
    "    if ystart>0:\n",
    "        yBigStartJump=125\n",
    "        tidgitYstart=LittleYStart\n",
    "    else:\n",
    "        yBigStartJup=131\n",
    "        tidgitYstart=256+LittleYStart\n",
    "    \n",
    "    jumpstart=[]#Doing all x, then all y jumps in case there are a different number\n",
    "    for j in range(0,int(np.floor(np.abs(NBigXStart)))):\n",
    "        jumpstart.extend([128,2,xBigStartJump,0])#big X jumps\n",
    "    jumpstart.extend([128,2,tidgitXstart,0])#that last x bit\n",
    "    for j in range(0,int(np.floor(np.abs(NBigYStart)))):\n",
    "        jumpstart.extend([128,2,0,yBigStartJump])#big Y jumps\n",
    "    jumpstart.extend([128,2,0,tidgitYstart])#last y bit\n",
    "    \n",
    "    #now repeat the process after the end of stitches to return to origin (then later draw bounding box)\n",
    "    xend=x[-1]\n",
    "    yend=y[-1]\n",
    "    NBigXEnd=np.fix(-xend/125)#minus sign from trying to get back to origin\n",
    "    LittleXEnd=-xend-125*NBigXEnd\n",
    "    NBigYEnd=np.fix(-yend/125)\n",
    "    LittleYEnd=-yend-125*NBigYEnd\n",
    "    \n",
    "    if (-xend>0):#create jumps of the right sign\n",
    "        xBigEndJump=125\n",
    "        tidgitXend=LittleXEnd#that last little bit\n",
    "    else:\n",
    "        xBigEndJump=131#this is -12.5 mm\n",
    "        tidgitXend=256+LittleXEnd #this means last little bit is <0\n",
    "    if(-yend>0):\n",
    "        yBigEndJump=125\n",
    "        tidgitYend=LittleYEnd\n",
    "    else:\n",
    "        yBigEndJump=131\n",
    "        tidgitYend=256+LittleYEnd\n",
    "        \n",
    "    #Jumpend works back to the origin\n",
    "    jumpend=[]\n",
    "    for j in range(0,int(np.floor(np.abs(NBigXEnd)))):\n",
    "        jumpend.extend([128,2,xBigEndJump,0])\n",
    "    jumpend.extend([128,2,tidgitXend,0])\n",
    "    for j in range(0,int(np.floor(np.abs(NBigYEnd)))):\n",
    "        jumpend.extend([128,2,0,yBigEndJump])\n",
    "    jumpend.extend([120,2,0,tidgitYend])\n",
    "    \n",
    "    jumpstart=np.uint8(jumpstart)\n",
    "    jumpend=np.uint8(jumpend)\n",
    "    return jumpstart, jumpend\n",
    "    "
   ]
  },
  {
   "cell_type": "code",
   "execution_count": 384,
   "metadata": {
    "collapsed": false
   },
   "outputs": [],
   "source": [
    "[JumpToStart,JumpToOrigin]=autojump(x,y) #test this out!!!\n"
   ]
  },
  {
   "cell_type": "code",
   "execution_count": null,
   "metadata": {
    "collapsed": true
   },
   "outputs": [],
   "source": [
    "#Have to interleave the x and y arrays like I did in MATLAB"
   ]
  },
  {
   "cell_type": "code",
   "execution_count": 382,
   "metadata": {
    "collapsed": false
   },
   "outputs": [],
   "source": [
    "def getborder():\n",
    "    #make a centered 9x9cm border to circumvent the \n",
    "    #PE525 embroidery machine's insistence on centering\n",
    "    #the data despite off-center bounding box bytes in the \n",
    "    #converted PES file. Usually would never stitch this bc we will make a color change\n",
    "    border=[128,2,131,131]\n",
    "    border.extend(border*2) #do 3 -12.5 mm x, -12.5 mm y jumps\n",
    "    border.extend([128,2,181,181])#then add a -7.5,-7.5mm jump to lower lef\n",
    "    border.extend([0,0])#do a stitch\n",
    "    for i in range (0,9):\n",
    "        border.extend([100,0])#9 regular stitches 10cm in x-direction\n",
    "    for i in range (0,9):\n",
    "        border.extend([0,100])#9 regular stitches 10cm in y-direction\n",
    "    for i in range (0,9):\n",
    "        border.extend([156,0])#9 regular stitches 10cm each in -x direction\n",
    "    for i in range (0,9):\n",
    "        border.extend([0,156])#9 regular stiches 10cm each in -y\n",
    "    borderbox=np.uint8(border)\n",
    "    return borderbox"
   ]
  },
  {
   "cell_type": "code",
   "execution_count": 385,
   "metadata": {
    "collapsed": false
   },
   "outputs": [],
   "source": [
    "colorchange=[128,1,0,0]\n",
    "border=getborder()"
   ]
  },
  {
   "cell_type": "code",
   "execution_count": 398,
   "metadata": {
    "collapsed": false
   },
   "outputs": [
    {
     "data": {
      "text/plain": [
       "[247, 28, 242, 26, 238, 22, 234, 18, 230, 14]"
      ]
     },
     "execution_count": 398,
     "metadata": {},
     "output_type": "execute_result"
    }
   ],
   "source": [
    "data=[]\n",
    "for i in range(0,5):\n",
    "    data.append(dx[i])\n",
    "    data.append(dy[i])\n",
    "data\n"
   ]
  },
  {
   "cell_type": "code",
   "execution_count": 400,
   "metadata": {
    "collapsed": false
   },
   "outputs": [
    {
     "data": {
      "text/plain": [
       "array([128,   2, 125,   0, 128,   2,  22,   0, 128,   2,   0,  30, 247,\n",
       "        28, 242,  26, 238,  22, 234,  18, 230,  14, 228,   9, 226,   3,\n",
       "       226, 253, 228, 247, 230, 242, 234, 238, 238, 234, 242, 230, 247,\n",
       "       228, 253, 226,   3, 226,   8, 229,   6, 244,  16, 234,  17, 240,\n",
       "        20, 243,  15, 248,  12, 244,   3, 243,   0, 230,   0, 233,   0,\n",
       "       231,   0, 232,   0, 232,   0, 231,  24,   0,  26,   0,  25,   0,\n",
       "        25,   0,   0,  24,   0,  27,   0,  29,   0,  28,   0,  30,   0,\n",
       "        35,   0,  27,   0,   0, 255,  10, 248,  18, 243,  13, 238,   8,\n",
       "       241,   1, 237,   6, 241,  12, 247,  17, 254,  15,   4,  19,  11,\n",
       "        16,  16,  11,  19,   4,  19, 252,  16, 245,  11, 240,   3, 247,\n",
       "         1, 246,   0,   0,   4, 237,  11, 240,  16, 245,  19, 252,  19,\n",
       "         4,  16,  11,  11,  16,   4,  19, 253,  30, 128,   2, 131,   0,\n",
       "       128,   2, 234,   0, 120,   2,   0, 226, 128,   1,   0,   0, 128,\n",
       "         2, 131, 131, 128,   2, 131, 131, 128,   2, 131, 131, 128,   2,\n",
       "       181, 181,   0,   0, 100,   0, 100,   0, 100,   0, 100,   0, 100,\n",
       "         0, 100,   0, 100,   0, 100,   0, 100,   0,   0, 100,   0, 100,\n",
       "         0, 100,   0, 100,   0, 100,   0, 100,   0, 100,   0, 100,   0,\n",
       "       100, 156,   0, 156,   0, 156,   0, 156,   0, 156,   0, 156,   0,\n",
       "       156,   0, 156,   0, 156,   0,   0, 156,   0, 156,   0, 156,   0,\n",
       "       156,   0, 156,   0, 156,   0, 156,   0, 156,   0, 156])"
      ]
     },
     "execution_count": 400,
     "metadata": {},
     "output_type": "execute_result"
    }
   ],
   "source": [
    "#Build the array in exp embroidery format -- Put the x and y vectors in a single interleaved vector format\n",
    "vx=JumpToStart\n",
    "xydata=[]\n",
    "for i in range (0,len(dx)):\n",
    "    xydata.append(dx[i])\n",
    "    xydata.append(dy[i])\n",
    "vx=np.concatenate((vx,xydata))\n",
    "vx=np.concatenate((vx,JumpToOrigin))\n",
    "vx=np.concatenate((vx,colorchange))\n",
    "vx=np.concatenate((vx,border))\n",
    "vx\n",
    "\n",
    "\n"
   ]
  },
  {
   "cell_type": "code",
   "execution_count": 402,
   "metadata": {
    "collapsed": true
   },
   "outputs": [],
   "source": [
    "#f=open('QuestionMark.exp','wb')\n",
    "#f.write(vx)\n",
    "vx.tofile('QuestionMark.exp')"
   ]
  },
  {
   "cell_type": "code",
   "execution_count": null,
   "metadata": {
    "collapsed": true
   },
   "outputs": [],
   "source": []
  }
 ],
 "metadata": {
  "kernelspec": {
   "display_name": "Python 2",
   "language": "python",
   "name": "python2"
  },
  "language_info": {
   "codemirror_mode": {
    "name": "ipython",
    "version": 2
   },
   "file_extension": ".py",
   "mimetype": "text/x-python",
   "name": "python",
   "nbconvert_exporter": "python",
   "pygments_lexer": "ipython2",
   "version": "2.7.11"
  },
  "widgets": {
   "state": {
    "0e5e2cb2bc7d4c8782bddbca239e13a5": {
     "views": []
    },
    "11f6711e278f430d915a72d837725847": {
     "views": []
    },
    "19b5303ca14740108460c6e2398952d3": {
     "views": []
    },
    "1de3e5cd314e4b0c84505251f967bbcd": {
     "views": []
    },
    "217037231ae3441ca619981f4eb7e8c5": {
     "views": []
    },
    "4bb0b705339a4844a0bdb0bb18a346a0": {
     "views": []
    },
    "809668fb55b94d16b45312023a6ef3df": {
     "views": []
    },
    "90d26286eedd4b32875f293fc76fc2ae": {
     "views": []
    },
    "94a46f7390244610b6ea1da77dbe6adb": {
     "views": []
    },
    "9afb0da7d3ab46099b2e21f33a8fd6c0": {
     "views": []
    },
    "a5b908251b304db691473ae66db0fdd3": {
     "views": []
    },
    "beeedf7d284b4522b256ef0a689f4bc0": {
     "views": []
    },
    "bf99c7d42caa4a7f8fcfe6cde6ea4883": {
     "views": []
    },
    "c71742ad990942aabc68e08cba12d823": {
     "views": []
    },
    "dccfdcb4952d4e39a79584d692a06e9c": {
     "views": []
    },
    "de468aa2bc594237ac8e747fe363db0c": {
     "views": []
    },
    "e4d279c4e3d8492a96c6b7fd620c5dbe": {
     "views": [
      {
       "cell_index": 1
      }
     ]
    },
    "f0683ad223b84d2e8d367a92912c9a5a": {
     "views": []
    },
    "fba44f3546384308b694bc91be861290": {
     "views": []
    },
    "fdfa51aa47c5462b81f7c92d97dee0b5": {
     "views": []
    }
   },
   "version": "1.1.2"
  }
 },
 "nbformat": 4,
 "nbformat_minor": 0
}
